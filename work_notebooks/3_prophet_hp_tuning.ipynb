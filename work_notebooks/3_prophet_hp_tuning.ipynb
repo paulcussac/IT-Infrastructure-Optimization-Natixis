{
 "cells": [
  {
   "cell_type": "code",
   "execution_count": null,
   "id": "3fcde766-e01f-4fed-bb15-e22bc6e172fd",
   "metadata": {},
   "outputs": [],
   "source": [
    "!pip install llvmlite --ignore-installed\n",
    "!pip install sktime\n",
    "!pip install prophet\n",
    "!pip install pystan==2.19.1.1\n",
    "!pip install fbprophet==0.7.1"
   ]
  },
  {
   "cell_type": "code",
   "execution_count": 1,
   "id": "b6103463-3f27-4312-b86e-8aa0de4344e6",
   "metadata": {},
   "outputs": [],
   "source": [
    "import pandas as pd\n",
    "import os\n",
    "import sktime\n",
    "import numpy as np\n",
    "import warnings\n",
    "import itertools\n",
    "from tqdm import tqdm\n",
    "\n",
    "from sktime.utils.plotting import plot_series\n",
    "from sktime.forecasting.model_selection import temporal_train_test_split\n",
    "\n",
    "import fbprophet\n",
    "from fbprophet import Prophet\n",
    "from fbprophet.plot import plot_plotly, plot_components_plotly, plot_yearly, plot_weekly, plot_cross_validation_metric\n",
    "from fbprophet.diagnostics import cross_validation, performance_metrics\n",
    "\n",
    "warnings.filterwarnings(\"ignore\")"
   ]
  },
  {
   "cell_type": "code",
   "execution_count": 2,
   "id": "3f7e793b-0a8f-4c65-bfe8-5354bed9afca",
   "metadata": {},
   "outputs": [],
   "source": [
    "path_root = \"/home/jovyan/hfactory_magic_folders/natixis_data_challenge_22_23/it_porto/Data/extraction\"\n",
    "path_cockpit = path_root + \"/cockpit_20221221.csv\"\n",
    "path_items_info = path_root + \"/item_info_20221221.csv\"\n",
    "path_items_trend = path_root + \"/item_trend_20221221.csv\"\n",
    "path_zabbix = path_root + \"/tmp_hosts_zabbix_20221221.csv\"\n",
    "path_mycloud =  path_root + \"/mycloud_20221221.csv\"\n",
    "\n",
    "cockpit = pd.read_csv(path_cockpit,index_col=0)\n",
    "items_info = pd.read_csv(path_items_info,index_col=0)\n",
    "items_trend = pd.read_csv(path_items_trend,index_col=0)\n",
    "zabbix = pd.read_csv(path_zabbix,index_col=0)\n",
    "mycloud = pd.read_csv(path_mycloud,index_col=0)"
   ]
  },
  {
   "cell_type": "code",
   "execution_count": 3,
   "id": "642311f3-e8db-4004-84ee-6d75af6c0aa7",
   "metadata": {},
   "outputs": [],
   "source": [
    "def preprocess(y):\n",
    "    y.reset_index()\n",
    "    y = y.rename(columns={'clock': 'ds', 'value_max':'y'})\n",
    "    y['ds'] = pd.to_datetime(y['ds'])\n",
    "    return(y)\n",
    "    \n",
    "def get_split(y, splitsize=0.3):\n",
    "    train, valid = temporal_train_test_split(y, test_size=0.3)\n",
    "    return(train, valid)"
   ]
  },
  {
   "cell_type": "code",
   "execution_count": 4,
   "id": "92a0760b-5a5d-4433-b825-b5461846f9f3",
   "metadata": {},
   "outputs": [],
   "source": [
    "def forecast(model, train, valid):\n",
    "    \"\"\"Fits a Prophet model to training data and makes forecasts on validation data.\n",
    "\n",
    "    Parameters\n",
    "    ----------\n",
    "    model : Prophet\n",
    "        Prophet model instantiated with the desired set of parameters.\n",
    "    train : pd.DataFrame\n",
    "        Training data, containing at least a date column (ds) and a target column (y).\n",
    "    valid : pd.DataFrame\n",
    "        Validation data, containing at least a date column (ds) and a target column (y).\n",
    "\n",
    "    Returns\n",
    "    -------\n",
    "    pd.DataFrame\n",
    "        Dataframe containing forecasts and ground truth on both training and validation data.\n",
    "    \"\"\"\n",
    "    \n",
    "    model.fit(train)\n",
    "    full_df = pd.concat([train, valid], axis=0)\n",
    "    pred = model.predict(full_df)\n",
    "    pred['y'] = np.array(full_df['y'])\n",
    "    return pred\n",
    "\n",
    "def evaluate(pred, valid):\n",
    "    \"\"\"Evaluates the performance of Prophet forecasts on validation data.\n",
    "\n",
    "    Parameters\n",
    "    ----------\n",
    "    pred : pd.DataFrame\n",
    "        Dataframe containing forecasts and ground truth on both training and validation data.\n",
    "    valid : pd.DataFrame\n",
    "        Validation data, containing at least a date column (ds) and a target column (y).\n",
    "\n",
    "    Returns\n",
    "    -------\n",
    "    dict\n",
    "        Performance on validation data (RMSE and MAPE).\n",
    "    \"\"\"\n",
    "    y_pred, y_true = np.array(pred[-len(valid):].yhat), np.array(pred[-len(valid):].y)\n",
    "    mask = y_true != 0\n",
    "    mape = np.mean(np.abs((y_true - y_pred) / y_true)[mask])\n",
    "    rmse = np.sqrt(((y_true - y_pred) ** 2)[mask].mean())\n",
    "    return {'RMSE': rmse, 'MAPE': mape}"
   ]
  },
  {
   "cell_type": "markdown",
   "id": "99214ae2-ef45-4dd3-a816-11cb96dcf0ff",
   "metadata": {},
   "source": [
    "# Cross validation"
   ]
  },
  {
   "cell_type": "code",
   "execution_count": 5,
   "id": "6b70df81-d40a-46fa-9eea-0fbdcc57e2f8",
   "metadata": {},
   "outputs": [],
   "source": [
    "grid_base = {'changepoint_prior_scale': [0.001, 0.1, 10]# List of values to test for changepoint_prior_scale ,\n",
    "        ,'changepoint_range': [0.5, 0.75, 1] # List of values to test for changepoint_range\n",
    "        , 'holidays_prior_scale' : [0.001, 0.1, 10]\n",
    "        , 'weekly_seasonality' : [True, False]\n",
    "        , 'daily_seasonality' : [True, False]\n",
    "        }\n",
    "\n",
    "def grid_search(grid = grid_base, train = None, valid = None):\n",
    "    \"\"\"Performs a grid search and shows the performance associated with all parameter combinations in the grid.\n",
    "\n",
    "    Parameters\n",
    "    ----------\n",
    "    grid : dict\n",
    "        Dictionary where keys are parameters names and values are lists of param values to be tested.\n",
    "    \"\"\"\n",
    "    RMSEs = []\n",
    "    combinations = [dict(zip(grid.keys(), i)) for i in itertools.product(*grid.values())]\n",
    "    eval_df = pd.DataFrame(combinations)\n",
    "    for params in combinations:\n",
    "        model = Prophet(**params)\n",
    "        pred = forecast(model, train, valid)\n",
    "        RMSEs.append(evaluate(pred, valid)['RMSE'])\n",
    "    eval_df['RMSE'] = RMSEs\n",
    "    #plot_grid_search(eval_df, grid)\n",
    "    return(eval_df)"
   ]
  },
  {
   "cell_type": "code",
   "execution_count": 21,
   "id": "5473ec6a-e174-41a7-95d0-10ac6d0e9188",
   "metadata": {},
   "outputs": [],
   "source": [
    "def optimize_timeseries(y, train_size=365):\n",
    "    y = preprocess(y)\n",
    "    train, valid = temporal_train_test_split(y, train_size = train_size)\n",
    "    eval_df = grid_search(grid_base, train=train, valid=valid)\n",
    "    return(eval_df)"
   ]
  },
  {
   "cell_type": "code",
   "execution_count": 22,
   "id": "3e8454e8-fbe6-4c5d-9408-679f92691da4",
   "metadata": {},
   "outputs": [],
   "source": [
    "# Going with an example"
   ]
  },
  {
   "cell_type": "code",
   "execution_count": null,
   "id": "45e63615-6a28-4d2f-853a-dfb496c986a4",
   "metadata": {},
   "outputs": [
    {
     "name": "stderr",
     "output_type": "stream",
     "text": [
      "INFO:fbprophet:Disabling yearly seasonality. Run prophet with yearly_seasonality=True to override this.\n"
     ]
    },
    {
     "name": "stdout",
     "output_type": "stream",
     "text": [
      "Initial log joint probability = -15.5\n",
      "    Iter      log prob        ||dx||      ||grad||       alpha      alpha0  # evals  Notes \n",
      "      99       455.013   3.50767e-07       5029.09      0.5068      0.5068      134   \n",
      "    Iter      log prob        ||dx||      ||grad||       alpha      alpha0  # evals  Notes \n",
      "     126       455.025   7.05127e-09       4640.32       0.296      0.6798      165   \n",
      "Optimization terminated normally: \n",
      "  Convergence detected: absolute parameter change was below tolerance\n"
     ]
    },
    {
     "name": "stderr",
     "output_type": "stream",
     "text": [
      "INFO:fbprophet:Disabling yearly seasonality. Run prophet with yearly_seasonality=True to override this.\n"
     ]
    },
    {
     "name": "stdout",
     "output_type": "stream",
     "text": [
      "Initial log joint probability = -15.5\n",
      "    Iter      log prob        ||dx||      ||grad||       alpha      alpha0  # evals  Notes \n",
      "      99       436.319    7.9814e-07       5196.22      0.5231      0.5231      136   \n",
      "    Iter      log prob        ||dx||      ||grad||       alpha      alpha0  # evals  Notes \n",
      "     141       436.358   1.10861e-06       4750.82   2.225e-10       0.001      230  LS failed, Hessian reset \n",
      "     163       436.363   8.02836e-09       4381.22      0.5545      0.5545      255   \n",
      "Optimization terminated normally: \n",
      "  Convergence detected: absolute parameter change was below tolerance\n"
     ]
    },
    {
     "name": "stderr",
     "output_type": "stream",
     "text": [
      "INFO:fbprophet:Disabling yearly seasonality. Run prophet with yearly_seasonality=True to override this.\n"
     ]
    },
    {
     "name": "stdout",
     "output_type": "stream",
     "text": [
      "Initial log joint probability = -15.5\n",
      "    Iter      log prob        ||dx||      ||grad||       alpha      alpha0  # evals  Notes \n",
      "      99       218.447    0.00288434       5070.71      0.5407      0.5407      125   \n",
      "    Iter      log prob        ||dx||      ||grad||       alpha      alpha0  # evals  Notes \n",
      "     150       231.335   0.000315208       5024.26   6.229e-08       0.001      235  LS failed, Hessian reset \n",
      "     199       233.076   9.49903e-08       4976.03     0.04885           1      297   \n",
      "    Iter      log prob        ||dx||      ||grad||       alpha      alpha0  # evals  Notes \n",
      "     216       233.078   7.73931e-09       5176.45      0.6084      0.6084      318   \n",
      "Optimization terminated normally: \n",
      "  Convergence detected: absolute parameter change was below tolerance\n"
     ]
    },
    {
     "name": "stderr",
     "output_type": "stream",
     "text": [
      "INFO:fbprophet:Disabling yearly seasonality. Run prophet with yearly_seasonality=True to override this.\n"
     ]
    },
    {
     "name": "stdout",
     "output_type": "stream",
     "text": [
      "Initial log joint probability = -15.5\n",
      "    Iter      log prob        ||dx||      ||grad||       alpha      alpha0  # evals  Notes \n",
      "      87       301.178   6.44802e-09       4747.24      0.3688      0.3688      109   \n",
      "Optimization terminated normally: \n",
      "  Convergence detected: absolute parameter change was below tolerance\n"
     ]
    },
    {
     "name": "stderr",
     "output_type": "stream",
     "text": [
      "INFO:fbprophet:Disabling yearly seasonality. Run prophet with yearly_seasonality=True to override this.\n"
     ]
    },
    {
     "name": "stdout",
     "output_type": "stream",
     "text": [
      "Initial log joint probability = -15.5\n",
      "    Iter      log prob        ||dx||      ||grad||       alpha      alpha0  # evals  Notes \n",
      "      99       455.013   3.50767e-07       5029.09      0.5068      0.5068      134   \n",
      "    Iter      log prob        ||dx||      ||grad||       alpha      alpha0  # evals  Notes \n",
      "     126       455.025   7.05127e-09       4640.32       0.296      0.6798      165   \n",
      "Optimization terminated normally: \n",
      "  Convergence detected: absolute parameter change was below tolerance\n"
     ]
    },
    {
     "name": "stderr",
     "output_type": "stream",
     "text": [
      "INFO:fbprophet:Disabling yearly seasonality. Run prophet with yearly_seasonality=True to override this.\n"
     ]
    },
    {
     "name": "stdout",
     "output_type": "stream",
     "text": [
      "Initial log joint probability = -15.5\n",
      "    Iter      log prob        ||dx||      ||grad||       alpha      alpha0  # evals  Notes \n",
      "      99       436.319    7.9814e-07       5196.22      0.5231      0.5231      136   \n",
      "    Iter      log prob        ||dx||      ||grad||       alpha      alpha0  # evals  Notes \n",
      "     141       436.358   1.10861e-06       4750.82   2.225e-10       0.001      230  LS failed, Hessian reset \n",
      "     163       436.363   8.02836e-09       4381.22      0.5545      0.5545      255   \n",
      "Optimization terminated normally: \n",
      "  Convergence detected: absolute parameter change was below tolerance\n"
     ]
    },
    {
     "name": "stderr",
     "output_type": "stream",
     "text": [
      "INFO:fbprophet:Disabling yearly seasonality. Run prophet with yearly_seasonality=True to override this.\n"
     ]
    },
    {
     "name": "stdout",
     "output_type": "stream",
     "text": [
      "Initial log joint probability = -15.5\n",
      "    Iter      log prob        ||dx||      ||grad||       alpha      alpha0  # evals  Notes \n",
      "      99       218.447    0.00288434       5070.71      0.5407      0.5407      125   \n",
      "    Iter      log prob        ||dx||      ||grad||       alpha      alpha0  # evals  Notes \n",
      "     150       231.335   0.000315208       5024.26   6.229e-08       0.001      235  LS failed, Hessian reset \n",
      "     199       233.076   9.49903e-08       4976.03     0.04885           1      297   \n",
      "    Iter      log prob        ||dx||      ||grad||       alpha      alpha0  # evals  Notes \n",
      "     216       233.078   7.73931e-09       5176.45      0.6084      0.6084      318   \n",
      "Optimization terminated normally: \n",
      "  Convergence detected: absolute parameter change was below tolerance\n"
     ]
    },
    {
     "name": "stderr",
     "output_type": "stream",
     "text": [
      "INFO:fbprophet:Disabling yearly seasonality. Run prophet with yearly_seasonality=True to override this.\n"
     ]
    },
    {
     "name": "stdout",
     "output_type": "stream",
     "text": [
      "Initial log joint probability = -15.5\n",
      "    Iter      log prob        ||dx||      ||grad||       alpha      alpha0  # evals  Notes \n",
      "      87       301.178   6.44802e-09       4747.24      0.3688      0.3688      109   \n",
      "Optimization terminated normally: \n",
      "  Convergence detected: absolute parameter change was below tolerance\n"
     ]
    },
    {
     "name": "stderr",
     "output_type": "stream",
     "text": [
      "INFO:fbprophet:Disabling yearly seasonality. Run prophet with yearly_seasonality=True to override this.\n"
     ]
    },
    {
     "name": "stdout",
     "output_type": "stream",
     "text": [
      "Initial log joint probability = -15.5\n",
      "    Iter      log prob        ||dx||      ||grad||       alpha      alpha0  # evals  Notes \n",
      "      99       455.013   3.50767e-07       5029.09      0.5068      0.5068      134   \n",
      "    Iter      log prob        ||dx||      ||grad||       alpha      alpha0  # evals  Notes \n",
      "     126       455.025   7.05127e-09       4640.32       0.296      0.6798      165   \n",
      "Optimization terminated normally: \n",
      "  Convergence detected: absolute parameter change was below tolerance\n"
     ]
    },
    {
     "name": "stderr",
     "output_type": "stream",
     "text": [
      "INFO:fbprophet:Disabling yearly seasonality. Run prophet with yearly_seasonality=True to override this.\n"
     ]
    },
    {
     "name": "stdout",
     "output_type": "stream",
     "text": [
      "Initial log joint probability = -15.5\n",
      "    Iter      log prob        ||dx||      ||grad||       alpha      alpha0  # evals  Notes \n",
      "      99       436.319    7.9814e-07       5196.22      0.5231      0.5231      136   \n",
      "    Iter      log prob        ||dx||      ||grad||       alpha      alpha0  # evals  Notes \n",
      "     141       436.358   1.10861e-06       4750.82   2.225e-10       0.001      230  LS failed, Hessian reset \n",
      "     163       436.363   8.02836e-09       4381.22      0.5545      0.5545      255   \n",
      "Optimization terminated normally: \n",
      "  Convergence detected: absolute parameter change was below tolerance\n"
     ]
    },
    {
     "name": "stderr",
     "output_type": "stream",
     "text": [
      "INFO:fbprophet:Disabling yearly seasonality. Run prophet with yearly_seasonality=True to override this.\n"
     ]
    },
    {
     "name": "stdout",
     "output_type": "stream",
     "text": [
      "Initial log joint probability = -15.5\n",
      "    Iter      log prob        ||dx||      ||grad||       alpha      alpha0  # evals  Notes \n",
      "      99       218.447    0.00288434       5070.71      0.5407      0.5407      125   \n",
      "    Iter      log prob        ||dx||      ||grad||       alpha      alpha0  # evals  Notes \n",
      "     150       231.335   0.000315208       5024.26   6.229e-08       0.001      235  LS failed, Hessian reset \n",
      "     199       233.076   9.49903e-08       4976.03     0.04885           1      297   \n",
      "    Iter      log prob        ||dx||      ||grad||       alpha      alpha0  # evals  Notes \n",
      "     216       233.078   7.73931e-09       5176.45      0.6084      0.6084      318   \n",
      "Optimization terminated normally: \n",
      "  Convergence detected: absolute parameter change was below tolerance\n"
     ]
    },
    {
     "name": "stderr",
     "output_type": "stream",
     "text": [
      "INFO:fbprophet:Disabling yearly seasonality. Run prophet with yearly_seasonality=True to override this.\n"
     ]
    },
    {
     "name": "stdout",
     "output_type": "stream",
     "text": [
      "Initial log joint probability = -15.5\n",
      "    Iter      log prob        ||dx||      ||grad||       alpha      alpha0  # evals  Notes \n",
      "      87       301.178   6.44802e-09       4747.24      0.3688      0.3688      109   \n",
      "Optimization terminated normally: \n",
      "  Convergence detected: absolute parameter change was below tolerance\n"
     ]
    },
    {
     "name": "stderr",
     "output_type": "stream",
     "text": [
      "INFO:fbprophet:Disabling yearly seasonality. Run prophet with yearly_seasonality=True to override this.\n"
     ]
    },
    {
     "name": "stdout",
     "output_type": "stream",
     "text": [
      "Initial log joint probability = -15.5\n",
      "    Iter      log prob        ||dx||      ||grad||       alpha      alpha0  # evals  Notes \n",
      "      99       280.655   0.000139184       5039.47      0.4927      0.4927      136   \n",
      "    Iter      log prob        ||dx||      ||grad||       alpha      alpha0  # evals  Notes \n",
      "     109       285.463     0.0010205        4970.4   1.994e-07       0.001      195  LS failed, Hessian reset \n",
      "     149       288.799   9.82761e-06       4899.41   1.946e-09       0.001      302  LS failed, Hessian reset \n",
      "     192       288.917   6.29861e-09       4982.42      0.4237      0.4237      352   \n",
      "Optimization terminated normally: \n",
      "  Convergence detected: absolute parameter change was below tolerance\n"
     ]
    },
    {
     "name": "stderr",
     "output_type": "stream",
     "text": [
      "INFO:fbprophet:Disabling yearly seasonality. Run prophet with yearly_seasonality=True to override this.\n"
     ]
    },
    {
     "name": "stdout",
     "output_type": "stream",
     "text": [
      "Initial log joint probability = -15.5\n",
      "    Iter      log prob        ||dx||      ||grad||       alpha      alpha0  # evals  Notes \n",
      "      99       433.411   6.14952e-07       4492.32           1           1      129   \n",
      "    Iter      log prob        ||dx||      ||grad||       alpha      alpha0  # evals  Notes \n",
      "     130       433.416    5.3129e-09       4387.74      0.3354      0.3354      167   \n",
      "Optimization terminated normally: \n",
      "  Convergence detected: absolute parameter change was below tolerance\n"
     ]
    },
    {
     "name": "stderr",
     "output_type": "stream",
     "text": [
      "INFO:fbprophet:Disabling yearly seasonality. Run prophet with yearly_seasonality=True to override this.\n"
     ]
    },
    {
     "name": "stdout",
     "output_type": "stream",
     "text": [
      "Initial log joint probability = -15.5\n",
      "    Iter      log prob        ||dx||      ||grad||       alpha      alpha0  # evals  Notes \n",
      "      71       200.023   4.73421e-09       4978.46      0.2004       0.423       92   \n",
      "Optimization terminated normally: \n",
      "  Convergence detected: absolute parameter change was below tolerance\n"
     ]
    },
    {
     "name": "stderr",
     "output_type": "stream",
     "text": [
      "INFO:fbprophet:Disabling yearly seasonality. Run prophet with yearly_seasonality=True to override this.\n"
     ]
    },
    {
     "name": "stdout",
     "output_type": "stream",
     "text": [
      "Initial log joint probability = -15.5\n",
      "    Iter      log prob        ||dx||      ||grad||       alpha      alpha0  # evals  Notes \n",
      "      93       302.304   9.77713e-09       4912.46      0.5953      0.5953      124   \n",
      "Optimization terminated normally: \n",
      "  Convergence detected: absolute parameter change was below tolerance\n"
     ]
    },
    {
     "name": "stderr",
     "output_type": "stream",
     "text": [
      "INFO:fbprophet:Disabling yearly seasonality. Run prophet with yearly_seasonality=True to override this.\n"
     ]
    },
    {
     "name": "stdout",
     "output_type": "stream",
     "text": [
      "Initial log joint probability = -15.5\n",
      "    Iter      log prob        ||dx||      ||grad||       alpha      alpha0  # evals  Notes \n",
      "      99       280.655   0.000139184       5039.47      0.4927      0.4927      136   \n",
      "    Iter      log prob        ||dx||      ||grad||       alpha      alpha0  # evals  Notes \n",
      "     109       285.463     0.0010205        4970.4   1.994e-07       0.001      195  LS failed, Hessian reset \n",
      "     149       288.799   9.82761e-06       4899.41   1.946e-09       0.001      302  LS failed, Hessian reset \n",
      "     192       288.917   6.29861e-09       4982.42      0.4237      0.4237      352   \n",
      "Optimization terminated normally: \n",
      "  Convergence detected: absolute parameter change was below tolerance\n"
     ]
    },
    {
     "name": "stderr",
     "output_type": "stream",
     "text": [
      "INFO:fbprophet:Disabling yearly seasonality. Run prophet with yearly_seasonality=True to override this.\n"
     ]
    },
    {
     "name": "stdout",
     "output_type": "stream",
     "text": [
      "Initial log joint probability = -15.5\n",
      "    Iter      log prob        ||dx||      ||grad||       alpha      alpha0  # evals  Notes \n",
      "      99       433.411   6.14952e-07       4492.32           1           1      129   \n",
      "    Iter      log prob        ||dx||      ||grad||       alpha      alpha0  # evals  Notes \n",
      "     130       433.416    5.3129e-09       4387.74      0.3354      0.3354      167   \n",
      "Optimization terminated normally: \n",
      "  Convergence detected: absolute parameter change was below tolerance\n"
     ]
    },
    {
     "name": "stderr",
     "output_type": "stream",
     "text": [
      "INFO:fbprophet:Disabling yearly seasonality. Run prophet with yearly_seasonality=True to override this.\n"
     ]
    },
    {
     "name": "stdout",
     "output_type": "stream",
     "text": [
      "Initial log joint probability = -15.5\n",
      "    Iter      log prob        ||dx||      ||grad||       alpha      alpha0  # evals  Notes \n",
      "      71       200.023   4.73421e-09       4978.46      0.2004       0.423       92   \n",
      "Optimization terminated normally: \n",
      "  Convergence detected: absolute parameter change was below tolerance\n"
     ]
    },
    {
     "name": "stderr",
     "output_type": "stream",
     "text": [
      "INFO:fbprophet:Disabling yearly seasonality. Run prophet with yearly_seasonality=True to override this.\n"
     ]
    },
    {
     "name": "stdout",
     "output_type": "stream",
     "text": [
      "Initial log joint probability = -15.5\n",
      "    Iter      log prob        ||dx||      ||grad||       alpha      alpha0  # evals  Notes \n",
      "      93       302.304   9.77713e-09       4912.46      0.5953      0.5953      124   \n",
      "Optimization terminated normally: \n",
      "  Convergence detected: absolute parameter change was below tolerance\n"
     ]
    },
    {
     "name": "stderr",
     "output_type": "stream",
     "text": [
      "INFO:fbprophet:Disabling yearly seasonality. Run prophet with yearly_seasonality=True to override this.\n"
     ]
    },
    {
     "name": "stdout",
     "output_type": "stream",
     "text": [
      "Initial log joint probability = -15.5\n",
      "    Iter      log prob        ||dx||      ||grad||       alpha      alpha0  # evals  Notes \n",
      "      99       280.655   0.000139184       5039.47      0.4927      0.4927      136   \n",
      "    Iter      log prob        ||dx||      ||grad||       alpha      alpha0  # evals  Notes \n",
      "     109       285.463     0.0010205        4970.4   1.994e-07       0.001      195  LS failed, Hessian reset \n",
      "     149       288.799   9.82761e-06       4899.41   1.946e-09       0.001      302  LS failed, Hessian reset \n",
      "     192       288.917   6.29861e-09       4982.42      0.4237      0.4237      352   \n",
      "Optimization terminated normally: \n",
      "  Convergence detected: absolute parameter change was below tolerance\n"
     ]
    },
    {
     "name": "stderr",
     "output_type": "stream",
     "text": [
      "INFO:fbprophet:Disabling yearly seasonality. Run prophet with yearly_seasonality=True to override this.\n"
     ]
    },
    {
     "name": "stdout",
     "output_type": "stream",
     "text": [
      "Initial log joint probability = -15.5\n",
      "    Iter      log prob        ||dx||      ||grad||       alpha      alpha0  # evals  Notes \n",
      "      99       433.411   6.14952e-07       4492.32           1           1      129   \n",
      "    Iter      log prob        ||dx||      ||grad||       alpha      alpha0  # evals  Notes \n",
      "     130       433.416    5.3129e-09       4387.74      0.3354      0.3354      167   \n",
      "Optimization terminated normally: \n",
      "  Convergence detected: absolute parameter change was below tolerance\n"
     ]
    },
    {
     "name": "stderr",
     "output_type": "stream",
     "text": [
      "INFO:fbprophet:Disabling yearly seasonality. Run prophet with yearly_seasonality=True to override this.\n"
     ]
    },
    {
     "name": "stdout",
     "output_type": "stream",
     "text": [
      "Initial log joint probability = -15.5\n",
      "    Iter      log prob        ||dx||      ||grad||       alpha      alpha0  # evals  Notes \n",
      "      71       200.023   4.73421e-09       4978.46      0.2004       0.423       92   \n",
      "Optimization terminated normally: \n",
      "  Convergence detected: absolute parameter change was below tolerance\n"
     ]
    },
    {
     "name": "stderr",
     "output_type": "stream",
     "text": [
      "INFO:fbprophet:Disabling yearly seasonality. Run prophet with yearly_seasonality=True to override this.\n"
     ]
    },
    {
     "name": "stdout",
     "output_type": "stream",
     "text": [
      "Initial log joint probability = -15.5\n",
      "    Iter      log prob        ||dx||      ||grad||       alpha      alpha0  # evals  Notes \n",
      "      93       302.304   9.77713e-09       4912.46      0.5953      0.5953      124   \n",
      "Optimization terminated normally: \n",
      "  Convergence detected: absolute parameter change was below tolerance\n"
     ]
    },
    {
     "name": "stderr",
     "output_type": "stream",
     "text": [
      "INFO:fbprophet:Disabling yearly seasonality. Run prophet with yearly_seasonality=True to override this.\n"
     ]
    },
    {
     "name": "stdout",
     "output_type": "stream",
     "text": [
      "Initial log joint probability = -15.5\n",
      "    Iter      log prob        ||dx||      ||grad||       alpha      alpha0  # evals  Notes \n",
      "      89       308.966   2.48673e-05       4897.97   5.031e-09       0.001      147  LS failed, Hessian reset \n",
      "      99       309.038   1.01895e-06       4834.65      0.5119      0.5119      159   \n",
      "    Iter      log prob        ||dx||      ||grad||       alpha      alpha0  # evals  Notes \n",
      "     116       309.043   7.87091e-09       4932.73      0.4443      0.4443      179   \n",
      "Optimization terminated normally: \n",
      "  Convergence detected: absolute parameter change was below tolerance\n"
     ]
    },
    {
     "name": "stderr",
     "output_type": "stream",
     "text": [
      "INFO:fbprophet:Disabling yearly seasonality. Run prophet with yearly_seasonality=True to override this.\n"
     ]
    },
    {
     "name": "stdout",
     "output_type": "stream",
     "text": [
      "Initial log joint probability = -15.5\n",
      "    Iter      log prob        ||dx||      ||grad||       alpha      alpha0  # evals  Notes \n",
      "      72       434.834   0.000151311       4690.18   3.601e-08       0.001      148  LS failed, Hessian reset \n",
      "      99       435.657    2.8834e-07       4100.65      0.2512      0.2512      186   \n",
      "    Iter      log prob        ||dx||      ||grad||       alpha      alpha0  # evals  Notes \n",
      "     111       435.784   3.14963e-05       4591.03   6.835e-09       0.001      237  LS failed, Hessian reset \n",
      "     188       437.078   7.27728e-09       4591.29      0.4965      0.4965      340   \n",
      "Optimization terminated normally: \n",
      "  Convergence detected: absolute parameter change was below tolerance\n"
     ]
    },
    {
     "name": "stderr",
     "output_type": "stream",
     "text": [
      "INFO:fbprophet:Disabling yearly seasonality. Run prophet with yearly_seasonality=True to override this.\n"
     ]
    },
    {
     "name": "stdout",
     "output_type": "stream",
     "text": [
      "Initial log joint probability = -15.5\n",
      "    Iter      log prob        ||dx||      ||grad||       alpha      alpha0  # evals  Notes \n",
      "      53        198.86   5.00379e-06       5018.03   1.016e-09       0.001      109  LS failed, Hessian reset \n",
      "      79       198.887   4.66198e-09       5034.35    0.002979           1      147   \n",
      "Optimization terminated normally: \n",
      "  Convergence detected: absolute parameter change was below tolerance\n"
     ]
    },
    {
     "name": "stderr",
     "output_type": "stream",
     "text": [
      "INFO:fbprophet:Disabling yearly seasonality. Run prophet with yearly_seasonality=True to override this.\n"
     ]
    },
    {
     "name": "stdout",
     "output_type": "stream",
     "text": [
      "Initial log joint probability = -15.5\n",
      "    Iter      log prob        ||dx||      ||grad||       alpha      alpha0  # evals  Notes \n",
      "      66       303.269   5.14398e-09       4812.09      0.3886      0.3886       87   \n",
      "Optimization terminated normally: \n",
      "  Convergence detected: absolute parameter change was below tolerance\n"
     ]
    },
    {
     "name": "stderr",
     "output_type": "stream",
     "text": [
      "INFO:fbprophet:Disabling yearly seasonality. Run prophet with yearly_seasonality=True to override this.\n"
     ]
    },
    {
     "name": "stdout",
     "output_type": "stream",
     "text": [
      "Initial log joint probability = -15.5\n",
      "    Iter      log prob        ||dx||      ||grad||       alpha      alpha0  # evals  Notes \n",
      "      89       308.966   2.48673e-05       4897.97   5.031e-09       0.001      147  LS failed, Hessian reset \n",
      "      99       309.038   1.01895e-06       4834.65      0.5119      0.5119      159   \n",
      "    Iter      log prob        ||dx||      ||grad||       alpha      alpha0  # evals  Notes \n",
      "     116       309.043   7.87091e-09       4932.73      0.4443      0.4443      179   \n",
      "Optimization terminated normally: \n",
      "  Convergence detected: absolute parameter change was below tolerance\n"
     ]
    },
    {
     "name": "stderr",
     "output_type": "stream",
     "text": [
      "INFO:fbprophet:Disabling yearly seasonality. Run prophet with yearly_seasonality=True to override this.\n"
     ]
    },
    {
     "name": "stdout",
     "output_type": "stream",
     "text": [
      "Initial log joint probability = -15.5\n",
      "    Iter      log prob        ||dx||      ||grad||       alpha      alpha0  # evals  Notes \n",
      "      72       434.834   0.000151311       4690.18   3.601e-08       0.001      148  LS failed, Hessian reset \n",
      "      99       435.657    2.8834e-07       4100.65      0.2512      0.2512      186   \n",
      "    Iter      log prob        ||dx||      ||grad||       alpha      alpha0  # evals  Notes \n",
      "     111       435.784   3.14963e-05       4591.03   6.835e-09       0.001      237  LS failed, Hessian reset \n",
      "     188       437.078   7.27728e-09       4591.29      0.4965      0.4965      340   \n",
      "Optimization terminated normally: \n",
      "  Convergence detected: absolute parameter change was below tolerance\n"
     ]
    },
    {
     "name": "stderr",
     "output_type": "stream",
     "text": [
      "INFO:fbprophet:Disabling yearly seasonality. Run prophet with yearly_seasonality=True to override this.\n"
     ]
    },
    {
     "name": "stdout",
     "output_type": "stream",
     "text": [
      "Initial log joint probability = -15.5\n",
      "    Iter      log prob        ||dx||      ||grad||       alpha      alpha0  # evals  Notes \n",
      "      53        198.86   5.00379e-06       5018.03   1.016e-09       0.001      109  LS failed, Hessian reset \n",
      "      79       198.887   4.66198e-09       5034.35    0.002979           1      147   \n",
      "Optimization terminated normally: \n",
      "  Convergence detected: absolute parameter change was below tolerance\n"
     ]
    },
    {
     "name": "stderr",
     "output_type": "stream",
     "text": [
      "INFO:fbprophet:Disabling yearly seasonality. Run prophet with yearly_seasonality=True to override this.\n"
     ]
    },
    {
     "name": "stdout",
     "output_type": "stream",
     "text": [
      "Initial log joint probability = -15.5\n",
      "    Iter      log prob        ||dx||      ||grad||       alpha      alpha0  # evals  Notes \n",
      "      66       303.269   5.14398e-09       4812.09      0.3886      0.3886       87   \n",
      "Optimization terminated normally: \n",
      "  Convergence detected: absolute parameter change was below tolerance\n"
     ]
    },
    {
     "name": "stderr",
     "output_type": "stream",
     "text": [
      "INFO:fbprophet:Disabling yearly seasonality. Run prophet with yearly_seasonality=True to override this.\n"
     ]
    },
    {
     "name": "stdout",
     "output_type": "stream",
     "text": [
      "Initial log joint probability = -15.5\n",
      "    Iter      log prob        ||dx||      ||grad||       alpha      alpha0  # evals  Notes \n",
      "      89       308.966   2.48673e-05       4897.97   5.031e-09       0.001      147  LS failed, Hessian reset \n",
      "      99       309.038   1.01895e-06       4834.65      0.5119      0.5119      159   \n",
      "    Iter      log prob        ||dx||      ||grad||       alpha      alpha0  # evals  Notes \n",
      "     116       309.043   7.87091e-09       4932.73      0.4443      0.4443      179   \n",
      "Optimization terminated normally: \n",
      "  Convergence detected: absolute parameter change was below tolerance\n"
     ]
    },
    {
     "name": "stderr",
     "output_type": "stream",
     "text": [
      "INFO:fbprophet:Disabling yearly seasonality. Run prophet with yearly_seasonality=True to override this.\n"
     ]
    },
    {
     "name": "stdout",
     "output_type": "stream",
     "text": [
      "Initial log joint probability = -15.5\n",
      "    Iter      log prob        ||dx||      ||grad||       alpha      alpha0  # evals  Notes \n",
      "      72       434.834   0.000151311       4690.18   3.601e-08       0.001      148  LS failed, Hessian reset \n",
      "      99       435.657    2.8834e-07       4100.65      0.2512      0.2512      186   \n",
      "    Iter      log prob        ||dx||      ||grad||       alpha      alpha0  # evals  Notes \n",
      "     111       435.784   3.14963e-05       4591.03   6.835e-09       0.001      237  LS failed, Hessian reset \n",
      "     188       437.078   7.27728e-09       4591.29      0.4965      0.4965      340   \n",
      "Optimization terminated normally: \n",
      "  Convergence detected: absolute parameter change was below tolerance\n"
     ]
    },
    {
     "name": "stderr",
     "output_type": "stream",
     "text": [
      "INFO:fbprophet:Disabling yearly seasonality. Run prophet with yearly_seasonality=True to override this.\n"
     ]
    },
    {
     "name": "stdout",
     "output_type": "stream",
     "text": [
      "Initial log joint probability = -15.5\n",
      "    Iter      log prob        ||dx||      ||grad||       alpha      alpha0  # evals  Notes \n",
      "      53        198.86   5.00379e-06       5018.03   1.016e-09       0.001      109  LS failed, Hessian reset \n",
      "      79       198.887   4.66198e-09       5034.35    0.002979           1      147   \n",
      "Optimization terminated normally: \n",
      "  Convergence detected: absolute parameter change was below tolerance\n"
     ]
    },
    {
     "name": "stderr",
     "output_type": "stream",
     "text": [
      "INFO:fbprophet:Disabling yearly seasonality. Run prophet with yearly_seasonality=True to override this.\n"
     ]
    },
    {
     "name": "stdout",
     "output_type": "stream",
     "text": [
      "Initial log joint probability = -15.5\n",
      "    Iter      log prob        ||dx||      ||grad||       alpha      alpha0  # evals  Notes \n",
      "      66       303.269   5.14398e-09       4812.09      0.3886      0.3886       87   \n",
      "Optimization terminated normally: \n",
      "  Convergence detected: absolute parameter change was below tolerance\n"
     ]
    },
    {
     "name": "stderr",
     "output_type": "stream",
     "text": [
      "INFO:fbprophet:Disabling yearly seasonality. Run prophet with yearly_seasonality=True to override this.\n"
     ]
    },
    {
     "name": "stdout",
     "output_type": "stream",
     "text": [
      "Initial log joint probability = -15.5\n",
      "    Iter      log prob        ||dx||      ||grad||       alpha      alpha0  # evals  Notes \n",
      "      99       566.651     0.0066147       85.1232      0.2532           1      130   \n",
      "    Iter      log prob        ||dx||      ||grad||       alpha      alpha0  # evals  Notes \n",
      "     104       566.775   0.000173842       26.8089   4.791e-06       0.001      169  LS failed, Hessian reset \n",
      "     180       568.305   0.000544743       54.0179   1.044e-05       0.001      298  LS failed, Hessian reset \n",
      "     199       568.714     0.0032297       45.4473           1           1      325   \n",
      "    Iter      log prob        ||dx||      ||grad||       alpha      alpha0  # evals  Notes \n",
      "     299       570.292   0.000161932       41.1571      0.4514      0.4514      445   \n",
      "    Iter      log prob        ||dx||      ||grad||       alpha      alpha0  # evals  Notes \n",
      "     318       570.484    0.00132215       46.6677   3.374e-05       0.001      509  LS failed, Hessian reset \n",
      "     363        570.57   0.000110396       34.4297   2.643e-06       0.001      607  LS failed, Hessian reset \n",
      "     399       570.572   2.53382e-06       34.9635      0.7796      0.7796      657   \n",
      "    Iter      log prob        ||dx||      ||grad||       alpha      alpha0  # evals  Notes \n",
      "     416       570.572   2.05987e-06       38.4488   4.692e-08       0.001      717  LS failed, Hessian reset \n",
      "     425       570.572   3.62014e-08        31.782      0.2668           1      730   \n",
      "Optimization terminated normally: \n",
      "  Convergence detected: relative gradient magnitude is below tolerance\n"
     ]
    },
    {
     "name": "stderr",
     "output_type": "stream",
     "text": [
      "INFO:fbprophet:Disabling yearly seasonality. Run prophet with yearly_seasonality=True to override this.\n"
     ]
    },
    {
     "name": "stdout",
     "output_type": "stream",
     "text": [
      "Initial log joint probability = -15.5\n",
      "    Iter      log prob        ||dx||      ||grad||       alpha      alpha0  # evals  Notes \n",
      "      99       566.889    0.00888587        42.117           1           1      129   \n",
      "    Iter      log prob        ||dx||      ||grad||       alpha      alpha0  # evals  Notes \n",
      "     170       569.593    0.00784494       53.9705   0.0001597       0.001      248  LS failed, Hessian reset \n",
      "     199       569.816    0.00074965       30.8922      0.7783      0.7783      284   \n",
      "    Iter      log prob        ||dx||      ||grad||       alpha      alpha0  # evals  Notes \n",
      "     241       569.965   0.000594421       38.2963   1.027e-05       0.001      368  LS failed, Hessian reset \n",
      "     299       570.132   1.28764e-05       28.4677           1           1      447   \n",
      "    Iter      log prob        ||dx||      ||grad||       alpha      alpha0  # evals  Notes \n",
      "     399       570.732   0.000153217        24.037      0.2937      0.2937      581   \n",
      "    Iter      log prob        ||dx||      ||grad||       alpha      alpha0  # evals  Notes \n",
      "     499        570.76   5.52328e-05       32.7848           1           1      728   \n",
      "    Iter      log prob        ||dx||      ||grad||       alpha      alpha0  # evals  Notes \n",
      "     532       570.763   1.88854e-05       29.1999   5.462e-07       0.001      814  LS failed, Hessian reset \n",
      "     599       570.769   0.000162346        29.749           1           1      906   \n",
      "    Iter      log prob        ||dx||      ||grad||       alpha      alpha0  # evals  Notes \n",
      "     696       570.774   1.16599e-06       35.6962   6.024e-08       0.001     1074  LS failed, Hessian reset \n",
      "     699       570.774   8.80208e-07       19.2197           1           1     1077   \n",
      "    Iter      log prob        ||dx||      ||grad||       alpha      alpha0  # evals  Notes \n",
      "     752       570.775   1.21028e-07       33.5348      0.2959      0.2959     1148   \n",
      "Optimization terminated normally: \n",
      "  Convergence detected: relative gradient magnitude is below tolerance\n"
     ]
    },
    {
     "name": "stderr",
     "output_type": "stream",
     "text": [
      "INFO:fbprophet:Disabling yearly seasonality. Run prophet with yearly_seasonality=True to override this.\n"
     ]
    },
    {
     "name": "stdout",
     "output_type": "stream",
     "text": [
      "Initial log joint probability = -15.5\n",
      "    Iter      log prob        ||dx||      ||grad||       alpha      alpha0  # evals  Notes \n",
      "      99       350.236    0.00835346       38.6734           1           1      128   \n",
      "    Iter      log prob        ||dx||      ||grad||       alpha      alpha0  # evals  Notes \n",
      "     106       350.319    0.00139632       43.3859   3.235e-05       0.001      180  LS failed, Hessian reset \n",
      "     187       350.389   4.73696e-06       37.2017   1.066e-07       0.001      329  LS failed, Hessian reset \n",
      "     199       350.389   5.52821e-07       25.4368      0.2621           1      347   \n",
      "    Iter      log prob        ||dx||      ||grad||       alpha      alpha0  # evals  Notes \n",
      "     209       350.389   5.73139e-08       37.3308      0.4185           1      361   \n",
      "Optimization terminated normally: \n",
      "  Convergence detected: relative gradient magnitude is below tolerance\n"
     ]
    },
    {
     "name": "stderr",
     "output_type": "stream",
     "text": [
      "INFO:fbprophet:Disabling yearly seasonality. Run prophet with yearly_seasonality=True to override this.\n"
     ]
    },
    {
     "name": "stdout",
     "output_type": "stream",
     "text": [
      "Initial log joint probability = -15.5\n",
      "    Iter      log prob        ||dx||      ||grad||       alpha      alpha0  # evals  Notes \n",
      "      84       350.336    0.00203058        37.981   4.847e-05       0.001      152  LS failed, Hessian reset \n",
      "      99       350.377   2.83184e-05       32.0962      0.5331      0.5331      171   \n",
      "    Iter      log prob        ||dx||      ||grad||       alpha      alpha0  # evals  Notes \n",
      "     187         350.4   0.000123395       41.1819   3.278e-06       0.001      319  LS failed, Hessian reset \n",
      "     199       350.409    0.00013764        38.016      0.7853      0.7853      333   \n",
      "    Iter      log prob        ||dx||      ||grad||       alpha      alpha0  # evals  Notes \n",
      "     235       350.411   1.71643e-08       37.0286      0.2217     0.06955      387   \n",
      "Optimization terminated normally: \n",
      "  Convergence detected: relative gradient magnitude is below tolerance\n"
     ]
    },
    {
     "name": "stderr",
     "output_type": "stream",
     "text": [
      "INFO:fbprophet:Disabling yearly seasonality. Run prophet with yearly_seasonality=True to override this.\n"
     ]
    },
    {
     "name": "stdout",
     "output_type": "stream",
     "text": [
      "Initial log joint probability = -15.5\n",
      "    Iter      log prob        ||dx||      ||grad||       alpha      alpha0  # evals  Notes \n",
      "      99       566.651     0.0066147       85.1232      0.2532           1      130   \n",
      "    Iter      log prob        ||dx||      ||grad||       alpha      alpha0  # evals  Notes \n",
      "     104       566.775   0.000173842       26.8089   4.791e-06       0.001      169  LS failed, Hessian reset \n",
      "     180       568.305   0.000544743       54.0179   1.044e-05       0.001      298  LS failed, Hessian reset \n",
      "     199       568.714     0.0032297       45.4473           1           1      325   \n",
      "    Iter      log prob        ||dx||      ||grad||       alpha      alpha0  # evals  Notes \n",
      "     299       570.292   0.000161932       41.1571      0.4514      0.4514      445   \n",
      "    Iter      log prob        ||dx||      ||grad||       alpha      alpha0  # evals  Notes \n",
      "     318       570.484    0.00132215       46.6677   3.374e-05       0.001      509  LS failed, Hessian reset \n",
      "     363        570.57   0.000110396       34.4297   2.643e-06       0.001      607  LS failed, Hessian reset \n",
      "     399       570.572   2.53382e-06       34.9635      0.7796      0.7796      657   \n",
      "    Iter      log prob        ||dx||      ||grad||       alpha      alpha0  # evals  Notes \n",
      "     416       570.572   2.05987e-06       38.4488   4.692e-08       0.001      717  LS failed, Hessian reset \n",
      "     425       570.572   3.62014e-08        31.782      0.2668           1      730   \n",
      "Optimization terminated normally: \n",
      "  Convergence detected: relative gradient magnitude is below tolerance\n"
     ]
    },
    {
     "name": "stderr",
     "output_type": "stream",
     "text": [
      "INFO:fbprophet:Disabling yearly seasonality. Run prophet with yearly_seasonality=True to override this.\n"
     ]
    },
    {
     "name": "stdout",
     "output_type": "stream",
     "text": [
      "Initial log joint probability = -15.5\n",
      "    Iter      log prob        ||dx||      ||grad||       alpha      alpha0  # evals  Notes \n",
      "      99       566.889    0.00888587        42.117           1           1      129   \n",
      "    Iter      log prob        ||dx||      ||grad||       alpha      alpha0  # evals  Notes \n",
      "     170       569.593    0.00784494       53.9705   0.0001597       0.001      248  LS failed, Hessian reset \n",
      "     199       569.816    0.00074965       30.8922      0.7783      0.7783      284   \n",
      "    Iter      log prob        ||dx||      ||grad||       alpha      alpha0  # evals  Notes \n",
      "     241       569.965   0.000594421       38.2963   1.027e-05       0.001      368  LS failed, Hessian reset \n",
      "     299       570.132   1.28764e-05       28.4677           1           1      447   \n",
      "    Iter      log prob        ||dx||      ||grad||       alpha      alpha0  # evals  Notes \n",
      "     399       570.732   0.000153217        24.037      0.2937      0.2937      581   \n",
      "    Iter      log prob        ||dx||      ||grad||       alpha      alpha0  # evals  Notes \n",
      "     499        570.76   5.52328e-05       32.7848           1           1      728   \n",
      "    Iter      log prob        ||dx||      ||grad||       alpha      alpha0  # evals  Notes \n",
      "     532       570.763   1.88854e-05       29.1999   5.462e-07       0.001      814  LS failed, Hessian reset \n",
      "     599       570.769   0.000162346        29.749           1           1      906   \n",
      "    Iter      log prob        ||dx||      ||grad||       alpha      alpha0  # evals  Notes \n",
      "     696       570.774   1.16599e-06       35.6962   6.024e-08       0.001     1074  LS failed, Hessian reset \n",
      "     699       570.774   8.80208e-07       19.2197           1           1     1077   \n",
      "    Iter      log prob        ||dx||      ||grad||       alpha      alpha0  # evals  Notes \n",
      "     752       570.775   1.21028e-07       33.5348      0.2959      0.2959     1148   \n",
      "Optimization terminated normally: \n",
      "  Convergence detected: relative gradient magnitude is below tolerance\n"
     ]
    },
    {
     "name": "stderr",
     "output_type": "stream",
     "text": [
      "INFO:fbprophet:Disabling yearly seasonality. Run prophet with yearly_seasonality=True to override this.\n"
     ]
    },
    {
     "name": "stdout",
     "output_type": "stream",
     "text": [
      "Initial log joint probability = -15.5\n",
      "    Iter      log prob        ||dx||      ||grad||       alpha      alpha0  # evals  Notes \n",
      "      99       350.236    0.00835346       38.6734           1           1      128   \n",
      "    Iter      log prob        ||dx||      ||grad||       alpha      alpha0  # evals  Notes \n",
      "     106       350.319    0.00139632       43.3859   3.235e-05       0.001      180  LS failed, Hessian reset \n",
      "     187       350.389   4.73696e-06       37.2017   1.066e-07       0.001      329  LS failed, Hessian reset \n",
      "     199       350.389   5.52821e-07       25.4368      0.2621           1      347   \n",
      "    Iter      log prob        ||dx||      ||grad||       alpha      alpha0  # evals  Notes \n",
      "     209       350.389   5.73139e-08       37.3308      0.4185           1      361   \n",
      "Optimization terminated normally: \n",
      "  Convergence detected: relative gradient magnitude is below tolerance\n"
     ]
    },
    {
     "name": "stderr",
     "output_type": "stream",
     "text": [
      "INFO:fbprophet:Disabling yearly seasonality. Run prophet with yearly_seasonality=True to override this.\n"
     ]
    },
    {
     "name": "stdout",
     "output_type": "stream",
     "text": [
      "Initial log joint probability = -15.5\n",
      "    Iter      log prob        ||dx||      ||grad||       alpha      alpha0  # evals  Notes \n",
      "      84       350.336    0.00203058        37.981   4.847e-05       0.001      152  LS failed, Hessian reset \n",
      "      99       350.377   2.83184e-05       32.0962      0.5331      0.5331      171   \n",
      "    Iter      log prob        ||dx||      ||grad||       alpha      alpha0  # evals  Notes \n",
      "     187         350.4   0.000123395       41.1819   3.278e-06       0.001      319  LS failed, Hessian reset \n",
      "     199       350.409    0.00013764        38.016      0.7853      0.7853      333   \n",
      "    Iter      log prob        ||dx||      ||grad||       alpha      alpha0  # evals  Notes \n",
      "     235       350.411   1.71643e-08       37.0286      0.2217     0.06955      387   \n",
      "Optimization terminated normally: \n",
      "  Convergence detected: relative gradient magnitude is below tolerance\n"
     ]
    },
    {
     "name": "stderr",
     "output_type": "stream",
     "text": [
      "INFO:fbprophet:Disabling yearly seasonality. Run prophet with yearly_seasonality=True to override this.\n"
     ]
    },
    {
     "name": "stdout",
     "output_type": "stream",
     "text": [
      "Initial log joint probability = -15.5\n",
      "    Iter      log prob        ||dx||      ||grad||       alpha      alpha0  # evals  Notes \n",
      "      99       566.651     0.0066147       85.1232      0.2532           1      130   \n",
      "    Iter      log prob        ||dx||      ||grad||       alpha      alpha0  # evals  Notes \n",
      "     104       566.775   0.000173842       26.8089   4.791e-06       0.001      169  LS failed, Hessian reset \n",
      "     180       568.305   0.000544743       54.0179   1.044e-05       0.001      298  LS failed, Hessian reset \n",
      "     199       568.714     0.0032297       45.4473           1           1      325   \n",
      "    Iter      log prob        ||dx||      ||grad||       alpha      alpha0  # evals  Notes \n",
      "     299       570.292   0.000161932       41.1571      0.4514      0.4514      445   \n",
      "    Iter      log prob        ||dx||      ||grad||       alpha      alpha0  # evals  Notes \n",
      "     318       570.484    0.00132215       46.6677   3.374e-05       0.001      509  LS failed, Hessian reset \n",
      "     363        570.57   0.000110396       34.4297   2.643e-06       0.001      607  LS failed, Hessian reset \n",
      "     399       570.572   2.53382e-06       34.9635      0.7796      0.7796      657   \n",
      "    Iter      log prob        ||dx||      ||grad||       alpha      alpha0  # evals  Notes \n",
      "     416       570.572   2.05987e-06       38.4488   4.692e-08       0.001      717  LS failed, Hessian reset \n",
      "     425       570.572   3.62014e-08        31.782      0.2668           1      730   \n",
      "Optimization terminated normally: \n",
      "  Convergence detected: relative gradient magnitude is below tolerance\n"
     ]
    },
    {
     "name": "stderr",
     "output_type": "stream",
     "text": [
      "INFO:fbprophet:Disabling yearly seasonality. Run prophet with yearly_seasonality=True to override this.\n"
     ]
    },
    {
     "name": "stdout",
     "output_type": "stream",
     "text": [
      "Initial log joint probability = -15.5\n",
      "    Iter      log prob        ||dx||      ||grad||       alpha      alpha0  # evals  Notes \n",
      "      99       566.889    0.00888587        42.117           1           1      129   \n",
      "    Iter      log prob        ||dx||      ||grad||       alpha      alpha0  # evals  Notes \n",
      "     170       569.593    0.00784494       53.9705   0.0001597       0.001      248  LS failed, Hessian reset \n",
      "     199       569.816    0.00074965       30.8922      0.7783      0.7783      284   \n",
      "    Iter      log prob        ||dx||      ||grad||       alpha      alpha0  # evals  Notes \n",
      "     241       569.965   0.000594421       38.2963   1.027e-05       0.001      368  LS failed, Hessian reset \n",
      "     299       570.132   1.28764e-05       28.4677           1           1      447   \n",
      "    Iter      log prob        ||dx||      ||grad||       alpha      alpha0  # evals  Notes \n",
      "     399       570.732   0.000153217        24.037      0.2937      0.2937      581   \n",
      "    Iter      log prob        ||dx||      ||grad||       alpha      alpha0  # evals  Notes \n",
      "     499        570.76   5.52328e-05       32.7848           1           1      728   \n",
      "    Iter      log prob        ||dx||      ||grad||       alpha      alpha0  # evals  Notes \n",
      "     532       570.763   1.88854e-05       29.1999   5.462e-07       0.001      814  LS failed, Hessian reset \n",
      "     599       570.769   0.000162346        29.749           1           1      906   \n",
      "    Iter      log prob        ||dx||      ||grad||       alpha      alpha0  # evals  Notes \n",
      "     696       570.774   1.16599e-06       35.6962   6.024e-08       0.001     1074  LS failed, Hessian reset \n",
      "     699       570.774   8.80208e-07       19.2197           1           1     1077   \n",
      "    Iter      log prob        ||dx||      ||grad||       alpha      alpha0  # evals  Notes \n",
      "     752       570.775   1.21028e-07       33.5348      0.2959      0.2959     1148   \n",
      "Optimization terminated normally: \n",
      "  Convergence detected: relative gradient magnitude is below tolerance\n"
     ]
    },
    {
     "name": "stderr",
     "output_type": "stream",
     "text": [
      "INFO:fbprophet:Disabling yearly seasonality. Run prophet with yearly_seasonality=True to override this.\n"
     ]
    },
    {
     "name": "stdout",
     "output_type": "stream",
     "text": [
      "Initial log joint probability = -15.5\n",
      "    Iter      log prob        ||dx||      ||grad||       alpha      alpha0  # evals  Notes \n",
      "      99       350.236    0.00835346       38.6734           1           1      128   \n",
      "    Iter      log prob        ||dx||      ||grad||       alpha      alpha0  # evals  Notes \n",
      "     106       350.319    0.00139632       43.3859   3.235e-05       0.001      180  LS failed, Hessian reset \n",
      "     187       350.389   4.73696e-06       37.2017   1.066e-07       0.001      329  LS failed, Hessian reset \n",
      "     199       350.389   5.52821e-07       25.4368      0.2621           1      347   \n",
      "    Iter      log prob        ||dx||      ||grad||       alpha      alpha0  # evals  Notes \n",
      "     209       350.389   5.73139e-08       37.3308      0.4185           1      361   \n",
      "Optimization terminated normally: \n",
      "  Convergence detected: relative gradient magnitude is below tolerance\n"
     ]
    },
    {
     "name": "stderr",
     "output_type": "stream",
     "text": [
      "INFO:fbprophet:Disabling yearly seasonality. Run prophet with yearly_seasonality=True to override this.\n"
     ]
    },
    {
     "name": "stdout",
     "output_type": "stream",
     "text": [
      "Initial log joint probability = -15.5\n",
      "    Iter      log prob        ||dx||      ||grad||       alpha      alpha0  # evals  Notes \n",
      "      84       350.336    0.00203058        37.981   4.847e-05       0.001      152  LS failed, Hessian reset \n",
      "      99       350.377   2.83184e-05       32.0962      0.5331      0.5331      171   \n",
      "    Iter      log prob        ||dx||      ||grad||       alpha      alpha0  # evals  Notes \n",
      "     187         350.4   0.000123395       41.1819   3.278e-06       0.001      319  LS failed, Hessian reset \n",
      "     199       350.409    0.00013764        38.016      0.7853      0.7853      333   \n",
      "    Iter      log prob        ||dx||      ||grad||       alpha      alpha0  # evals  Notes \n",
      "     235       350.411   1.71643e-08       37.0286      0.2217     0.06955      387   \n",
      "Optimization terminated normally: \n",
      "  Convergence detected: relative gradient magnitude is below tolerance\n"
     ]
    },
    {
     "name": "stderr",
     "output_type": "stream",
     "text": [
      "INFO:fbprophet:Disabling yearly seasonality. Run prophet with yearly_seasonality=True to override this.\n"
     ]
    },
    {
     "name": "stdout",
     "output_type": "stream",
     "text": [
      "Initial log joint probability = -15.5\n",
      "    Iter      log prob        ||dx||      ||grad||       alpha      alpha0  # evals  Notes \n",
      "      99       585.195   0.000172309       67.5918     0.01737           1      137   \n",
      "    Iter      log prob        ||dx||      ||grad||       alpha      alpha0  # evals  Notes \n",
      "     150       586.778    0.00046606        43.963   6.708e-06       0.001      270  LS failed, Hessian reset \n",
      "     199       587.035   9.46482e-05       41.3419      0.2724           1      328   \n",
      "    Iter      log prob        ||dx||      ||grad||       alpha      alpha0  # evals  Notes \n",
      "     291       587.191   0.000573372       52.5611    9.21e-06       0.001      495  LS failed, Hessian reset \n",
      "     299       587.218   0.000198596        32.836      0.9472      0.9472      503   \n",
      "    Iter      log prob        ||dx||      ||grad||       alpha      alpha0  # evals  Notes \n",
      "     399       587.264   8.42107e-05       39.6107     0.04208           1      640   \n",
      "    Iter      log prob        ||dx||      ||grad||       alpha      alpha0  # evals  Notes \n",
      "     442       587.272   6.78309e-05       30.1579   1.719e-06       0.001      738  LS failed, Hessian reset \n",
      "     499       587.275   5.00094e-06       39.8171           1           1      813   \n",
      "    Iter      log prob        ||dx||      ||grad||       alpha      alpha0  # evals  Notes \n",
      "     560       587.278   2.38369e-07       41.6243      0.3613           1      887   \n",
      "Optimization terminated normally: \n",
      "  Convergence detected: relative gradient magnitude is below tolerance\n"
     ]
    },
    {
     "name": "stderr",
     "output_type": "stream",
     "text": [
      "INFO:fbprophet:Disabling yearly seasonality. Run prophet with yearly_seasonality=True to override this.\n"
     ]
    },
    {
     "name": "stdout",
     "output_type": "stream",
     "text": [
      "Initial log joint probability = -15.5\n",
      "    Iter      log prob        ||dx||      ||grad||       alpha      alpha0  # evals  Notes \n",
      "      99        586.01    0.00270205       44.5573           1           1      131   \n",
      "    Iter      log prob        ||dx||      ||grad||       alpha      alpha0  # evals  Notes \n",
      "     118       586.744    0.00306688       103.882   6.881e-05       0.001      193  LS failed, Hessian reset \n",
      "     161        587.17   7.43787e-05       34.9952   2.024e-06       0.001      291  LS failed, Hessian reset \n",
      "     196       587.172   4.55813e-06       32.9747    1.02e-07       0.001      378  LS failed, Hessian reset \n",
      "     199       587.172   2.61328e-06       26.5158           1           1      382   \n",
      "    Iter      log prob        ||dx||      ||grad||       alpha      alpha0  # evals  Notes \n",
      "     213       587.173   2.20477e-08        31.845     0.06831           1      404   \n",
      "Optimization terminated normally: \n",
      "  Convergence detected: relative gradient magnitude is below tolerance\n"
     ]
    },
    {
     "name": "stderr",
     "output_type": "stream",
     "text": [
      "INFO:fbprophet:Disabling yearly seasonality. Run prophet with yearly_seasonality=True to override this.\n"
     ]
    },
    {
     "name": "stdout",
     "output_type": "stream",
     "text": [
      "Initial log joint probability = -15.5\n",
      "    Iter      log prob        ||dx||      ||grad||       alpha      alpha0  # evals  Notes \n",
      "      37       349.977    0.00333948       40.5442   0.0001256       0.001       84  LS failed, Hessian reset \n",
      "      75       350.202    0.00133091       28.0496   4.781e-05       0.001      167  LS failed, Hessian reset \n",
      "      99       350.232   7.63489e-05       29.2225           1           1      205   \n",
      "    Iter      log prob        ||dx||      ||grad||       alpha      alpha0  # evals  Notes \n",
      "     152       350.384   0.000526037       30.7183   1.279e-05       0.001      309  LS failed, Hessian reset \n",
      "     187        350.46    1.3561e-05       19.7516    4.26e-07       0.001      392  LS failed, Hessian reset \n",
      "     199        350.46   5.51024e-06       27.2512        3.76           1      411   \n",
      "    Iter      log prob        ||dx||      ||grad||       alpha      alpha0  # evals  Notes \n",
      "     204       350.461   1.71048e-05       30.0708   4.967e-07       0.001      456  LS failed, Hessian reset \n",
      "     249       350.462    1.9193e-05       31.8764     5.2e-07       0.001      558  LS failed, Hessian reset \n",
      "     277       350.463   9.58971e-07       33.1811    3.51e-08       0.001      638  LS failed, Hessian reset \n",
      "     287       350.463    2.6731e-08        26.269      0.2709           1      651   \n",
      "Optimization terminated normally: \n",
      "  Convergence detected: relative gradient magnitude is below tolerance\n"
     ]
    },
    {
     "name": "stderr",
     "output_type": "stream",
     "text": [
      "INFO:fbprophet:Disabling yearly seasonality. Run prophet with yearly_seasonality=True to override this.\n"
     ]
    },
    {
     "name": "stdout",
     "output_type": "stream",
     "text": [
      "Initial log joint probability = -15.5\n",
      "    Iter      log prob        ||dx||      ||grad||       alpha      alpha0  # evals  Notes \n",
      "      67       350.339    0.00353634        26.402   7.936e-05       0.001      146  LS failed, Hessian reset \n",
      "      99       350.396   1.45758e-05       26.2068           1           1      192   \n",
      "    Iter      log prob        ||dx||      ||grad||       alpha      alpha0  # evals  Notes \n",
      "     145       350.399   2.43106e-05       28.4238   7.577e-07       0.001      297  LS failed, Hessian reset \n",
      "     167         350.4   6.56573e-08       19.3308      0.9569      0.9569      329   \n",
      "Optimization terminated normally: \n",
      "  Convergence detected: relative gradient magnitude is below tolerance\n"
     ]
    },
    {
     "name": "stderr",
     "output_type": "stream",
     "text": [
      "INFO:fbprophet:Disabling yearly seasonality. Run prophet with yearly_seasonality=True to override this.\n"
     ]
    },
    {
     "name": "stdout",
     "output_type": "stream",
     "text": [
      "Initial log joint probability = -15.5\n",
      "    Iter      log prob        ||dx||      ||grad||       alpha      alpha0  # evals  Notes \n",
      "      99       585.195   0.000172309       67.5918     0.01737           1      137   \n",
      "    Iter      log prob        ||dx||      ||grad||       alpha      alpha0  # evals  Notes \n",
      "     150       586.778    0.00046606        43.963   6.708e-06       0.001      270  LS failed, Hessian reset \n",
      "     199       587.035   9.46482e-05       41.3419      0.2724           1      328   \n",
      "    Iter      log prob        ||dx||      ||grad||       alpha      alpha0  # evals  Notes \n",
      "     291       587.191   0.000573372       52.5611    9.21e-06       0.001      495  LS failed, Hessian reset \n",
      "     299       587.218   0.000198596        32.836      0.9472      0.9472      503   \n",
      "    Iter      log prob        ||dx||      ||grad||       alpha      alpha0  # evals  Notes \n",
      "     399       587.264   8.42107e-05       39.6107     0.04208           1      640   \n",
      "    Iter      log prob        ||dx||      ||grad||       alpha      alpha0  # evals  Notes \n",
      "     442       587.272   6.78309e-05       30.1579   1.719e-06       0.001      738  LS failed, Hessian reset \n",
      "     499       587.275   5.00094e-06       39.8171           1           1      813   \n",
      "    Iter      log prob        ||dx||      ||grad||       alpha      alpha0  # evals  Notes \n",
      "     560       587.278   2.38369e-07       41.6243      0.3613           1      887   \n",
      "Optimization terminated normally: \n",
      "  Convergence detected: relative gradient magnitude is below tolerance\n"
     ]
    },
    {
     "name": "stderr",
     "output_type": "stream",
     "text": [
      "INFO:fbprophet:Disabling yearly seasonality. Run prophet with yearly_seasonality=True to override this.\n"
     ]
    },
    {
     "name": "stdout",
     "output_type": "stream",
     "text": [
      "Initial log joint probability = -15.5\n",
      "    Iter      log prob        ||dx||      ||grad||       alpha      alpha0  # evals  Notes \n",
      "      99        586.01    0.00270205       44.5573           1           1      131   \n",
      "    Iter      log prob        ||dx||      ||grad||       alpha      alpha0  # evals  Notes \n",
      "     118       586.744    0.00306688       103.882   6.881e-05       0.001      193  LS failed, Hessian reset \n",
      "     161        587.17   7.43787e-05       34.9952   2.024e-06       0.001      291  LS failed, Hessian reset \n",
      "     196       587.172   4.55813e-06       32.9747    1.02e-07       0.001      378  LS failed, Hessian reset \n",
      "     199       587.172   2.61328e-06       26.5158           1           1      382   \n",
      "    Iter      log prob        ||dx||      ||grad||       alpha      alpha0  # evals  Notes \n",
      "     213       587.173   2.20477e-08        31.845     0.06831           1      404   \n",
      "Optimization terminated normally: \n",
      "  Convergence detected: relative gradient magnitude is below tolerance\n"
     ]
    },
    {
     "name": "stderr",
     "output_type": "stream",
     "text": [
      "INFO:fbprophet:Disabling yearly seasonality. Run prophet with yearly_seasonality=True to override this.\n"
     ]
    },
    {
     "name": "stdout",
     "output_type": "stream",
     "text": [
      "Initial log joint probability = -15.5\n",
      "    Iter      log prob        ||dx||      ||grad||       alpha      alpha0  # evals  Notes \n",
      "      37       349.977    0.00333948       40.5442   0.0001256       0.001       84  LS failed, Hessian reset \n",
      "      75       350.202    0.00133091       28.0496   4.781e-05       0.001      167  LS failed, Hessian reset \n",
      "      99       350.232   7.63489e-05       29.2225           1           1      205   \n",
      "    Iter      log prob        ||dx||      ||grad||       alpha      alpha0  # evals  Notes \n",
      "     152       350.384   0.000526037       30.7183   1.279e-05       0.001      309  LS failed, Hessian reset \n",
      "     187        350.46    1.3561e-05       19.7516    4.26e-07       0.001      392  LS failed, Hessian reset \n",
      "     199        350.46   5.51024e-06       27.2512        3.76           1      411   \n",
      "    Iter      log prob        ||dx||      ||grad||       alpha      alpha0  # evals  Notes \n",
      "     204       350.461   1.71048e-05       30.0708   4.967e-07       0.001      456  LS failed, Hessian reset \n",
      "     249       350.462    1.9193e-05       31.8764     5.2e-07       0.001      558  LS failed, Hessian reset \n",
      "     277       350.463   9.58971e-07       33.1811    3.51e-08       0.001      638  LS failed, Hessian reset \n",
      "     287       350.463    2.6731e-08        26.269      0.2709           1      651   \n",
      "Optimization terminated normally: \n",
      "  Convergence detected: relative gradient magnitude is below tolerance\n"
     ]
    },
    {
     "name": "stderr",
     "output_type": "stream",
     "text": [
      "INFO:fbprophet:Disabling yearly seasonality. Run prophet with yearly_seasonality=True to override this.\n"
     ]
    },
    {
     "name": "stdout",
     "output_type": "stream",
     "text": [
      "Initial log joint probability = -15.5\n",
      "    Iter      log prob        ||dx||      ||grad||       alpha      alpha0  # evals  Notes \n",
      "      67       350.339    0.00353634        26.402   7.936e-05       0.001      146  LS failed, Hessian reset \n",
      "      99       350.396   1.45758e-05       26.2068           1           1      192   \n",
      "    Iter      log prob        ||dx||      ||grad||       alpha      alpha0  # evals  Notes \n",
      "     145       350.399   2.43106e-05       28.4238   7.577e-07       0.001      297  LS failed, Hessian reset \n",
      "     167         350.4   6.56573e-08       19.3308      0.9569      0.9569      329   \n",
      "Optimization terminated normally: \n",
      "  Convergence detected: relative gradient magnitude is below tolerance\n"
     ]
    },
    {
     "name": "stderr",
     "output_type": "stream",
     "text": [
      "INFO:fbprophet:Disabling yearly seasonality. Run prophet with yearly_seasonality=True to override this.\n"
     ]
    },
    {
     "name": "stdout",
     "output_type": "stream",
     "text": [
      "Initial log joint probability = -15.5\n",
      "    Iter      log prob        ||dx||      ||grad||       alpha      alpha0  # evals  Notes \n",
      "      99       585.195   0.000172309       67.5918     0.01737           1      137   \n",
      "    Iter      log prob        ||dx||      ||grad||       alpha      alpha0  # evals  Notes \n",
      "     150       586.778    0.00046606        43.963   6.708e-06       0.001      270  LS failed, Hessian reset \n",
      "     199       587.035   9.46482e-05       41.3419      0.2724           1      328   \n",
      "    Iter      log prob        ||dx||      ||grad||       alpha      alpha0  # evals  Notes \n",
      "     291       587.191   0.000573372       52.5611    9.21e-06       0.001      495  LS failed, Hessian reset \n",
      "     299       587.218   0.000198596        32.836      0.9472      0.9472      503   \n",
      "    Iter      log prob        ||dx||      ||grad||       alpha      alpha0  # evals  Notes \n",
      "     399       587.264   8.42107e-05       39.6107     0.04208           1      640   \n",
      "    Iter      log prob        ||dx||      ||grad||       alpha      alpha0  # evals  Notes \n",
      "     442       587.272   6.78309e-05       30.1579   1.719e-06       0.001      738  LS failed, Hessian reset \n",
      "     499       587.275   5.00094e-06       39.8171           1           1      813   \n",
      "    Iter      log prob        ||dx||      ||grad||       alpha      alpha0  # evals  Notes \n",
      "     560       587.278   2.38369e-07       41.6243      0.3613           1      887   \n",
      "Optimization terminated normally: \n",
      "  Convergence detected: relative gradient magnitude is below tolerance\n"
     ]
    },
    {
     "name": "stderr",
     "output_type": "stream",
     "text": [
      "INFO:fbprophet:Disabling yearly seasonality. Run prophet with yearly_seasonality=True to override this.\n"
     ]
    },
    {
     "name": "stdout",
     "output_type": "stream",
     "text": [
      "Initial log joint probability = -15.5\n",
      "    Iter      log prob        ||dx||      ||grad||       alpha      alpha0  # evals  Notes \n",
      "      99        586.01    0.00270205       44.5573           1           1      131   \n",
      "    Iter      log prob        ||dx||      ||grad||       alpha      alpha0  # evals  Notes \n",
      "     118       586.744    0.00306688       103.882   6.881e-05       0.001      193  LS failed, Hessian reset \n",
      "     161        587.17   7.43787e-05       34.9952   2.024e-06       0.001      291  LS failed, Hessian reset \n",
      "     196       587.172   4.55813e-06       32.9747    1.02e-07       0.001      378  LS failed, Hessian reset \n",
      "     199       587.172   2.61328e-06       26.5158           1           1      382   \n",
      "    Iter      log prob        ||dx||      ||grad||       alpha      alpha0  # evals  Notes \n",
      "     213       587.173   2.20477e-08        31.845     0.06831           1      404   \n",
      "Optimization terminated normally: \n",
      "  Convergence detected: relative gradient magnitude is below tolerance\n"
     ]
    },
    {
     "name": "stderr",
     "output_type": "stream",
     "text": [
      "INFO:fbprophet:Disabling yearly seasonality. Run prophet with yearly_seasonality=True to override this.\n"
     ]
    },
    {
     "name": "stdout",
     "output_type": "stream",
     "text": [
      "Initial log joint probability = -15.5\n",
      "    Iter      log prob        ||dx||      ||grad||       alpha      alpha0  # evals  Notes \n",
      "      37       349.977    0.00333948       40.5442   0.0001256       0.001       84  LS failed, Hessian reset \n",
      "      75       350.202    0.00133091       28.0496   4.781e-05       0.001      167  LS failed, Hessian reset \n",
      "      99       350.232   7.63489e-05       29.2225           1           1      205   \n",
      "    Iter      log prob        ||dx||      ||grad||       alpha      alpha0  # evals  Notes \n",
      "     152       350.384   0.000526037       30.7183   1.279e-05       0.001      309  LS failed, Hessian reset \n",
      "     187        350.46    1.3561e-05       19.7516    4.26e-07       0.001      392  LS failed, Hessian reset \n",
      "     199        350.46   5.51024e-06       27.2512        3.76           1      411   \n",
      "    Iter      log prob        ||dx||      ||grad||       alpha      alpha0  # evals  Notes \n",
      "     204       350.461   1.71048e-05       30.0708   4.967e-07       0.001      456  LS failed, Hessian reset \n",
      "     249       350.462    1.9193e-05       31.8764     5.2e-07       0.001      558  LS failed, Hessian reset \n",
      "     277       350.463   9.58971e-07       33.1811    3.51e-08       0.001      638  LS failed, Hessian reset \n",
      "     287       350.463    2.6731e-08        26.269      0.2709           1      651   \n",
      "Optimization terminated normally: \n",
      "  Convergence detected: relative gradient magnitude is below tolerance\n"
     ]
    },
    {
     "name": "stderr",
     "output_type": "stream",
     "text": [
      "INFO:fbprophet:Disabling yearly seasonality. Run prophet with yearly_seasonality=True to override this.\n"
     ]
    },
    {
     "name": "stdout",
     "output_type": "stream",
     "text": [
      "Initial log joint probability = -15.5\n",
      "    Iter      log prob        ||dx||      ||grad||       alpha      alpha0  # evals  Notes \n",
      "      67       350.339    0.00353634        26.402   7.936e-05       0.001      146  LS failed, Hessian reset \n",
      "      99       350.396   1.45758e-05       26.2068           1           1      192   \n",
      "    Iter      log prob        ||dx||      ||grad||       alpha      alpha0  # evals  Notes \n",
      "     145       350.399   2.43106e-05       28.4238   7.577e-07       0.001      297  LS failed, Hessian reset \n",
      "     167         350.4   6.56573e-08       19.3308      0.9569      0.9569      329   \n",
      "Optimization terminated normally: \n",
      "  Convergence detected: relative gradient magnitude is below tolerance\n"
     ]
    },
    {
     "name": "stderr",
     "output_type": "stream",
     "text": [
      "INFO:fbprophet:Disabling yearly seasonality. Run prophet with yearly_seasonality=True to override this.\n"
     ]
    },
    {
     "name": "stdout",
     "output_type": "stream",
     "text": [
      "Initial log joint probability = -15.5\n",
      "    Iter      log prob        ||dx||      ||grad||       alpha      alpha0  # evals  Notes \n",
      "      99       583.379    0.00103136       30.6422      0.6704      0.6704      134   \n",
      "    Iter      log prob        ||dx||      ||grad||       alpha      alpha0  # evals  Notes \n",
      "     173       585.213   0.000787651       45.3856   2.243e-05       0.001      262  LS failed, Hessian reset \n",
      "     199       585.242   2.52373e-06       29.1952      0.3542           1      298   \n",
      "    Iter      log prob        ||dx||      ||grad||       alpha      alpha0  # evals  Notes \n",
      "     299       586.166    0.00320536       48.7616           1           1      419   \n",
      "    Iter      log prob        ||dx||      ||grad||       alpha      alpha0  # evals  Notes \n",
      "     302       586.184   0.000371349        41.718   1.144e-05       0.001      456  LS failed, Hessian reset \n",
      "     399       586.339    0.00940296       41.8819           1           1      582   \n",
      "    Iter      log prob        ||dx||      ||grad||       alpha      alpha0  # evals  Notes \n",
      "     410       587.029   0.000859116       69.7542   1.604e-05       0.001      646  LS failed, Hessian reset \n",
      "     499       587.918   5.60118e-06       30.0637      0.3157           1      764   \n",
      "    Iter      log prob        ||dx||      ||grad||       alpha      alpha0  # evals  Notes \n",
      "     509       587.925   0.000250993       54.8055   5.205e-06       0.001      817  LS failed, Hessian reset \n",
      "     543       587.931   1.93631e-07       29.6852           1           1      860   \n",
      "Optimization terminated normally: \n",
      "  Convergence detected: relative gradient magnitude is below tolerance\n"
     ]
    },
    {
     "name": "stderr",
     "output_type": "stream",
     "text": [
      "INFO:fbprophet:Disabling yearly seasonality. Run prophet with yearly_seasonality=True to override this.\n"
     ]
    },
    {
     "name": "stdout",
     "output_type": "stream",
     "text": [
      "Initial log joint probability = -15.5\n",
      "    Iter      log prob        ||dx||      ||grad||       alpha      alpha0  # evals  Notes \n",
      "      99       585.034      0.015596       53.0633      0.1667           1      128   \n",
      "    Iter      log prob        ||dx||      ||grad||       alpha      alpha0  # evals  Notes \n",
      "     131       586.007    0.00152886        65.144   3.077e-05       0.001      203  LS failed, Hessian reset \n",
      "     199        586.29     0.0017047       38.5571           1           1      284   \n",
      "    Iter      log prob        ||dx||      ||grad||       alpha      alpha0  # evals  Notes \n",
      "     269       587.372    0.00585123       43.4145    0.000159       0.001      405  LS failed, Hessian reset \n",
      "     299       588.086     0.0021312         34.26           1           1      439   \n",
      "    Iter      log prob        ||dx||      ||grad||       alpha      alpha0  # evals  Notes \n",
      "     336       588.121    0.00023712       34.4504   5.457e-06       0.001      527  LS failed, Hessian reset \n",
      "     399       588.131   3.76475e-05       34.4159       6.103      0.6103      605   \n",
      "    Iter      log prob        ||dx||      ||grad||       alpha      alpha0  # evals  Notes \n",
      "     413       588.144   0.000248877       39.9485   5.837e-06       0.001      665  LS failed, Hessian reset \n",
      "     458       588.154   7.36139e-08       23.4004           1           1      729   \n",
      "Optimization terminated normally: \n",
      "  Convergence detected: relative gradient magnitude is below tolerance\n"
     ]
    },
    {
     "name": "stderr",
     "output_type": "stream",
     "text": [
      "INFO:fbprophet:Disabling yearly seasonality. Run prophet with yearly_seasonality=True to override this.\n"
     ]
    },
    {
     "name": "stdout",
     "output_type": "stream",
     "text": [
      "Initial log joint probability = -15.5\n",
      "    Iter      log prob        ||dx||      ||grad||       alpha      alpha0  # evals  Notes \n",
      "      68       350.151    0.00209909       34.3271   4.865e-05       0.001      142  LS failed, Hessian reset \n",
      "      95       350.196    2.6576e-05       36.2964   8.314e-07       0.001      208  LS failed, Hessian reset \n",
      "      99       350.196   1.26158e-06       26.9842       0.207       0.207      213   \n",
      "    Iter      log prob        ||dx||      ||grad||       alpha      alpha0  # evals  Notes \n",
      "     119       350.197   9.50368e-07       36.1099   3.132e-08       0.001      276  LS failed, Hessian reset \n",
      "     131       350.197   3.36453e-08       34.4457      0.8664      0.8664      295   \n",
      "Optimization terminated normally: \n",
      "  Convergence detected: relative gradient magnitude is below tolerance\n"
     ]
    },
    {
     "name": "stderr",
     "output_type": "stream",
     "text": [
      "INFO:fbprophet:Disabling yearly seasonality. Run prophet with yearly_seasonality=True to override this.\n"
     ]
    },
    {
     "name": "stdout",
     "output_type": "stream",
     "text": [
      "Initial log joint probability = -15.5\n",
      "    Iter      log prob        ||dx||      ||grad||       alpha      alpha0  # evals  Notes \n",
      "      51       350.164     0.0021386       27.9686   6.363e-05       0.001      103  LS failed, Hessian reset \n",
      "      89        350.22   0.000196898       35.1694   5.934e-06       0.001      189  LS failed, Hessian reset \n",
      "      99       350.223   8.20438e-06       30.5538      0.8315      0.8315      202   \n",
      "    Iter      log prob        ||dx||      ||grad||       alpha      alpha0  # evals  Notes \n",
      "     113       350.227   6.45195e-05       40.8135   1.761e-06       0.001      264  LS failed, Hessian reset \n",
      "     181       350.264   0.000152109       24.9749   4.651e-06       0.001      397  LS failed, Hessian reset \n",
      "     199       350.268    2.6485e-06       38.1405     0.06903           1      423   \n",
      "    Iter      log prob        ||dx||      ||grad||       alpha      alpha0  # evals  Notes \n",
      "     281       350.427     0.0053022       40.6345   8.297e-05       0.001      597  LS failed, Hessian reset \n",
      "     299       350.503   7.32085e-06       34.7101      0.3301      0.3301      620   \n",
      "    Iter      log prob        ||dx||      ||grad||       alpha      alpha0  # evals  Notes \n",
      "     316       350.504   7.47738e-06       34.5136   1.893e-07       0.001      684  LS failed, Hessian reset \n",
      "     337       350.505   3.14063e-08       31.6659      0.0414           1      718   \n",
      "Optimization terminated normally: \n",
      "  Convergence detected: relative gradient magnitude is below tolerance\n"
     ]
    },
    {
     "name": "stderr",
     "output_type": "stream",
     "text": [
      "INFO:fbprophet:Disabling yearly seasonality. Run prophet with yearly_seasonality=True to override this.\n"
     ]
    },
    {
     "name": "stdout",
     "output_type": "stream",
     "text": [
      "Initial log joint probability = -15.5\n",
      "    Iter      log prob        ||dx||      ||grad||       alpha      alpha0  # evals  Notes \n",
      "      99       583.379    0.00103136       30.6422      0.6704      0.6704      134   \n",
      "    Iter      log prob        ||dx||      ||grad||       alpha      alpha0  # evals  Notes \n",
      "     173       585.213   0.000787651       45.3856   2.243e-05       0.001      262  LS failed, Hessian reset \n",
      "     199       585.242   2.52373e-06       29.1952      0.3542           1      298   \n",
      "    Iter      log prob        ||dx||      ||grad||       alpha      alpha0  # evals  Notes \n",
      "     299       586.166    0.00320536       48.7616           1           1      419   \n",
      "    Iter      log prob        ||dx||      ||grad||       alpha      alpha0  # evals  Notes \n",
      "     302       586.184   0.000371349        41.718   1.144e-05       0.001      456  LS failed, Hessian reset \n",
      "     399       586.339    0.00940296       41.8819           1           1      582   \n",
      "    Iter      log prob        ||dx||      ||grad||       alpha      alpha0  # evals  Notes \n",
      "     410       587.029   0.000859116       69.7542   1.604e-05       0.001      646  LS failed, Hessian reset \n",
      "     499       587.918   5.60118e-06       30.0637      0.3157           1      764   \n",
      "    Iter      log prob        ||dx||      ||grad||       alpha      alpha0  # evals  Notes \n",
      "     509       587.925   0.000250993       54.8055   5.205e-06       0.001      817  LS failed, Hessian reset \n",
      "     543       587.931   1.93631e-07       29.6852           1           1      860   \n",
      "Optimization terminated normally: \n",
      "  Convergence detected: relative gradient magnitude is below tolerance\n"
     ]
    },
    {
     "name": "stderr",
     "output_type": "stream",
     "text": [
      "INFO:fbprophet:Disabling yearly seasonality. Run prophet with yearly_seasonality=True to override this.\n"
     ]
    },
    {
     "name": "stdout",
     "output_type": "stream",
     "text": [
      "Initial log joint probability = -15.5\n",
      "    Iter      log prob        ||dx||      ||grad||       alpha      alpha0  # evals  Notes \n",
      "      99       585.034      0.015596       53.0633      0.1667           1      128   \n",
      "    Iter      log prob        ||dx||      ||grad||       alpha      alpha0  # evals  Notes \n",
      "     131       586.007    0.00152886        65.144   3.077e-05       0.001      203  LS failed, Hessian reset \n",
      "     199        586.29     0.0017047       38.5571           1           1      284   \n",
      "    Iter      log prob        ||dx||      ||grad||       alpha      alpha0  # evals  Notes \n",
      "     269       587.372    0.00585123       43.4145    0.000159       0.001      405  LS failed, Hessian reset \n",
      "     299       588.086     0.0021312         34.26           1           1      439   \n",
      "    Iter      log prob        ||dx||      ||grad||       alpha      alpha0  # evals  Notes \n",
      "     336       588.121    0.00023712       34.4504   5.457e-06       0.001      527  LS failed, Hessian reset \n",
      "     399       588.131   3.76475e-05       34.4159       6.103      0.6103      605   \n",
      "    Iter      log prob        ||dx||      ||grad||       alpha      alpha0  # evals  Notes \n",
      "     413       588.144   0.000248877       39.9485   5.837e-06       0.001      665  LS failed, Hessian reset \n",
      "     458       588.154   7.36139e-08       23.4004           1           1      729   \n",
      "Optimization terminated normally: \n",
      "  Convergence detected: relative gradient magnitude is below tolerance\n"
     ]
    },
    {
     "name": "stderr",
     "output_type": "stream",
     "text": [
      "INFO:fbprophet:Disabling yearly seasonality. Run prophet with yearly_seasonality=True to override this.\n"
     ]
    },
    {
     "name": "stdout",
     "output_type": "stream",
     "text": [
      "Initial log joint probability = -15.5\n",
      "    Iter      log prob        ||dx||      ||grad||       alpha      alpha0  # evals  Notes \n",
      "      68       350.151    0.00209909       34.3271   4.865e-05       0.001      142  LS failed, Hessian reset \n",
      "      95       350.196    2.6576e-05       36.2964   8.314e-07       0.001      208  LS failed, Hessian reset \n",
      "      99       350.196   1.26158e-06       26.9842       0.207       0.207      213   \n",
      "    Iter      log prob        ||dx||      ||grad||       alpha      alpha0  # evals  Notes \n",
      "     119       350.197   9.50368e-07       36.1099   3.132e-08       0.001      276  LS failed, Hessian reset \n",
      "     131       350.197   3.36453e-08       34.4457      0.8664      0.8664      295   \n",
      "Optimization terminated normally: \n",
      "  Convergence detected: relative gradient magnitude is below tolerance\n"
     ]
    },
    {
     "name": "stderr",
     "output_type": "stream",
     "text": [
      "INFO:fbprophet:Disabling yearly seasonality. Run prophet with yearly_seasonality=True to override this.\n"
     ]
    },
    {
     "name": "stdout",
     "output_type": "stream",
     "text": [
      "Initial log joint probability = -15.5\n",
      "    Iter      log prob        ||dx||      ||grad||       alpha      alpha0  # evals  Notes \n",
      "      51       350.164     0.0021386       27.9686   6.363e-05       0.001      103  LS failed, Hessian reset \n",
      "      89        350.22   0.000196898       35.1694   5.934e-06       0.001      189  LS failed, Hessian reset \n",
      "      99       350.223   8.20438e-06       30.5538      0.8315      0.8315      202   \n",
      "    Iter      log prob        ||dx||      ||grad||       alpha      alpha0  # evals  Notes \n",
      "     113       350.227   6.45195e-05       40.8135   1.761e-06       0.001      264  LS failed, Hessian reset \n",
      "     181       350.264   0.000152109       24.9749   4.651e-06       0.001      397  LS failed, Hessian reset \n",
      "     199       350.268    2.6485e-06       38.1405     0.06903           1      423   \n",
      "    Iter      log prob        ||dx||      ||grad||       alpha      alpha0  # evals  Notes \n",
      "     281       350.427     0.0053022       40.6345   8.297e-05       0.001      597  LS failed, Hessian reset \n",
      "     299       350.503   7.32085e-06       34.7101      0.3301      0.3301      620   \n",
      "    Iter      log prob        ||dx||      ||grad||       alpha      alpha0  # evals  Notes \n",
      "     316       350.504   7.47738e-06       34.5136   1.893e-07       0.001      684  LS failed, Hessian reset \n",
      "     337       350.505   3.14063e-08       31.6659      0.0414           1      718   \n",
      "Optimization terminated normally: \n",
      "  Convergence detected: relative gradient magnitude is below tolerance\n"
     ]
    },
    {
     "name": "stderr",
     "output_type": "stream",
     "text": [
      "INFO:fbprophet:Disabling yearly seasonality. Run prophet with yearly_seasonality=True to override this.\n"
     ]
    },
    {
     "name": "stdout",
     "output_type": "stream",
     "text": [
      "Initial log joint probability = -15.5\n",
      "    Iter      log prob        ||dx||      ||grad||       alpha      alpha0  # evals  Notes \n",
      "      99       583.379    0.00103136       30.6422      0.6704      0.6704      134   \n",
      "    Iter      log prob        ||dx||      ||grad||       alpha      alpha0  # evals  Notes \n",
      "     173       585.213   0.000787651       45.3856   2.243e-05       0.001      262  LS failed, Hessian reset \n",
      "     199       585.242   2.52373e-06       29.1952      0.3542           1      298   \n",
      "    Iter      log prob        ||dx||      ||grad||       alpha      alpha0  # evals  Notes \n",
      "     299       586.166    0.00320536       48.7616           1           1      419   \n",
      "    Iter      log prob        ||dx||      ||grad||       alpha      alpha0  # evals  Notes \n",
      "     302       586.184   0.000371349        41.718   1.144e-05       0.001      456  LS failed, Hessian reset \n",
      "     399       586.339    0.00940296       41.8819           1           1      582   \n",
      "    Iter      log prob        ||dx||      ||grad||       alpha      alpha0  # evals  Notes \n",
      "     410       587.029   0.000859116       69.7542   1.604e-05       0.001      646  LS failed, Hessian reset \n",
      "     499       587.918   5.60118e-06       30.0637      0.3157           1      764   \n",
      "    Iter      log prob        ||dx||      ||grad||       alpha      alpha0  # evals  Notes \n",
      "     509       587.925   0.000250993       54.8055   5.205e-06       0.001      817  LS failed, Hessian reset \n",
      "     543       587.931   1.93631e-07       29.6852           1           1      860   \n",
      "Optimization terminated normally: \n",
      "  Convergence detected: relative gradient magnitude is below tolerance\n"
     ]
    },
    {
     "name": "stderr",
     "output_type": "stream",
     "text": [
      "INFO:fbprophet:Disabling yearly seasonality. Run prophet with yearly_seasonality=True to override this.\n"
     ]
    },
    {
     "name": "stdout",
     "output_type": "stream",
     "text": [
      "Initial log joint probability = -15.5\n",
      "    Iter      log prob        ||dx||      ||grad||       alpha      alpha0  # evals  Notes \n",
      "      99       585.034      0.015596       53.0633      0.1667           1      128   \n",
      "    Iter      log prob        ||dx||      ||grad||       alpha      alpha0  # evals  Notes \n",
      "     131       586.007    0.00152886        65.144   3.077e-05       0.001      203  LS failed, Hessian reset \n",
      "     199        586.29     0.0017047       38.5571           1           1      284   \n",
      "    Iter      log prob        ||dx||      ||grad||       alpha      alpha0  # evals  Notes \n",
      "     269       587.372    0.00585123       43.4145    0.000159       0.001      405  LS failed, Hessian reset \n",
      "     299       588.086     0.0021312         34.26           1           1      439   \n",
      "    Iter      log prob        ||dx||      ||grad||       alpha      alpha0  # evals  Notes \n",
      "     336       588.121    0.00023712       34.4504   5.457e-06       0.001      527  LS failed, Hessian reset \n",
      "     399       588.131   3.76475e-05       34.4159       6.103      0.6103      605   \n",
      "    Iter      log prob        ||dx||      ||grad||       alpha      alpha0  # evals  Notes \n",
      "     413       588.144   0.000248877       39.9485   5.837e-06       0.001      665  LS failed, Hessian reset \n",
      "     458       588.154   7.36139e-08       23.4004           1           1      729   \n",
      "Optimization terminated normally: \n",
      "  Convergence detected: relative gradient magnitude is below tolerance\n"
     ]
    },
    {
     "name": "stderr",
     "output_type": "stream",
     "text": [
      "INFO:fbprophet:Disabling yearly seasonality. Run prophet with yearly_seasonality=True to override this.\n"
     ]
    },
    {
     "name": "stdout",
     "output_type": "stream",
     "text": [
      "Initial log joint probability = -15.5\n",
      "    Iter      log prob        ||dx||      ||grad||       alpha      alpha0  # evals  Notes \n",
      "      68       350.151    0.00209909       34.3271   4.865e-05       0.001      142  LS failed, Hessian reset \n",
      "      95       350.196    2.6576e-05       36.2964   8.314e-07       0.001      208  LS failed, Hessian reset \n",
      "      99       350.196   1.26158e-06       26.9842       0.207       0.207      213   \n",
      "    Iter      log prob        ||dx||      ||grad||       alpha      alpha0  # evals  Notes \n",
      "     119       350.197   9.50368e-07       36.1099   3.132e-08       0.001      276  LS failed, Hessian reset \n",
      "     131       350.197   3.36453e-08       34.4457      0.8664      0.8664      295   \n",
      "Optimization terminated normally: \n",
      "  Convergence detected: relative gradient magnitude is below tolerance\n"
     ]
    },
    {
     "name": "stderr",
     "output_type": "stream",
     "text": [
      "INFO:fbprophet:Disabling yearly seasonality. Run prophet with yearly_seasonality=True to override this.\n"
     ]
    },
    {
     "name": "stdout",
     "output_type": "stream",
     "text": [
      "Initial log joint probability = -15.5\n",
      "    Iter      log prob        ||dx||      ||grad||       alpha      alpha0  # evals  Notes \n",
      "      51       350.164     0.0021386       27.9686   6.363e-05       0.001      103  LS failed, Hessian reset \n",
      "      89        350.22   0.000196898       35.1694   5.934e-06       0.001      189  LS failed, Hessian reset \n",
      "      99       350.223   8.20438e-06       30.5538      0.8315      0.8315      202   \n",
      "    Iter      log prob        ||dx||      ||grad||       alpha      alpha0  # evals  Notes \n",
      "     113       350.227   6.45195e-05       40.8135   1.761e-06       0.001      264  LS failed, Hessian reset \n",
      "     181       350.264   0.000152109       24.9749   4.651e-06       0.001      397  LS failed, Hessian reset \n",
      "     199       350.268    2.6485e-06       38.1405     0.06903           1      423   \n",
      "    Iter      log prob        ||dx||      ||grad||       alpha      alpha0  # evals  Notes \n",
      "     281       350.427     0.0053022       40.6345   8.297e-05       0.001      597  LS failed, Hessian reset \n",
      "     299       350.503   7.32085e-06       34.7101      0.3301      0.3301      620   \n",
      "    Iter      log prob        ||dx||      ||grad||       alpha      alpha0  # evals  Notes \n",
      "     316       350.504   7.47738e-06       34.5136   1.893e-07       0.001      684  LS failed, Hessian reset \n",
      "     337       350.505   3.14063e-08       31.6659      0.0414           1      718   \n",
      "Optimization terminated normally: \n",
      "  Convergence detected: relative gradient magnitude is below tolerance\n"
     ]
    },
    {
     "name": "stderr",
     "output_type": "stream",
     "text": [
      "INFO:fbprophet:Disabling yearly seasonality. Run prophet with yearly_seasonality=True to override this.\n"
     ]
    },
    {
     "name": "stdout",
     "output_type": "stream",
     "text": [
      "Initial log joint probability = -15.5\n",
      "    Iter      log prob        ||dx||      ||grad||       alpha      alpha0  # evals  Notes \n",
      "      99       623.788      0.110271       47.0845           1           1      120   \n",
      "    Iter      log prob        ||dx||      ||grad||       alpha      alpha0  # evals  Notes \n",
      "     199       635.553    0.00719481       21.3157      0.8582      0.8582      227   \n",
      "    Iter      log prob        ||dx||      ||grad||       alpha      alpha0  # evals  Notes \n",
      "     299       638.903     0.0173963       16.3015           1           1      346   \n",
      "    Iter      log prob        ||dx||      ||grad||       alpha      alpha0  # evals  Notes \n",
      "     399        639.88    0.00049382       6.99978      0.8435      0.8435      455   \n",
      "    Iter      log prob        ||dx||      ||grad||       alpha      alpha0  # evals  Notes \n",
      "     499       640.392    0.00238777       11.3647      0.9917     0.09917      572   \n",
      "    Iter      log prob        ||dx||      ||grad||       alpha      alpha0  # evals  Notes \n",
      "     599       641.615    0.00546871       6.08019           1           1      680   \n",
      "    Iter      log prob        ||dx||      ||grad||       alpha      alpha0  # evals  Notes \n",
      "     699       642.172      0.059079       14.5951      0.3263           1      791   \n",
      "    Iter      log prob        ||dx||      ||grad||       alpha      alpha0  # evals  Notes \n",
      "     799        642.48       0.01101       6.42395           1           1      908   \n",
      "    Iter      log prob        ||dx||      ||grad||       alpha      alpha0  # evals  Notes \n",
      "     899       643.009    0.00350847       4.18818           1           1     1029   \n",
      "    Iter      log prob        ||dx||      ||grad||       alpha      alpha0  # evals  Notes \n",
      "     999       643.047   0.000207626        3.9236      0.4169           1     1138   \n",
      "    Iter      log prob        ||dx||      ||grad||       alpha      alpha0  # evals  Notes \n",
      "    1099       643.095    0.00329042       1.74485           1           1     1250   \n",
      "    Iter      log prob        ||dx||      ||grad||       alpha      alpha0  # evals  Notes \n",
      "    1199        643.14     0.0016855       4.03194      0.2187      0.2187     1372   \n",
      "    Iter      log prob        ||dx||      ||grad||       alpha      alpha0  # evals  Notes \n",
      "    1299       643.335      0.114815       14.9489           1           1     1485   \n",
      "    Iter      log prob        ||dx||      ||grad||       alpha      alpha0  # evals  Notes \n",
      "    1399       643.434   0.000428291       1.75765           1           1     1593   \n",
      "    Iter      log prob        ||dx||      ||grad||       alpha      alpha0  # evals  Notes \n",
      "    1499       643.505   0.000524177       4.62463      0.3302           1     1709   \n",
      "    Iter      log prob        ||dx||      ||grad||       alpha      alpha0  # evals  Notes \n",
      "    1581       643.579   5.18057e-05       6.71096   6.434e-06       0.001     1835  LS failed, Hessian reset \n",
      "    1599       643.585   0.000759654       1.54857           1           1     1855   \n",
      "    Iter      log prob        ||dx||      ||grad||       alpha      alpha0  # evals  Notes \n",
      "    1699       643.626     0.0192758       10.8426      0.6996      0.6996     1966   \n",
      "    Iter      log prob        ||dx||      ||grad||       alpha      alpha0  # evals  Notes \n",
      "    1707        643.63   1.38058e-05       1.23029   4.037e-06       0.001     2012  LS failed, Hessian reset \n",
      "    1783       643.672   4.54536e-06      0.469598    4.27e-06       0.001     2142  LS failed, Hessian reset \n",
      "Optimization terminated normally: \n",
      "  Convergence detected: relative gradient magnitude is below tolerance\n"
     ]
    },
    {
     "name": "stderr",
     "output_type": "stream",
     "text": [
      "INFO:fbprophet:Disabling yearly seasonality. Run prophet with yearly_seasonality=True to override this.\n"
     ]
    },
    {
     "name": "stdout",
     "output_type": "stream",
     "text": [
      "Initial log joint probability = -15.5\n",
      "    Iter      log prob        ||dx||      ||grad||       alpha      alpha0  # evals  Notes \n",
      "      99       633.056     0.0189914        19.626           1           1      113   \n",
      "    Iter      log prob        ||dx||      ||grad||       alpha      alpha0  # evals  Notes \n",
      "     199       637.759     0.0189406       20.3916           1           1      224   \n",
      "    Iter      log prob        ||dx||      ||grad||       alpha      alpha0  # evals  Notes \n",
      "     299        640.33     0.0159373       14.9268           1           1      337   \n",
      "    Iter      log prob        ||dx||      ||grad||       alpha      alpha0  # evals  Notes \n",
      "     399        641.15    0.00188609       6.44544           1           1      461   \n",
      "    Iter      log prob        ||dx||      ||grad||       alpha      alpha0  # evals  Notes \n",
      "     499       641.705     0.0140747       16.9241           1           1      577   \n",
      "    Iter      log prob        ||dx||      ||grad||       alpha      alpha0  # evals  Notes \n",
      "     599       642.629     0.0943646       39.6978           1           1      693   \n",
      "    Iter      log prob        ||dx||      ||grad||       alpha      alpha0  # evals  Notes \n",
      "     699       642.817     0.0159593       6.87397           1           1      798   \n",
      "    Iter      log prob        ||dx||      ||grad||       alpha      alpha0  # evals  Notes \n",
      "     799       642.968    0.00084256       2.78942           1           1      913   \n",
      "    Iter      log prob        ||dx||      ||grad||       alpha      alpha0  # evals  Notes \n",
      "     899       643.132     0.0710191        21.514           1           1     1037   \n",
      "    Iter      log prob        ||dx||      ||grad||       alpha      alpha0  # evals  Notes \n",
      "     999        643.24   0.000284669      0.739163           1           1     1154   \n",
      "    Iter      log prob        ||dx||      ||grad||       alpha      alpha0  # evals  Notes \n",
      "    1099       643.281    0.00023878      0.414139           1           1     1276   \n",
      "    Iter      log prob        ||dx||      ||grad||       alpha      alpha0  # evals  Notes \n",
      "    1199       643.447     0.0322317       5.32185           1           1     1394   \n",
      "    Iter      log prob        ||dx||      ||grad||       alpha      alpha0  # evals  Notes \n",
      "    1299       643.559   0.000227564       4.01745     0.04344           1     1506   \n",
      "    Iter      log prob        ||dx||      ||grad||       alpha      alpha0  # evals  Notes \n",
      "    1399       643.635    0.00243518       2.51997           1           1     1627   \n",
      "    Iter      log prob        ||dx||      ||grad||       alpha      alpha0  # evals  Notes \n",
      "    1499       643.684     0.0216656       9.31808           1           1     1744   \n",
      "    Iter      log prob        ||dx||      ||grad||       alpha      alpha0  # evals  Notes \n",
      "    1599       643.731    0.00376211       5.02487      0.4503     0.04503     1864   \n",
      "    Iter      log prob        ||dx||      ||grad||       alpha      alpha0  # evals  Notes \n",
      "    1699       643.757   0.000253773       1.04374           1           1     1976   \n",
      "    Iter      log prob        ||dx||      ||grad||       alpha      alpha0  # evals  Notes \n",
      "    1799       643.814    0.00295599       1.83544           1           1     2089   \n",
      "    Iter      log prob        ||dx||      ||grad||       alpha      alpha0  # evals  Notes \n",
      "    1809       643.816   9.12516e-05       3.64203   8.296e-05       0.001     2129  LS failed, Hessian reset \n",
      "    1850       643.833    2.1101e-05      0.549345   6.276e-06       0.001     2211  LS failed, Hessian reset \n",
      "    1885       643.841   3.77929e-05        1.3926   7.083e-05       0.001     2290  LS failed, Hessian reset \n",
      "    1899       643.842   0.000612146       2.08968     0.03116           1     2308   \n",
      "    Iter      log prob        ||dx||      ||grad||       alpha      alpha0  # evals  Notes \n",
      "    1999       643.857   0.000273273      0.655393           1           1     2422   \n",
      "    Iter      log prob        ||dx||      ||grad||       alpha      alpha0  # evals  Notes \n",
      "    2099       643.872    0.00261306       1.60226      0.5697      0.5697     2531   \n",
      "    Iter      log prob        ||dx||      ||grad||       alpha      alpha0  # evals  Notes \n",
      "    2199       644.051     0.0128107       16.1527      0.5588      0.5588     2647   \n",
      "    Iter      log prob        ||dx||      ||grad||       alpha      alpha0  # evals  Notes \n",
      "    2299       644.191   0.000206546      0.975663      0.8961      0.8961     2764   \n",
      "    Iter      log prob        ||dx||      ||grad||       alpha      alpha0  # evals  Notes \n",
      "    2399       644.257    0.00104873       1.98749           1           1     2880   \n",
      "    Iter      log prob        ||dx||      ||grad||       alpha      alpha0  # evals  Notes \n",
      "    2499       644.304    0.00251834       2.39713           1           1     3000   \n",
      "    Iter      log prob        ||dx||      ||grad||       alpha      alpha0  # evals  Notes \n",
      "    2599       644.325    0.00512022       7.46932      0.6511           1     3113   \n",
      "    Iter      log prob        ||dx||      ||grad||       alpha      alpha0  # evals  Notes \n",
      "    2676       644.333   2.02873e-05       1.16108   3.672e-05       0.001     3259  LS failed, Hessian reset \n",
      "    2699       644.336   0.000109818      0.796622           1           1     3283   \n",
      "    Iter      log prob        ||dx||      ||grad||       alpha      alpha0  # evals  Notes \n",
      "    2799       644.346   0.000796398       1.14823           1           1     3415   \n",
      "    Iter      log prob        ||dx||      ||grad||       alpha      alpha0  # evals  Notes \n",
      "    2899        644.35    0.00461919       2.59891           1           1     3534   \n",
      "    Iter      log prob        ||dx||      ||grad||       alpha      alpha0  # evals  Notes \n",
      "    2999       644.367     0.0525738       6.40261      0.8741      0.8741     3648   \n",
      "    Iter      log prob        ||dx||      ||grad||       alpha      alpha0  # evals  Notes \n",
      "    3017       644.373   0.000187137       3.18415   6.391e-05       0.001     3706  LS failed, Hessian reset \n",
      "    3099       644.382   6.80667e-05      0.589574      0.2953      0.2953     3802   \n",
      "    Iter      log prob        ||dx||      ||grad||       alpha      alpha0  # evals  Notes \n",
      "    3199       644.394   0.000335429       0.45562           1           1     3919   \n",
      "    Iter      log prob        ||dx||      ||grad||       alpha      alpha0  # evals  Notes \n",
      "    3299       644.399    0.00183992       3.52384           1           1     4046   \n",
      "    Iter      log prob        ||dx||      ||grad||       alpha      alpha0  # evals  Notes \n",
      "    3399       644.401    0.00169966       1.41382           1           1     4172   \n",
      "    Iter      log prob        ||dx||      ||grad||       alpha      alpha0  # evals  Notes \n",
      "    3499       644.409    0.00130422       1.26067      0.5332      0.5332     4287   \n",
      "    Iter      log prob        ||dx||      ||grad||       alpha      alpha0  # evals  Notes \n",
      "    3555       644.412   1.16124e-05      0.825946   1.535e-05       0.001     4407  LS failed, Hessian reset \n",
      "    3575       644.413   1.07693e-05       0.81228   9.478e-06       0.001     4458  LS failed, Hessian reset \n",
      "    3599       644.414    0.00168818       2.40142           1           1     4488   \n",
      "    Iter      log prob        ||dx||      ||grad||       alpha      alpha0  # evals  Notes \n",
      "    3610       644.414   7.91548e-06      0.615242   1.406e-05       0.001     4538  LS failed, Hessian reset \n",
      "    3618       644.414   3.47929e-06      0.294405      0.2075      0.3896     4551   \n",
      "Optimization terminated normally: \n",
      "  Convergence detected: relative gradient magnitude is below tolerance\n"
     ]
    },
    {
     "name": "stderr",
     "output_type": "stream",
     "text": [
      "INFO:fbprophet:Disabling yearly seasonality. Run prophet with yearly_seasonality=True to override this.\n"
     ]
    },
    {
     "name": "stdout",
     "output_type": "stream",
     "text": [
      "Initial log joint probability = -15.5\n",
      "    Iter      log prob        ||dx||      ||grad||       alpha      alpha0  # evals  Notes \n",
      "      99       372.896    0.00980677        8.3563           1           1      122   \n",
      "    Iter      log prob        ||dx||      ||grad||       alpha      alpha0  # evals  Notes \n",
      "     199       375.327    0.00399585      0.846195           1           1      243   \n",
      "    Iter      log prob        ||dx||      ||grad||       alpha      alpha0  # evals  Notes \n",
      "     299       375.632      0.010725       4.23588           1           1      363   \n",
      "    Iter      log prob        ||dx||      ||grad||       alpha      alpha0  # evals  Notes \n",
      "     399       375.821    0.00335393       2.26833      0.8864      0.8864      490   \n",
      "    Iter      log prob        ||dx||      ||grad||       alpha      alpha0  # evals  Notes \n",
      "     499       375.889    0.00471364       1.61092           1           1      618   \n",
      "    Iter      log prob        ||dx||      ||grad||       alpha      alpha0  # evals  Notes \n",
      "     580       375.917   8.39114e-05       1.33127   0.0001096       0.001      752  LS failed, Hessian reset \n",
      "     599       375.924   0.000248103       2.01921           1           1      780   \n",
      "    Iter      log prob        ||dx||      ||grad||       alpha      alpha0  # evals  Notes \n",
      "     699       375.959    0.00694141       2.29965           1           1      912   \n",
      "    Iter      log prob        ||dx||      ||grad||       alpha      alpha0  # evals  Notes \n",
      "     799       375.982    0.00746392       4.61941          10           1     1040   \n",
      "    Iter      log prob        ||dx||      ||grad||       alpha      alpha0  # evals  Notes \n",
      "     899       376.042     0.0730394        3.2428           1           1     1159   \n",
      "    Iter      log prob        ||dx||      ||grad||       alpha      alpha0  # evals  Notes \n",
      "     964       376.087   8.77357e-05        2.4332   2.413e-05       0.001     1289  LS failed, Hessian reset \n",
      "     999       376.103     0.0130353       2.28164           1           1     1334   \n",
      "    Iter      log prob        ||dx||      ||grad||       alpha      alpha0  # evals  Notes \n",
      "    1099       376.113    0.00952747      0.913266           1           1     1461   \n",
      "    Iter      log prob        ||dx||      ||grad||       alpha      alpha0  # evals  Notes \n",
      "    1103       376.113   0.000118303       1.14075   0.0001669       0.001     1503  LS failed, Hessian reset \n",
      "    1120       376.115   4.24649e-05      0.935967   0.0001011       0.001     1558  LS failed, Hessian reset \n",
      "    1199       376.119   5.94594e-05      0.465911           1           1     1659   \n",
      "    Iter      log prob        ||dx||      ||grad||       alpha      alpha0  # evals  Notes \n",
      "    1299       376.126   6.74881e-05      0.650002     0.02758      0.3222     1793   \n",
      "    Iter      log prob        ||dx||      ||grad||       alpha      alpha0  # evals  Notes \n",
      "    1370       376.128   2.61649e-05       0.30249   1.612e-05       0.001     1918  LS failed, Hessian reset \n",
      "    1399       376.128   6.95152e-05      0.357239           1           1     1955   \n",
      "    Iter      log prob        ||dx||      ||grad||       alpha      alpha0  # evals  Notes \n",
      "    1409       376.128   1.42038e-05      0.469867   3.445e-05       0.001     2007  LS failed, Hessian reset \n",
      "    1499       376.129   0.000340854      0.391653           1           1     2114   \n",
      "    Iter      log prob        ||dx||      ||grad||       alpha      alpha0  # evals  Notes \n",
      "    1517        376.13   1.76233e-05      0.309052   1.694e-05       0.001     2197  LS failed, Hessian reset \n",
      "    1599       376.131   0.000821324      0.870873           1           1     2297   \n",
      "    Iter      log prob        ||dx||      ||grad||       alpha      alpha0  # evals  Notes \n",
      "    1609       376.131   1.15498e-05      0.362134   2.461e-05       0.001     2347  LS failed, Hessian reset \n",
      "    1621       376.131   6.77899e-06       0.34331      0.5099      0.5099     2362   \n",
      "Optimization terminated normally: \n",
      "  Convergence detected: relative gradient magnitude is below tolerance\n"
     ]
    },
    {
     "name": "stderr",
     "output_type": "stream",
     "text": [
      "INFO:fbprophet:Disabling yearly seasonality. Run prophet with yearly_seasonality=True to override this.\n"
     ]
    },
    {
     "name": "stdout",
     "output_type": "stream",
     "text": [
      "Initial log joint probability = -15.5\n",
      "    Iter      log prob        ||dx||      ||grad||       alpha      alpha0  # evals  Notes \n",
      "      99       374.303    0.00908254       11.2097       0.162           1      129   \n",
      "    Iter      log prob        ||dx||      ||grad||       alpha      alpha0  # evals  Notes \n",
      "     199       375.173     0.0213659       3.54598           1           1      248   \n",
      "    Iter      log prob        ||dx||      ||grad||       alpha      alpha0  # evals  Notes \n",
      "     299       375.568    0.00665461       8.40643           1           1      366   \n",
      "    Iter      log prob        ||dx||      ||grad||       alpha      alpha0  # evals  Notes \n",
      "     341       375.645   9.92752e-05      0.692727   2.789e-05       0.001      455  LS failed, Hessian reset \n",
      "     399       375.742     0.0288614        10.718           1           1      525   \n",
      "    Iter      log prob        ||dx||      ||grad||       alpha      alpha0  # evals  Notes \n",
      "     499       375.927     0.0237828        3.9066      0.4817           1      646   \n",
      "    Iter      log prob        ||dx||      ||grad||       alpha      alpha0  # evals  Notes \n",
      "     599       376.026    0.00257283      0.468779           1           1      776   \n",
      "    Iter      log prob        ||dx||      ||grad||       alpha      alpha0  # evals  Notes \n",
      "     601       376.026   2.31192e-05      0.373044   3.592e-05       0.001      836  LS failed, Hessian reset \n",
      "     699       376.045   0.000127756      0.555391           1           1      960   \n",
      "    Iter      log prob        ||dx||      ||grad||       alpha      alpha0  # evals  Notes \n",
      "     719       376.049   7.59662e-05       1.03654   0.0001453       0.001     1019  LS failed, Hessian reset \n",
      "     784       376.052   3.20114e-05      0.560683   4.113e-05       0.001     1143  LS failed, Hessian reset \n",
      "     799       376.053   0.000151368       0.33601      0.4158      0.4158     1162   \n",
      "    Iter      log prob        ||dx||      ||grad||       alpha      alpha0  # evals  Notes \n",
      "     898       376.079   0.000224925        3.9563    4.48e-05       0.001     1344  LS failed, Hessian reset \n",
      "     899       376.083    0.00139216       2.23261          10           1     1346   \n",
      "    Iter      log prob        ||dx||      ||grad||       alpha      alpha0  # evals  Notes \n",
      "     999       376.107   6.02371e-05      0.415973      0.1781           1     1471   \n",
      "    Iter      log prob        ||dx||      ||grad||       alpha      alpha0  # evals  Notes \n",
      "    1012       376.107   3.68848e-05      0.656007   4.318e-05       0.001     1527  LS failed, Hessian reset \n",
      "    1033       376.108   7.43862e-06      0.332645           1           1     1559   \n",
      "Optimization terminated normally: \n",
      "  Convergence detected: relative gradient magnitude is below tolerance\n"
     ]
    },
    {
     "name": "stderr",
     "output_type": "stream",
     "text": [
      "INFO:fbprophet:Disabling yearly seasonality. Run prophet with yearly_seasonality=True to override this.\n"
     ]
    },
    {
     "name": "stdout",
     "output_type": "stream",
     "text": [
      "Initial log joint probability = -15.5\n",
      "    Iter      log prob        ||dx||      ||grad||       alpha      alpha0  # evals  Notes \n",
      "      99       623.788      0.110271       47.0845           1           1      120   \n",
      "    Iter      log prob        ||dx||      ||grad||       alpha      alpha0  # evals  Notes \n",
      "     199       635.553    0.00719481       21.3157      0.8582      0.8582      227   \n",
      "    Iter      log prob        ||dx||      ||grad||       alpha      alpha0  # evals  Notes \n",
      "     299       638.903     0.0173963       16.3015           1           1      346   \n",
      "    Iter      log prob        ||dx||      ||grad||       alpha      alpha0  # evals  Notes \n",
      "     399        639.88    0.00049382       6.99978      0.8435      0.8435      455   \n",
      "    Iter      log prob        ||dx||      ||grad||       alpha      alpha0  # evals  Notes \n",
      "     499       640.392    0.00238777       11.3647      0.9917     0.09917      572   \n",
      "    Iter      log prob        ||dx||      ||grad||       alpha      alpha0  # evals  Notes \n",
      "     599       641.615    0.00546871       6.08019           1           1      680   \n",
      "    Iter      log prob        ||dx||      ||grad||       alpha      alpha0  # evals  Notes \n",
      "     699       642.172      0.059079       14.5951      0.3263           1      791   \n",
      "    Iter      log prob        ||dx||      ||grad||       alpha      alpha0  # evals  Notes \n",
      "     799        642.48       0.01101       6.42395           1           1      908   \n",
      "    Iter      log prob        ||dx||      ||grad||       alpha      alpha0  # evals  Notes \n",
      "     899       643.009    0.00350847       4.18818           1           1     1029   \n",
      "    Iter      log prob        ||dx||      ||grad||       alpha      alpha0  # evals  Notes \n",
      "     999       643.047   0.000207626        3.9236      0.4169           1     1138   \n",
      "    Iter      log prob        ||dx||      ||grad||       alpha      alpha0  # evals  Notes \n",
      "    1099       643.095    0.00329042       1.74485           1           1     1250   \n",
      "    Iter      log prob        ||dx||      ||grad||       alpha      alpha0  # evals  Notes \n",
      "    1199        643.14     0.0016855       4.03194      0.2187      0.2187     1372   \n",
      "    Iter      log prob        ||dx||      ||grad||       alpha      alpha0  # evals  Notes \n",
      "    1299       643.335      0.114815       14.9489           1           1     1485   \n",
      "    Iter      log prob        ||dx||      ||grad||       alpha      alpha0  # evals  Notes \n",
      "    1399       643.434   0.000428291       1.75765           1           1     1593   \n",
      "    Iter      log prob        ||dx||      ||grad||       alpha      alpha0  # evals  Notes \n",
      "    1499       643.505   0.000524177       4.62463      0.3302           1     1709   \n",
      "    Iter      log prob        ||dx||      ||grad||       alpha      alpha0  # evals  Notes \n",
      "    1581       643.579   5.18057e-05       6.71096   6.434e-06       0.001     1835  LS failed, Hessian reset \n",
      "    1599       643.585   0.000759654       1.54857           1           1     1855   \n",
      "    Iter      log prob        ||dx||      ||grad||       alpha      alpha0  # evals  Notes \n",
      "    1699       643.626     0.0192758       10.8426      0.6996      0.6996     1966   \n",
      "    Iter      log prob        ||dx||      ||grad||       alpha      alpha0  # evals  Notes \n",
      "    1707        643.63   1.38058e-05       1.23029   4.037e-06       0.001     2012  LS failed, Hessian reset \n",
      "    1783       643.672   4.54536e-06      0.469598    4.27e-06       0.001     2142  LS failed, Hessian reset \n",
      "Optimization terminated normally: \n",
      "  Convergence detected: relative gradient magnitude is below tolerance\n"
     ]
    },
    {
     "name": "stderr",
     "output_type": "stream",
     "text": [
      "INFO:fbprophet:Disabling yearly seasonality. Run prophet with yearly_seasonality=True to override this.\n"
     ]
    },
    {
     "name": "stdout",
     "output_type": "stream",
     "text": [
      "Initial log joint probability = -15.5\n",
      "    Iter      log prob        ||dx||      ||grad||       alpha      alpha0  # evals  Notes \n",
      "      99       633.056     0.0189914        19.626           1           1      113   \n",
      "    Iter      log prob        ||dx||      ||grad||       alpha      alpha0  # evals  Notes \n",
      "     199       637.759     0.0189406       20.3916           1           1      224   \n",
      "    Iter      log prob        ||dx||      ||grad||       alpha      alpha0  # evals  Notes \n",
      "     299        640.33     0.0159373       14.9268           1           1      337   \n",
      "    Iter      log prob        ||dx||      ||grad||       alpha      alpha0  # evals  Notes \n",
      "     399        641.15    0.00188609       6.44544           1           1      461   \n",
      "    Iter      log prob        ||dx||      ||grad||       alpha      alpha0  # evals  Notes \n",
      "     499       641.705     0.0140747       16.9241           1           1      577   \n",
      "    Iter      log prob        ||dx||      ||grad||       alpha      alpha0  # evals  Notes \n",
      "     599       642.629     0.0943646       39.6978           1           1      693   \n",
      "    Iter      log prob        ||dx||      ||grad||       alpha      alpha0  # evals  Notes \n",
      "     699       642.817     0.0159593       6.87397           1           1      798   \n",
      "    Iter      log prob        ||dx||      ||grad||       alpha      alpha0  # evals  Notes \n",
      "     799       642.968    0.00084256       2.78942           1           1      913   \n",
      "    Iter      log prob        ||dx||      ||grad||       alpha      alpha0  # evals  Notes \n",
      "     899       643.132     0.0710191        21.514           1           1     1037   \n",
      "    Iter      log prob        ||dx||      ||grad||       alpha      alpha0  # evals  Notes \n",
      "     999        643.24   0.000284669      0.739163           1           1     1154   \n",
      "    Iter      log prob        ||dx||      ||grad||       alpha      alpha0  # evals  Notes \n",
      "    1099       643.281    0.00023878      0.414139           1           1     1276   \n",
      "    Iter      log prob        ||dx||      ||grad||       alpha      alpha0  # evals  Notes \n",
      "    1199       643.447     0.0322317       5.32185           1           1     1394   \n",
      "    Iter      log prob        ||dx||      ||grad||       alpha      alpha0  # evals  Notes \n",
      "    1299       643.559   0.000227564       4.01745     0.04344           1     1506   \n",
      "    Iter      log prob        ||dx||      ||grad||       alpha      alpha0  # evals  Notes \n",
      "    1399       643.635    0.00243518       2.51997           1           1     1627   \n",
      "    Iter      log prob        ||dx||      ||grad||       alpha      alpha0  # evals  Notes \n",
      "    1499       643.684     0.0216656       9.31808           1           1     1744   \n",
      "    Iter      log prob        ||dx||      ||grad||       alpha      alpha0  # evals  Notes \n",
      "    1599       643.731    0.00376211       5.02487      0.4503     0.04503     1864   \n",
      "    Iter      log prob        ||dx||      ||grad||       alpha      alpha0  # evals  Notes \n",
      "    1699       643.757   0.000253773       1.04374           1           1     1976   \n",
      "    Iter      log prob        ||dx||      ||grad||       alpha      alpha0  # evals  Notes \n",
      "    1799       643.814    0.00295599       1.83544           1           1     2089   \n",
      "    Iter      log prob        ||dx||      ||grad||       alpha      alpha0  # evals  Notes \n",
      "    1809       643.816   9.12516e-05       3.64203   8.296e-05       0.001     2129  LS failed, Hessian reset \n",
      "    1850       643.833    2.1101e-05      0.549345   6.276e-06       0.001     2211  LS failed, Hessian reset \n",
      "    1885       643.841   3.77929e-05        1.3926   7.083e-05       0.001     2290  LS failed, Hessian reset \n",
      "    1899       643.842   0.000612146       2.08968     0.03116           1     2308   \n",
      "    Iter      log prob        ||dx||      ||grad||       alpha      alpha0  # evals  Notes \n",
      "    1999       643.857   0.000273273      0.655393           1           1     2422   \n",
      "    Iter      log prob        ||dx||      ||grad||       alpha      alpha0  # evals  Notes \n",
      "    2099       643.872    0.00261306       1.60226      0.5697      0.5697     2531   \n",
      "    Iter      log prob        ||dx||      ||grad||       alpha      alpha0  # evals  Notes \n",
      "    2199       644.051     0.0128107       16.1527      0.5588      0.5588     2647   \n",
      "    Iter      log prob        ||dx||      ||grad||       alpha      alpha0  # evals  Notes \n",
      "    2299       644.191   0.000206546      0.975663      0.8961      0.8961     2764   \n",
      "    Iter      log prob        ||dx||      ||grad||       alpha      alpha0  # evals  Notes \n",
      "    2399       644.257    0.00104873       1.98749           1           1     2880   \n",
      "    Iter      log prob        ||dx||      ||grad||       alpha      alpha0  # evals  Notes \n",
      "    2499       644.304    0.00251834       2.39713           1           1     3000   \n",
      "    Iter      log prob        ||dx||      ||grad||       alpha      alpha0  # evals  Notes \n",
      "    2599       644.325    0.00512022       7.46932      0.6511           1     3113   \n",
      "    Iter      log prob        ||dx||      ||grad||       alpha      alpha0  # evals  Notes \n",
      "    2676       644.333   2.02873e-05       1.16108   3.672e-05       0.001     3259  LS failed, Hessian reset \n",
      "    2699       644.336   0.000109818      0.796622           1           1     3283   \n",
      "    Iter      log prob        ||dx||      ||grad||       alpha      alpha0  # evals  Notes \n",
      "    2799       644.346   0.000796398       1.14823           1           1     3415   \n",
      "    Iter      log prob        ||dx||      ||grad||       alpha      alpha0  # evals  Notes \n",
      "    2899        644.35    0.00461919       2.59891           1           1     3534   \n",
      "    Iter      log prob        ||dx||      ||grad||       alpha      alpha0  # evals  Notes \n",
      "    2999       644.367     0.0525738       6.40261      0.8741      0.8741     3648   \n",
      "    Iter      log prob        ||dx||      ||grad||       alpha      alpha0  # evals  Notes \n",
      "    3017       644.373   0.000187137       3.18415   6.391e-05       0.001     3706  LS failed, Hessian reset \n",
      "    3099       644.382   6.80667e-05      0.589574      0.2953      0.2953     3802   \n",
      "    Iter      log prob        ||dx||      ||grad||       alpha      alpha0  # evals  Notes \n",
      "    3199       644.394   0.000335429       0.45562           1           1     3919   \n",
      "    Iter      log prob        ||dx||      ||grad||       alpha      alpha0  # evals  Notes \n",
      "    3299       644.399    0.00183992       3.52384           1           1     4046   \n",
      "    Iter      log prob        ||dx||      ||grad||       alpha      alpha0  # evals  Notes \n",
      "    3399       644.401    0.00169966       1.41382           1           1     4172   \n",
      "    Iter      log prob        ||dx||      ||grad||       alpha      alpha0  # evals  Notes \n",
      "    3499       644.409    0.00130422       1.26067      0.5332      0.5332     4287   \n",
      "    Iter      log prob        ||dx||      ||grad||       alpha      alpha0  # evals  Notes \n",
      "    3555       644.412   1.16124e-05      0.825946   1.535e-05       0.001     4407  LS failed, Hessian reset \n",
      "    3575       644.413   1.07693e-05       0.81228   9.478e-06       0.001     4458  LS failed, Hessian reset \n",
      "    3599       644.414    0.00168818       2.40142           1           1     4488   \n",
      "    Iter      log prob        ||dx||      ||grad||       alpha      alpha0  # evals  Notes \n",
      "    3610       644.414   7.91548e-06      0.615242   1.406e-05       0.001     4538  LS failed, Hessian reset \n",
      "    3618       644.414   3.47929e-06      0.294405      0.2075      0.3896     4551   \n",
      "Optimization terminated normally: \n",
      "  Convergence detected: relative gradient magnitude is below tolerance\n"
     ]
    },
    {
     "name": "stderr",
     "output_type": "stream",
     "text": [
      "INFO:fbprophet:Disabling yearly seasonality. Run prophet with yearly_seasonality=True to override this.\n"
     ]
    },
    {
     "name": "stdout",
     "output_type": "stream",
     "text": [
      "Initial log joint probability = -15.5\n",
      "    Iter      log prob        ||dx||      ||grad||       alpha      alpha0  # evals  Notes \n",
      "      99       372.896    0.00980677        8.3563           1           1      122   \n",
      "    Iter      log prob        ||dx||      ||grad||       alpha      alpha0  # evals  Notes \n",
      "     199       375.327    0.00399585      0.846195           1           1      243   \n",
      "    Iter      log prob        ||dx||      ||grad||       alpha      alpha0  # evals  Notes \n",
      "     299       375.632      0.010725       4.23588           1           1      363   \n",
      "    Iter      log prob        ||dx||      ||grad||       alpha      alpha0  # evals  Notes \n",
      "     399       375.821    0.00335393       2.26833      0.8864      0.8864      490   \n",
      "    Iter      log prob        ||dx||      ||grad||       alpha      alpha0  # evals  Notes \n",
      "     499       375.889    0.00471364       1.61092           1           1      618   \n",
      "    Iter      log prob        ||dx||      ||grad||       alpha      alpha0  # evals  Notes \n",
      "     580       375.917   8.39114e-05       1.33127   0.0001096       0.001      752  LS failed, Hessian reset \n",
      "     599       375.924   0.000248103       2.01921           1           1      780   \n",
      "    Iter      log prob        ||dx||      ||grad||       alpha      alpha0  # evals  Notes \n",
      "     699       375.959    0.00694141       2.29965           1           1      912   \n",
      "    Iter      log prob        ||dx||      ||grad||       alpha      alpha0  # evals  Notes \n",
      "     799       375.982    0.00746392       4.61941          10           1     1040   \n",
      "    Iter      log prob        ||dx||      ||grad||       alpha      alpha0  # evals  Notes \n",
      "     899       376.042     0.0730394        3.2428           1           1     1159   \n",
      "    Iter      log prob        ||dx||      ||grad||       alpha      alpha0  # evals  Notes \n",
      "     964       376.087   8.77357e-05        2.4332   2.413e-05       0.001     1289  LS failed, Hessian reset \n",
      "     999       376.103     0.0130353       2.28164           1           1     1334   \n",
      "    Iter      log prob        ||dx||      ||grad||       alpha      alpha0  # evals  Notes \n",
      "    1099       376.113    0.00952747      0.913266           1           1     1461   \n",
      "    Iter      log prob        ||dx||      ||grad||       alpha      alpha0  # evals  Notes \n",
      "    1103       376.113   0.000118303       1.14075   0.0001669       0.001     1503  LS failed, Hessian reset \n",
      "    1120       376.115   4.24649e-05      0.935967   0.0001011       0.001     1558  LS failed, Hessian reset \n",
      "    1199       376.119   5.94594e-05      0.465911           1           1     1659   \n",
      "    Iter      log prob        ||dx||      ||grad||       alpha      alpha0  # evals  Notes \n",
      "    1299       376.126   6.74881e-05      0.650002     0.02758      0.3222     1793   \n",
      "    Iter      log prob        ||dx||      ||grad||       alpha      alpha0  # evals  Notes \n",
      "    1370       376.128   2.61649e-05       0.30249   1.612e-05       0.001     1918  LS failed, Hessian reset \n",
      "    1399       376.128   6.95152e-05      0.357239           1           1     1955   \n",
      "    Iter      log prob        ||dx||      ||grad||       alpha      alpha0  # evals  Notes \n",
      "    1409       376.128   1.42038e-05      0.469867   3.445e-05       0.001     2007  LS failed, Hessian reset \n",
      "    1499       376.129   0.000340854      0.391653           1           1     2114   \n",
      "    Iter      log prob        ||dx||      ||grad||       alpha      alpha0  # evals  Notes \n",
      "    1517        376.13   1.76233e-05      0.309052   1.694e-05       0.001     2197  LS failed, Hessian reset \n",
      "    1599       376.131   0.000821324      0.870873           1           1     2297   \n",
      "    Iter      log prob        ||dx||      ||grad||       alpha      alpha0  # evals  Notes \n",
      "    1609       376.131   1.15498e-05      0.362134   2.461e-05       0.001     2347  LS failed, Hessian reset \n",
      "    1621       376.131   6.77899e-06       0.34331      0.5099      0.5099     2362   \n",
      "Optimization terminated normally: \n",
      "  Convergence detected: relative gradient magnitude is below tolerance\n"
     ]
    },
    {
     "name": "stderr",
     "output_type": "stream",
     "text": [
      "INFO:fbprophet:Disabling yearly seasonality. Run prophet with yearly_seasonality=True to override this.\n"
     ]
    },
    {
     "name": "stdout",
     "output_type": "stream",
     "text": [
      "Initial log joint probability = -15.5\n",
      "    Iter      log prob        ||dx||      ||grad||       alpha      alpha0  # evals  Notes \n",
      "      99       374.303    0.00908254       11.2097       0.162           1      129   \n",
      "    Iter      log prob        ||dx||      ||grad||       alpha      alpha0  # evals  Notes \n",
      "     199       375.173     0.0213659       3.54598           1           1      248   \n",
      "    Iter      log prob        ||dx||      ||grad||       alpha      alpha0  # evals  Notes \n",
      "     299       375.568    0.00665461       8.40643           1           1      366   \n",
      "    Iter      log prob        ||dx||      ||grad||       alpha      alpha0  # evals  Notes \n",
      "     341       375.645   9.92752e-05      0.692727   2.789e-05       0.001      455  LS failed, Hessian reset \n",
      "     399       375.742     0.0288614        10.718           1           1      525   \n",
      "    Iter      log prob        ||dx||      ||grad||       alpha      alpha0  # evals  Notes \n",
      "     499       375.927     0.0237828        3.9066      0.4817           1      646   \n",
      "    Iter      log prob        ||dx||      ||grad||       alpha      alpha0  # evals  Notes \n",
      "     599       376.026    0.00257283      0.468779           1           1      776   \n",
      "    Iter      log prob        ||dx||      ||grad||       alpha      alpha0  # evals  Notes \n",
      "     601       376.026   2.31192e-05      0.373044   3.592e-05       0.001      836  LS failed, Hessian reset \n",
      "     699       376.045   0.000127756      0.555391           1           1      960   \n",
      "    Iter      log prob        ||dx||      ||grad||       alpha      alpha0  # evals  Notes \n",
      "     719       376.049   7.59662e-05       1.03654   0.0001453       0.001     1019  LS failed, Hessian reset \n",
      "     784       376.052   3.20114e-05      0.560683   4.113e-05       0.001     1143  LS failed, Hessian reset \n",
      "     799       376.053   0.000151368       0.33601      0.4158      0.4158     1162   \n",
      "    Iter      log prob        ||dx||      ||grad||       alpha      alpha0  # evals  Notes \n",
      "     898       376.079   0.000224925        3.9563    4.48e-05       0.001     1344  LS failed, Hessian reset \n",
      "     899       376.083    0.00139216       2.23261          10           1     1346   \n",
      "    Iter      log prob        ||dx||      ||grad||       alpha      alpha0  # evals  Notes \n",
      "     999       376.107   6.02371e-05      0.415973      0.1781           1     1471   \n",
      "    Iter      log prob        ||dx||      ||grad||       alpha      alpha0  # evals  Notes \n",
      "    1012       376.107   3.68848e-05      0.656007   4.318e-05       0.001     1527  LS failed, Hessian reset \n",
      "    1033       376.108   7.43862e-06      0.332645           1           1     1559   \n",
      "Optimization terminated normally: \n",
      "  Convergence detected: relative gradient magnitude is below tolerance\n"
     ]
    },
    {
     "name": "stderr",
     "output_type": "stream",
     "text": [
      "INFO:fbprophet:Disabling yearly seasonality. Run prophet with yearly_seasonality=True to override this.\n"
     ]
    },
    {
     "name": "stdout",
     "output_type": "stream",
     "text": [
      "Initial log joint probability = -15.5\n",
      "    Iter      log prob        ||dx||      ||grad||       alpha      alpha0  # evals  Notes \n",
      "      99       623.788      0.110271       47.0845           1           1      120   \n",
      "    Iter      log prob        ||dx||      ||grad||       alpha      alpha0  # evals  Notes \n",
      "     199       635.553    0.00719481       21.3157      0.8582      0.8582      227   \n",
      "    Iter      log prob        ||dx||      ||grad||       alpha      alpha0  # evals  Notes \n",
      "     299       638.903     0.0173963       16.3015           1           1      346   \n",
      "    Iter      log prob        ||dx||      ||grad||       alpha      alpha0  # evals  Notes \n",
      "     399        639.88    0.00049382       6.99978      0.8435      0.8435      455   \n",
      "    Iter      log prob        ||dx||      ||grad||       alpha      alpha0  # evals  Notes \n",
      "     499       640.392    0.00238777       11.3647      0.9917     0.09917      572   \n",
      "    Iter      log prob        ||dx||      ||grad||       alpha      alpha0  # evals  Notes \n",
      "     599       641.615    0.00546871       6.08019           1           1      680   \n",
      "    Iter      log prob        ||dx||      ||grad||       alpha      alpha0  # evals  Notes \n",
      "     699       642.172      0.059079       14.5951      0.3263           1      791   \n",
      "    Iter      log prob        ||dx||      ||grad||       alpha      alpha0  # evals  Notes \n",
      "     799        642.48       0.01101       6.42395           1           1      908   \n",
      "    Iter      log prob        ||dx||      ||grad||       alpha      alpha0  # evals  Notes \n",
      "     899       643.009    0.00350847       4.18818           1           1     1029   \n",
      "    Iter      log prob        ||dx||      ||grad||       alpha      alpha0  # evals  Notes \n",
      "     999       643.047   0.000207626        3.9236      0.4169           1     1138   \n",
      "    Iter      log prob        ||dx||      ||grad||       alpha      alpha0  # evals  Notes \n",
      "    1099       643.095    0.00329042       1.74485           1           1     1250   \n",
      "    Iter      log prob        ||dx||      ||grad||       alpha      alpha0  # evals  Notes \n",
      "    1199        643.14     0.0016855       4.03194      0.2187      0.2187     1372   \n",
      "    Iter      log prob        ||dx||      ||grad||       alpha      alpha0  # evals  Notes \n",
      "    1299       643.335      0.114815       14.9489           1           1     1485   \n",
      "    Iter      log prob        ||dx||      ||grad||       alpha      alpha0  # evals  Notes \n",
      "    1399       643.434   0.000428291       1.75765           1           1     1593   \n",
      "    Iter      log prob        ||dx||      ||grad||       alpha      alpha0  # evals  Notes \n",
      "    1499       643.505   0.000524177       4.62463      0.3302           1     1709   \n",
      "    Iter      log prob        ||dx||      ||grad||       alpha      alpha0  # evals  Notes \n",
      "    1581       643.579   5.18057e-05       6.71096   6.434e-06       0.001     1835  LS failed, Hessian reset \n",
      "    1599       643.585   0.000759654       1.54857           1           1     1855   \n",
      "    Iter      log prob        ||dx||      ||grad||       alpha      alpha0  # evals  Notes \n",
      "    1699       643.626     0.0192758       10.8426      0.6996      0.6996     1966   \n",
      "    Iter      log prob        ||dx||      ||grad||       alpha      alpha0  # evals  Notes \n",
      "    1707        643.63   1.38058e-05       1.23029   4.037e-06       0.001     2012  LS failed, Hessian reset \n",
      "    1783       643.672   4.54536e-06      0.469598    4.27e-06       0.001     2142  LS failed, Hessian reset \n",
      "Optimization terminated normally: \n",
      "  Convergence detected: relative gradient magnitude is below tolerance\n"
     ]
    },
    {
     "name": "stderr",
     "output_type": "stream",
     "text": [
      "INFO:fbprophet:Disabling yearly seasonality. Run prophet with yearly_seasonality=True to override this.\n"
     ]
    },
    {
     "name": "stdout",
     "output_type": "stream",
     "text": [
      "Initial log joint probability = -15.5\n",
      "    Iter      log prob        ||dx||      ||grad||       alpha      alpha0  # evals  Notes \n",
      "      99       633.056     0.0189914        19.626           1           1      113   \n",
      "    Iter      log prob        ||dx||      ||grad||       alpha      alpha0  # evals  Notes \n",
      "     199       637.759     0.0189406       20.3916           1           1      224   \n",
      "    Iter      log prob        ||dx||      ||grad||       alpha      alpha0  # evals  Notes \n",
      "     299        640.33     0.0159373       14.9268           1           1      337   \n",
      "    Iter      log prob        ||dx||      ||grad||       alpha      alpha0  # evals  Notes \n",
      "     399        641.15    0.00188609       6.44544           1           1      461   \n",
      "    Iter      log prob        ||dx||      ||grad||       alpha      alpha0  # evals  Notes \n",
      "     499       641.705     0.0140747       16.9241           1           1      577   \n",
      "    Iter      log prob        ||dx||      ||grad||       alpha      alpha0  # evals  Notes \n",
      "     599       642.629     0.0943646       39.6978           1           1      693   \n",
      "    Iter      log prob        ||dx||      ||grad||       alpha      alpha0  # evals  Notes \n",
      "     699       642.817     0.0159593       6.87397           1           1      798   \n",
      "    Iter      log prob        ||dx||      ||grad||       alpha      alpha0  # evals  Notes \n",
      "     799       642.968    0.00084256       2.78942           1           1      913   \n",
      "    Iter      log prob        ||dx||      ||grad||       alpha      alpha0  # evals  Notes \n",
      "     899       643.132     0.0710191        21.514           1           1     1037   \n",
      "    Iter      log prob        ||dx||      ||grad||       alpha      alpha0  # evals  Notes \n",
      "     999        643.24   0.000284669      0.739163           1           1     1154   \n",
      "    Iter      log prob        ||dx||      ||grad||       alpha      alpha0  # evals  Notes \n",
      "    1099       643.281    0.00023878      0.414139           1           1     1276   \n",
      "    Iter      log prob        ||dx||      ||grad||       alpha      alpha0  # evals  Notes \n",
      "    1199       643.447     0.0322317       5.32185           1           1     1394   \n",
      "    Iter      log prob        ||dx||      ||grad||       alpha      alpha0  # evals  Notes \n",
      "    1299       643.559   0.000227564       4.01745     0.04344           1     1506   \n",
      "    Iter      log prob        ||dx||      ||grad||       alpha      alpha0  # evals  Notes \n",
      "    1399       643.635    0.00243518       2.51997           1           1     1627   \n",
      "    Iter      log prob        ||dx||      ||grad||       alpha      alpha0  # evals  Notes \n",
      "    1499       643.684     0.0216656       9.31808           1           1     1744   \n",
      "    Iter      log prob        ||dx||      ||grad||       alpha      alpha0  # evals  Notes \n",
      "    1599       643.731    0.00376211       5.02487      0.4503     0.04503     1864   \n",
      "    Iter      log prob        ||dx||      ||grad||       alpha      alpha0  # evals  Notes \n",
      "    1699       643.757   0.000253773       1.04374           1           1     1976   \n",
      "    Iter      log prob        ||dx||      ||grad||       alpha      alpha0  # evals  Notes \n",
      "    1799       643.814    0.00295599       1.83544           1           1     2089   \n",
      "    Iter      log prob        ||dx||      ||grad||       alpha      alpha0  # evals  Notes \n",
      "    1809       643.816   9.12516e-05       3.64203   8.296e-05       0.001     2129  LS failed, Hessian reset \n",
      "    1850       643.833    2.1101e-05      0.549345   6.276e-06       0.001     2211  LS failed, Hessian reset \n",
      "    1885       643.841   3.77929e-05        1.3926   7.083e-05       0.001     2290  LS failed, Hessian reset \n",
      "    1899       643.842   0.000612146       2.08968     0.03116           1     2308   \n",
      "    Iter      log prob        ||dx||      ||grad||       alpha      alpha0  # evals  Notes \n",
      "    1999       643.857   0.000273273      0.655393           1           1     2422   \n",
      "    Iter      log prob        ||dx||      ||grad||       alpha      alpha0  # evals  Notes \n",
      "    2099       643.872    0.00261306       1.60226      0.5697      0.5697     2531   \n",
      "    Iter      log prob        ||dx||      ||grad||       alpha      alpha0  # evals  Notes \n",
      "    2199       644.051     0.0128107       16.1527      0.5588      0.5588     2647   \n",
      "    Iter      log prob        ||dx||      ||grad||       alpha      alpha0  # evals  Notes \n",
      "    2299       644.191   0.000206546      0.975663      0.8961      0.8961     2764   \n",
      "    Iter      log prob        ||dx||      ||grad||       alpha      alpha0  # evals  Notes \n",
      "    2399       644.257    0.00104873       1.98749           1           1     2880   \n",
      "    Iter      log prob        ||dx||      ||grad||       alpha      alpha0  # evals  Notes \n",
      "    2499       644.304    0.00251834       2.39713           1           1     3000   \n",
      "    Iter      log prob        ||dx||      ||grad||       alpha      alpha0  # evals  Notes \n",
      "    2599       644.325    0.00512022       7.46932      0.6511           1     3113   \n",
      "    Iter      log prob        ||dx||      ||grad||       alpha      alpha0  # evals  Notes \n",
      "    2676       644.333   2.02873e-05       1.16108   3.672e-05       0.001     3259  LS failed, Hessian reset \n",
      "    2699       644.336   0.000109818      0.796622           1           1     3283   \n",
      "    Iter      log prob        ||dx||      ||grad||       alpha      alpha0  # evals  Notes \n",
      "    2799       644.346   0.000796398       1.14823           1           1     3415   \n",
      "    Iter      log prob        ||dx||      ||grad||       alpha      alpha0  # evals  Notes \n",
      "    2899        644.35    0.00461919       2.59891           1           1     3534   \n",
      "    Iter      log prob        ||dx||      ||grad||       alpha      alpha0  # evals  Notes \n",
      "    2999       644.367     0.0525738       6.40261      0.8741      0.8741     3648   \n",
      "    Iter      log prob        ||dx||      ||grad||       alpha      alpha0  # evals  Notes \n",
      "    3017       644.373   0.000187137       3.18415   6.391e-05       0.001     3706  LS failed, Hessian reset \n",
      "    3099       644.382   6.80667e-05      0.589574      0.2953      0.2953     3802   \n",
      "    Iter      log prob        ||dx||      ||grad||       alpha      alpha0  # evals  Notes \n",
      "    3199       644.394   0.000335429       0.45562           1           1     3919   \n",
      "    Iter      log prob        ||dx||      ||grad||       alpha      alpha0  # evals  Notes \n",
      "    3299       644.399    0.00183992       3.52384           1           1     4046   \n",
      "    Iter      log prob        ||dx||      ||grad||       alpha      alpha0  # evals  Notes \n",
      "    3399       644.401    0.00169966       1.41382           1           1     4172   \n",
      "    Iter      log prob        ||dx||      ||grad||       alpha      alpha0  # evals  Notes \n",
      "    3499       644.409    0.00130422       1.26067      0.5332      0.5332     4287   \n",
      "    Iter      log prob        ||dx||      ||grad||       alpha      alpha0  # evals  Notes \n",
      "    3555       644.412   1.16124e-05      0.825946   1.535e-05       0.001     4407  LS failed, Hessian reset \n",
      "    3575       644.413   1.07693e-05       0.81228   9.478e-06       0.001     4458  LS failed, Hessian reset \n",
      "    3599       644.414    0.00168818       2.40142           1           1     4488   \n",
      "    Iter      log prob        ||dx||      ||grad||       alpha      alpha0  # evals  Notes \n",
      "    3610       644.414   7.91548e-06      0.615242   1.406e-05       0.001     4538  LS failed, Hessian reset \n",
      "    3618       644.414   3.47929e-06      0.294405      0.2075      0.3896     4551   \n",
      "Optimization terminated normally: \n",
      "  Convergence detected: relative gradient magnitude is below tolerance\n"
     ]
    },
    {
     "name": "stderr",
     "output_type": "stream",
     "text": [
      "INFO:fbprophet:Disabling yearly seasonality. Run prophet with yearly_seasonality=True to override this.\n"
     ]
    },
    {
     "name": "stdout",
     "output_type": "stream",
     "text": [
      "Initial log joint probability = -15.5\n",
      "    Iter      log prob        ||dx||      ||grad||       alpha      alpha0  # evals  Notes \n",
      "      99       372.896    0.00980677        8.3563           1           1      122   \n",
      "    Iter      log prob        ||dx||      ||grad||       alpha      alpha0  # evals  Notes \n",
      "     199       375.327    0.00399585      0.846195           1           1      243   \n",
      "    Iter      log prob        ||dx||      ||grad||       alpha      alpha0  # evals  Notes \n",
      "     299       375.632      0.010725       4.23588           1           1      363   \n",
      "    Iter      log prob        ||dx||      ||grad||       alpha      alpha0  # evals  Notes \n",
      "     399       375.821    0.00335393       2.26833      0.8864      0.8864      490   \n",
      "    Iter      log prob        ||dx||      ||grad||       alpha      alpha0  # evals  Notes \n",
      "     499       375.889    0.00471364       1.61092           1           1      618   \n",
      "    Iter      log prob        ||dx||      ||grad||       alpha      alpha0  # evals  Notes \n",
      "     580       375.917   8.39114e-05       1.33127   0.0001096       0.001      752  LS failed, Hessian reset \n",
      "     599       375.924   0.000248103       2.01921           1           1      780   \n",
      "    Iter      log prob        ||dx||      ||grad||       alpha      alpha0  # evals  Notes \n",
      "     699       375.959    0.00694141       2.29965           1           1      912   \n",
      "    Iter      log prob        ||dx||      ||grad||       alpha      alpha0  # evals  Notes \n",
      "     799       375.982    0.00746392       4.61941          10           1     1040   \n",
      "    Iter      log prob        ||dx||      ||grad||       alpha      alpha0  # evals  Notes \n",
      "     899       376.042     0.0730394        3.2428           1           1     1159   \n",
      "    Iter      log prob        ||dx||      ||grad||       alpha      alpha0  # evals  Notes \n",
      "     964       376.087   8.77357e-05        2.4332   2.413e-05       0.001     1289  LS failed, Hessian reset \n",
      "     999       376.103     0.0130353       2.28164           1           1     1334   \n",
      "    Iter      log prob        ||dx||      ||grad||       alpha      alpha0  # evals  Notes \n",
      "    1099       376.113    0.00952747      0.913266           1           1     1461   \n",
      "    Iter      log prob        ||dx||      ||grad||       alpha      alpha0  # evals  Notes \n",
      "    1103       376.113   0.000118303       1.14075   0.0001669       0.001     1503  LS failed, Hessian reset \n",
      "    1120       376.115   4.24649e-05      0.935967   0.0001011       0.001     1558  LS failed, Hessian reset \n",
      "    1199       376.119   5.94594e-05      0.465911           1           1     1659   \n",
      "    Iter      log prob        ||dx||      ||grad||       alpha      alpha0  # evals  Notes \n",
      "    1299       376.126   6.74881e-05      0.650002     0.02758      0.3222     1793   \n",
      "    Iter      log prob        ||dx||      ||grad||       alpha      alpha0  # evals  Notes \n",
      "    1370       376.128   2.61649e-05       0.30249   1.612e-05       0.001     1918  LS failed, Hessian reset \n",
      "    1399       376.128   6.95152e-05      0.357239           1           1     1955   \n",
      "    Iter      log prob        ||dx||      ||grad||       alpha      alpha0  # evals  Notes \n",
      "    1409       376.128   1.42038e-05      0.469867   3.445e-05       0.001     2007  LS failed, Hessian reset \n",
      "    1499       376.129   0.000340854      0.391653           1           1     2114   \n",
      "    Iter      log prob        ||dx||      ||grad||       alpha      alpha0  # evals  Notes \n",
      "    1517        376.13   1.76233e-05      0.309052   1.694e-05       0.001     2197  LS failed, Hessian reset \n",
      "    1599       376.131   0.000821324      0.870873           1           1     2297   \n",
      "    Iter      log prob        ||dx||      ||grad||       alpha      alpha0  # evals  Notes \n",
      "    1609       376.131   1.15498e-05      0.362134   2.461e-05       0.001     2347  LS failed, Hessian reset \n",
      "    1621       376.131   6.77899e-06       0.34331      0.5099      0.5099     2362   \n",
      "Optimization terminated normally: \n",
      "  Convergence detected: relative gradient magnitude is below tolerance\n"
     ]
    },
    {
     "name": "stderr",
     "output_type": "stream",
     "text": [
      "INFO:fbprophet:Disabling yearly seasonality. Run prophet with yearly_seasonality=True to override this.\n"
     ]
    },
    {
     "name": "stdout",
     "output_type": "stream",
     "text": [
      "Initial log joint probability = -15.5\n",
      "    Iter      log prob        ||dx||      ||grad||       alpha      alpha0  # evals  Notes \n",
      "      99       374.303    0.00908254       11.2097       0.162           1      129   \n",
      "    Iter      log prob        ||dx||      ||grad||       alpha      alpha0  # evals  Notes \n",
      "     199       375.173     0.0213659       3.54598           1           1      248   \n",
      "    Iter      log prob        ||dx||      ||grad||       alpha      alpha0  # evals  Notes \n",
      "     299       375.568    0.00665461       8.40643           1           1      366   \n",
      "    Iter      log prob        ||dx||      ||grad||       alpha      alpha0  # evals  Notes \n",
      "     341       375.645   9.92752e-05      0.692727   2.789e-05       0.001      455  LS failed, Hessian reset \n",
      "     399       375.742     0.0288614        10.718           1           1      525   \n",
      "    Iter      log prob        ||dx||      ||grad||       alpha      alpha0  # evals  Notes \n",
      "     499       375.927     0.0237828        3.9066      0.4817           1      646   \n",
      "    Iter      log prob        ||dx||      ||grad||       alpha      alpha0  # evals  Notes \n",
      "     599       376.026    0.00257283      0.468779           1           1      776   \n",
      "    Iter      log prob        ||dx||      ||grad||       alpha      alpha0  # evals  Notes \n",
      "     601       376.026   2.31192e-05      0.373044   3.592e-05       0.001      836  LS failed, Hessian reset \n",
      "     699       376.045   0.000127756      0.555391           1           1      960   \n",
      "    Iter      log prob        ||dx||      ||grad||       alpha      alpha0  # evals  Notes \n",
      "     719       376.049   7.59662e-05       1.03654   0.0001453       0.001     1019  LS failed, Hessian reset \n",
      "     784       376.052   3.20114e-05      0.560683   4.113e-05       0.001     1143  LS failed, Hessian reset \n",
      "     799       376.053   0.000151368       0.33601      0.4158      0.4158     1162   \n",
      "    Iter      log prob        ||dx||      ||grad||       alpha      alpha0  # evals  Notes \n",
      "     898       376.079   0.000224925        3.9563    4.48e-05       0.001     1344  LS failed, Hessian reset \n",
      "     899       376.083    0.00139216       2.23261          10           1     1346   \n",
      "    Iter      log prob        ||dx||      ||grad||       alpha      alpha0  # evals  Notes \n",
      "     999       376.107   6.02371e-05      0.415973      0.1781           1     1471   \n",
      "    Iter      log prob        ||dx||      ||grad||       alpha      alpha0  # evals  Notes \n",
      "    1012       376.107   3.68848e-05      0.656007   4.318e-05       0.001     1527  LS failed, Hessian reset \n",
      "    1033       376.108   7.43862e-06      0.332645           1           1     1559   \n",
      "Optimization terminated normally: \n",
      "  Convergence detected: relative gradient magnitude is below tolerance\n"
     ]
    }
   ],
   "source": [
    "items_trend[\"clock\"] = pd.to_datetime(items_trend[\"clock\"])\n",
    "#items_trend['rank'] = items_trend.groupby([\"itemid\",\"item_type\"])[\"clock\"].rank(ascending=False)\n",
    "#items_trend_clean = items_trend[items_trend[\"rank\"] <= 365]\n",
    "\n",
    "#y = items_trend_clean[items_trend_clean.itemid == 664016][[\"clock\",\"value_max\"]]\n",
    "y = items_trend[items_trend.itemid == 664016][[\"clock\",\"value_max\"]]\n",
    "\n",
    "optimize_timeseries(y)\n",
    "# Uncomment to launch optimization"
   ]
  },
  {
   "cell_type": "code",
   "execution_count": 15,
   "id": "94d3e5db-2a7a-4796-8f2f-44e83a688b02",
   "metadata": {},
   "outputs": [],
   "source": [
    "# Comparing to baseline"
   ]
  },
  {
   "cell_type": "code",
   "execution_count": 18,
   "id": "777cc1fe-ee6d-43ae-9e2b-ec00c7c4d28b",
   "metadata": {},
   "outputs": [
    {
     "name": "stderr",
     "output_type": "stream",
     "text": [
      "INFO:fbprophet:Disabling yearly seasonality. Run prophet with yearly_seasonality=True to override this.\n",
      "INFO:fbprophet:Disabling daily seasonality. Run prophet with daily_seasonality=True to override this.\n"
     ]
    },
    {
     "name": "stdout",
     "output_type": "stream",
     "text": [
      "Initial log joint probability = -15.5\n",
      "    Iter      log prob        ||dx||      ||grad||       alpha      alpha0  # evals  Notes \n",
      "      63       560.099    0.00370998       65.5353   4.535e-05       0.001      126  LS failed, Hessian reset \n",
      "      99       560.246   1.16768e-06       52.2051     0.07023           1      185   \n",
      "    Iter      log prob        ||dx||      ||grad||       alpha      alpha0  # evals  Notes \n",
      "     114       560.251   4.24108e-05         58.49    5.44e-07       0.001      254  LS failed, Hessian reset \n",
      "     141       560.254   1.15393e-06       64.1925   1.734e-08       0.001      330  LS failed, Hessian reset \n",
      "     157       560.254   8.75584e-09       75.7982      0.2201      0.2201      354   \n",
      "Optimization terminated normally: \n",
      "  Convergence detected: absolute parameter change was below tolerance\n"
     ]
    },
    {
     "data": {
      "text/plain": [
       "{'RMSE': 8.941431104905725, 'MAPE': 0.21126690247781202}"
      ]
     },
     "execution_count": 18,
     "metadata": {},
     "output_type": "execute_result"
    }
   ],
   "source": [
    "model_baseline = Prophet()\n",
    "z = preprocess(y)\n",
    "train, valid = temporal_train_test_split(z, train_size = 365)\n",
    "pred = forecast(model_baseline, train, valid)\n",
    "dic_res = evaluate(pred, valid)\n",
    "dic_res"
   ]
  },
  {
   "cell_type": "code",
   "execution_count": null,
   "id": "fdcff2dc-27ef-4187-b589-4784f997b8a7",
   "metadata": {},
   "outputs": [],
   "source": [
    "# Not a lot of interest"
   ]
  },
  {
   "cell_type": "markdown",
   "id": "fa576d9c-60d3-4898-b535-656cec4c1f18",
   "metadata": {},
   "source": [
    "# Grid search CV"
   ]
  },
  {
   "cell_type": "code",
   "execution_count": 10,
   "id": "8c2aa655-a721-46f2-9bc9-f735658e2035",
   "metadata": {},
   "outputs": [],
   "source": [
    "def grid_search_cv(grid = grid_base, initial = \"365 days\", period = \"30 days\", horizon = \"30 days\", y=y):\n",
    "    \"\"\"Plots the cross-validated performance of Prophet models trained with parameters in the grid.\n",
    "\n",
    "    Parameters\n",
    "    ----------\n",
    "    grid : dict\n",
    "        Dictionary where keys are parameters names and values are lists of param values to be tested.\n",
    "    initial : str\n",
    "        Number of days in the training set of each fold.\n",
    "    period : str\n",
    "        Offset between each fold (in number of days).\n",
    "    horizon : str\n",
    "        Number of days in the validation set of each fold.\n",
    "    y : pd.DataFrame\n",
    "        Whole dataset.\n",
    "    \"\"\"\n",
    "    df = preprocess(y)\n",
    "    RMSEs = []\n",
    "    combinations = [dict(zip(grid.keys(), i)) for i in itertools.product(*grid.values())]\n",
    "    eval_df = pd.DataFrame(combinations)\n",
    "    for params in tqdm(combinations):\n",
    "        model = Prophet(**params).fit(df)\n",
    "        df_cv = cross_validation(model, initial=initial, period=period, horizon=horizon, parallel=\"threads\")\n",
    "        df_p = performance_metrics(df_cv, rolling_window=1)\n",
    "        RMSEs.append(df_p['rmse'].values[0])\n",
    "    eval_df['RMSE'] = RMSEs\n",
    "    plot_grid_search(eval_df, grid)\n",
    "    return(eval_df)"
   ]
  },
  {
   "cell_type": "code",
   "execution_count": 12,
   "id": "268a1c1b-ec61-4784-858f-1f4049038668",
   "metadata": {},
   "outputs": [],
   "source": [
    "#grid_search_cv()\n",
    "# Uncomment for launching the grid search cv, however it will take over 15min and as we saw earlier, it has limited interest"
   ]
  },
  {
   "cell_type": "code",
   "execution_count": null,
   "id": "2c66e7a5-d088-4482-bafe-dd637c0961f0",
   "metadata": {},
   "outputs": [],
   "source": [
    "y"
   ]
  },
  {
   "cell_type": "code",
   "execution_count": null,
   "id": "1e82cacb-a78f-4e04-8ab3-023f1b0dd06b",
   "metadata": {},
   "outputs": [],
   "source": []
  }
 ],
 "metadata": {
  "kernelspec": {
   "display_name": "Python 3 (ipykernel)",
   "language": "python",
   "name": "python3"
  },
  "language_info": {
   "codemirror_mode": {
    "name": "ipython",
    "version": 3
   },
   "file_extension": ".py",
   "mimetype": "text/x-python",
   "name": "python",
   "nbconvert_exporter": "python",
   "pygments_lexer": "ipython3",
   "version": "3.8.13"
  }
 },
 "nbformat": 4,
 "nbformat_minor": 5
}
