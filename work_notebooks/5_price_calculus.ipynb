{
 "cells": [
  {
   "attachments": {},
   "cell_type": "markdown",
   "metadata": {},
   "source": [
    "### Import the libraries"
   ]
  },
  {
   "cell_type": "code",
   "execution_count": 1,
   "metadata": {},
   "outputs": [],
   "source": [
    "import pandas as pd\n",
    "from pathlib import Path\n",
    "import matplotlib.pyplot as plt\n",
    "import os\n",
    "import numpy as np"
   ]
  },
  {
   "cell_type": "code",
   "execution_count": 2,
   "metadata": {},
   "outputs": [
    {
     "data": {
      "text/plain": [
       "'/Users/Antoine/data_science_projects/natixis_challenge'"
      ]
     },
     "execution_count": 2,
     "metadata": {},
     "output_type": "execute_result"
    }
   ],
   "source": [
    "notebook_path = Path(os.getcwd())\n",
    "root_path = notebook_path.parent.absolute()\n",
    "os.chdir(root_path)\n",
    "str(root_path)"
   ]
  },
  {
   "attachments": {},
   "cell_type": "markdown",
   "metadata": {},
   "source": [
    "### Load the datasets"
   ]
  },
  {
   "cell_type": "code",
   "execution_count": 3,
   "metadata": {},
   "outputs": [],
   "source": [
    "df_cockpit = pd.read_csv('./data/cockpit_20221221.csv').drop('Unnamed: 0', axis=1)\n",
    "df_item_info = pd.read_csv('./data/item_info_20221221.csv').drop('Unnamed: 0', axis=1)\n",
    "df_item_trend = pd.read_csv('./data/item_trend_20221221.csv').drop('Unnamed: 0', axis=1)\n",
    "df_tmp_hosts_zabbix = pd.read_csv('./data/tmp_hosts_zabbix_20221221.csv').drop('Unnamed: 0', axis=1)\n",
    "df_mycloud = pd.read_csv('./data/mycloud_20221221.csv').drop('Unnamed: 0', axis=1)"
   ]
  },
  {
   "attachments": {},
   "cell_type": "markdown",
   "metadata": {},
   "source": [
    "### Vizualise the datasets"
   ]
  },
  {
   "cell_type": "code",
   "execution_count": 4,
   "metadata": {},
   "outputs": [
    {
     "name": "stdout",
     "output_type": "stream",
     "text": [
      "(5189, 22)\n"
     ]
    },
    {
     "data": {
      "text/html": [
       "<div>\n",
       "<style scoped>\n",
       "    .dataframe tbody tr th:only-of-type {\n",
       "        vertical-align: middle;\n",
       "    }\n",
       "\n",
       "    .dataframe tbody tr th {\n",
       "        vertical-align: top;\n",
       "    }\n",
       "\n",
       "    .dataframe thead th {\n",
       "        text-align: right;\n",
       "    }\n",
       "</style>\n",
       "<table border=\"1\" class=\"dataframe\">\n",
       "  <thead>\n",
       "    <tr style=\"text-align: right;\">\n",
       "      <th></th>\n",
       "      <th>name_department</th>\n",
       "      <th>iua</th>\n",
       "      <th>name_subfunction</th>\n",
       "      <th>name_function</th>\n",
       "      <th>name_server</th>\n",
       "      <th>model</th>\n",
       "      <th>name_state</th>\n",
       "      <th>name_environment</th>\n",
       "      <th>os</th>\n",
       "      <th>country</th>\n",
       "      <th>...</th>\n",
       "      <th>ram</th>\n",
       "      <th>number_core</th>\n",
       "      <th>number_cpu</th>\n",
       "      <th>type_cpu</th>\n",
       "      <th>electrical_power</th>\n",
       "      <th>server_parent</th>\n",
       "      <th>server_parent2</th>\n",
       "      <th>name_cluster</th>\n",
       "      <th>mycloud</th>\n",
       "      <th>bcloud</th>\n",
       "    </tr>\n",
       "  </thead>\n",
       "  <tbody>\n",
       "    <tr>\n",
       "      <th>0</th>\n",
       "      <td>etu-bgc-etrading-architecture</td>\n",
       "      <td>AV9</td>\n",
       "      <td>Application Server</td>\n",
       "      <td>APPLICATION</td>\n",
       "      <td>SWDCFRAV9779</td>\n",
       "      <td>VIRTUAL_MACHINE</td>\n",
       "      <td>INFUNCTION</td>\n",
       "      <td>Dev</td>\n",
       "      <td>Windows 2016 Standard 10.0.14393</td>\n",
       "      <td>FRANCE</td>\n",
       "      <td>...</td>\n",
       "      <td>16777</td>\n",
       "      <td>2</td>\n",
       "      <td>2</td>\n",
       "      <td>INTEL(R) XEON(R) SILVER 4314 CPU @ 2.40GHZ</td>\n",
       "      <td>NaN</td>\n",
       "      <td>SEPCFRNXFX10808</td>\n",
       "      <td>NaN</td>\n",
       "      <td>NaN</td>\n",
       "      <td>Yes</td>\n",
       "      <td>NaN</td>\n",
       "    </tr>\n",
       "    <tr>\n",
       "      <th>1</th>\n",
       "      <td>etu-bgc-etrading-architecture</td>\n",
       "      <td>Y59</td>\n",
       "      <td>Application Server</td>\n",
       "      <td>APPLICATION</td>\n",
       "      <td>SLPAFRETR168</td>\n",
       "      <td>VIRTUAL_MACHINE</td>\n",
       "      <td>INFUNCTION</td>\n",
       "      <td>Prod</td>\n",
       "      <td>Linux 3.10.0-1160.76.1.el7.x86_64 RHEL7.9</td>\n",
       "      <td>FRANCE</td>\n",
       "      <td>...</td>\n",
       "      <td>7629</td>\n",
       "      <td>1</td>\n",
       "      <td>1</td>\n",
       "      <td>INTEL(R) XEON(R) CPU E5-2680 0 @ 2.70GHZ:X86_64</td>\n",
       "      <td>NaN</td>\n",
       "      <td>SEPIFRLINP029</td>\n",
       "      <td>NaN</td>\n",
       "      <td>NaN</td>\n",
       "      <td>No</td>\n",
       "      <td>NaN</td>\n",
       "    </tr>\n",
       "  </tbody>\n",
       "</table>\n",
       "<p>2 rows × 22 columns</p>\n",
       "</div>"
      ],
      "text/plain": [
       "                 name_department  iua    name_subfunction name_function  \\\n",
       "0  etu-bgc-etrading-architecture  AV9  Application Server   APPLICATION   \n",
       "1  etu-bgc-etrading-architecture  Y59  Application Server   APPLICATION   \n",
       "\n",
       "    name_server            model  name_state name_environment  \\\n",
       "0  SWDCFRAV9779  VIRTUAL_MACHINE  INFUNCTION              Dev   \n",
       "1  SLPAFRETR168  VIRTUAL_MACHINE  INFUNCTION             Prod   \n",
       "\n",
       "                                          os country  ...    ram number_core  \\\n",
       "0           Windows 2016 Standard 10.0.14393  FRANCE  ...  16777           2   \n",
       "1  Linux 3.10.0-1160.76.1.el7.x86_64 RHEL7.9  FRANCE  ...   7629           1   \n",
       "\n",
       "   number_cpu                                         type_cpu  \\\n",
       "0           2       INTEL(R) XEON(R) SILVER 4314 CPU @ 2.40GHZ   \n",
       "1           1  INTEL(R) XEON(R) CPU E5-2680 0 @ 2.70GHZ:X86_64   \n",
       "\n",
       "   electrical_power    server_parent  server_parent2 name_cluster mycloud  \\\n",
       "0               NaN  SEPCFRNXFX10808             NaN          NaN     Yes   \n",
       "1               NaN    SEPIFRLINP029             NaN          NaN      No   \n",
       "\n",
       "  bcloud  \n",
       "0    NaN  \n",
       "1    NaN  \n",
       "\n",
       "[2 rows x 22 columns]"
      ]
     },
     "execution_count": 4,
     "metadata": {},
     "output_type": "execute_result"
    }
   ],
   "source": [
    "print(df_cockpit.shape)\n",
    "df_cockpit.head(2)"
   ]
  },
  {
   "cell_type": "code",
   "execution_count": 5,
   "metadata": {},
   "outputs": [
    {
     "name": "stdout",
     "output_type": "stream",
     "text": [
      "(10015, 3)\n"
     ]
    },
    {
     "data": {
      "text/html": [
       "<div>\n",
       "<style scoped>\n",
       "    .dataframe tbody tr th:only-of-type {\n",
       "        vertical-align: middle;\n",
       "    }\n",
       "\n",
       "    .dataframe tbody tr th {\n",
       "        vertical-align: top;\n",
       "    }\n",
       "\n",
       "    .dataframe thead th {\n",
       "        text-align: right;\n",
       "    }\n",
       "</style>\n",
       "<table border=\"1\" class=\"dataframe\">\n",
       "  <thead>\n",
       "    <tr style=\"text-align: right;\">\n",
       "      <th></th>\n",
       "      <th>itemid</th>\n",
       "      <th>hostid</th>\n",
       "      <th>item_type</th>\n",
       "    </tr>\n",
       "  </thead>\n",
       "  <tbody>\n",
       "    <tr>\n",
       "      <th>0</th>\n",
       "      <td>264670</td>\n",
       "      <td>806</td>\n",
       "      <td>cpu</td>\n",
       "    </tr>\n",
       "    <tr>\n",
       "      <th>1</th>\n",
       "      <td>622332</td>\n",
       "      <td>4755</td>\n",
       "      <td>cpu</td>\n",
       "    </tr>\n",
       "  </tbody>\n",
       "</table>\n",
       "</div>"
      ],
      "text/plain": [
       "   itemid  hostid item_type\n",
       "0  264670     806       cpu\n",
       "1  622332    4755       cpu"
      ]
     },
     "execution_count": 5,
     "metadata": {},
     "output_type": "execute_result"
    }
   ],
   "source": [
    "print(df_item_info.shape)\n",
    "df_item_info.head(2)"
   ]
  },
  {
   "cell_type": "code",
   "execution_count": 6,
   "metadata": {},
   "outputs": [
    {
     "name": "stdout",
     "output_type": "stream",
     "text": [
      "(3866173, 6)\n"
     ]
    },
    {
     "data": {
      "text/html": [
       "<div>\n",
       "<style scoped>\n",
       "    .dataframe tbody tr th:only-of-type {\n",
       "        vertical-align: middle;\n",
       "    }\n",
       "\n",
       "    .dataframe tbody tr th {\n",
       "        vertical-align: top;\n",
       "    }\n",
       "\n",
       "    .dataframe thead th {\n",
       "        text-align: right;\n",
       "    }\n",
       "</style>\n",
       "<table border=\"1\" class=\"dataframe\">\n",
       "  <thead>\n",
       "    <tr style=\"text-align: right;\">\n",
       "      <th></th>\n",
       "      <th>itemid</th>\n",
       "      <th>clock</th>\n",
       "      <th>value_min</th>\n",
       "      <th>value_avg</th>\n",
       "      <th>value_max</th>\n",
       "      <th>item_type</th>\n",
       "    </tr>\n",
       "  </thead>\n",
       "  <tbody>\n",
       "    <tr>\n",
       "      <th>0</th>\n",
       "      <td>264670</td>\n",
       "      <td>2021-05-27</td>\n",
       "      <td>5.789395</td>\n",
       "      <td>7.956363</td>\n",
       "      <td>50.884403</td>\n",
       "      <td>cpu</td>\n",
       "    </tr>\n",
       "    <tr>\n",
       "      <th>1</th>\n",
       "      <td>264670</td>\n",
       "      <td>2021-05-28</td>\n",
       "      <td>5.737689</td>\n",
       "      <td>10.279124</td>\n",
       "      <td>63.836303</td>\n",
       "      <td>cpu</td>\n",
       "    </tr>\n",
       "  </tbody>\n",
       "</table>\n",
       "</div>"
      ],
      "text/plain": [
       "   itemid       clock  value_min  value_avg  value_max item_type\n",
       "0  264670  2021-05-27   5.789395   7.956363  50.884403       cpu\n",
       "1  264670  2021-05-28   5.737689  10.279124  63.836303       cpu"
      ]
     },
     "execution_count": 6,
     "metadata": {},
     "output_type": "execute_result"
    }
   ],
   "source": [
    "print(df_item_trend.shape)\n",
    "df_item_trend.head(2)"
   ]
  },
  {
   "cell_type": "code",
   "execution_count": 7,
   "metadata": {},
   "outputs": [
    {
     "name": "stdout",
     "output_type": "stream",
     "text": [
      "(35, 5)\n"
     ]
    },
    {
     "data": {
      "text/html": [
       "<div>\n",
       "<style scoped>\n",
       "    .dataframe tbody tr th:only-of-type {\n",
       "        vertical-align: middle;\n",
       "    }\n",
       "\n",
       "    .dataframe tbody tr th {\n",
       "        vertical-align: top;\n",
       "    }\n",
       "\n",
       "    .dataframe thead th {\n",
       "        text-align: right;\n",
       "    }\n",
       "</style>\n",
       "<table border=\"1\" class=\"dataframe\">\n",
       "  <thead>\n",
       "    <tr style=\"text-align: right;\">\n",
       "      <th></th>\n",
       "      <th>key</th>\n",
       "      <th>NameMyCloud</th>\n",
       "      <th>CPU</th>\n",
       "      <th>RAM</th>\n",
       "      <th>Price</th>\n",
       "    </tr>\n",
       "  </thead>\n",
       "  <tbody>\n",
       "    <tr>\n",
       "      <th>0</th>\n",
       "      <td>1#2</td>\n",
       "      <td>small</td>\n",
       "      <td>1</td>\n",
       "      <td>2</td>\n",
       "      <td>332.15</td>\n",
       "    </tr>\n",
       "    <tr>\n",
       "      <th>1</th>\n",
       "      <td>1#4</td>\n",
       "      <td>small_2</td>\n",
       "      <td>1</td>\n",
       "      <td>4</td>\n",
       "      <td>445.30</td>\n",
       "    </tr>\n",
       "    <tr>\n",
       "      <th>2</th>\n",
       "      <td>1#6</td>\n",
       "      <td>small_3</td>\n",
       "      <td>1</td>\n",
       "      <td>6</td>\n",
       "      <td>547.50</td>\n",
       "    </tr>\n",
       "    <tr>\n",
       "      <th>3</th>\n",
       "      <td>1#8</td>\n",
       "      <td>small_4</td>\n",
       "      <td>1</td>\n",
       "      <td>8</td>\n",
       "      <td>667.95</td>\n",
       "    </tr>\n",
       "    <tr>\n",
       "      <th>4</th>\n",
       "      <td>1#12</td>\n",
       "      <td>small_6</td>\n",
       "      <td>1</td>\n",
       "      <td>12</td>\n",
       "      <td>1109.60</td>\n",
       "    </tr>\n",
       "  </tbody>\n",
       "</table>\n",
       "</div>"
      ],
      "text/plain": [
       "    key NameMyCloud  CPU  RAM    Price\n",
       "0   1#2       small    1    2   332.15\n",
       "1   1#4     small_2    1    4   445.30\n",
       "2   1#6     small_3    1    6   547.50\n",
       "3   1#8     small_4    1    8   667.95\n",
       "4  1#12     small_6    1   12  1109.60"
      ]
     },
     "execution_count": 7,
     "metadata": {},
     "output_type": "execute_result"
    }
   ],
   "source": [
    "print(df_mycloud.shape)\n",
    "df_mycloud.head(5)"
   ]
  },
  {
   "cell_type": "code",
   "execution_count": 8,
   "metadata": {},
   "outputs": [
    {
     "name": "stdout",
     "output_type": "stream",
     "text": [
      "(4365, 2)\n"
     ]
    },
    {
     "data": {
      "text/html": [
       "<div>\n",
       "<style scoped>\n",
       "    .dataframe tbody tr th:only-of-type {\n",
       "        vertical-align: middle;\n",
       "    }\n",
       "\n",
       "    .dataframe tbody tr th {\n",
       "        vertical-align: top;\n",
       "    }\n",
       "\n",
       "    .dataframe thead th {\n",
       "        text-align: right;\n",
       "    }\n",
       "</style>\n",
       "<table border=\"1\" class=\"dataframe\">\n",
       "  <thead>\n",
       "    <tr style=\"text-align: right;\">\n",
       "      <th></th>\n",
       "      <th>hostid</th>\n",
       "      <th>host</th>\n",
       "    </tr>\n",
       "  </thead>\n",
       "  <tbody>\n",
       "    <tr>\n",
       "      <th>0</th>\n",
       "      <td>6</td>\n",
       "      <td>slpdfrora040a</td>\n",
       "    </tr>\n",
       "    <tr>\n",
       "      <th>1</th>\n",
       "      <td>800</td>\n",
       "      <td>SWPAFRWNETV44</td>\n",
       "    </tr>\n",
       "  </tbody>\n",
       "</table>\n",
       "</div>"
      ],
      "text/plain": [
       "   hostid           host\n",
       "0       6  slpdfrora040a\n",
       "1     800  SWPAFRWNETV44"
      ]
     },
     "execution_count": 8,
     "metadata": {},
     "output_type": "execute_result"
    }
   ],
   "source": [
    "print(df_tmp_hosts_zabbix.shape)\n",
    "df_tmp_hosts_zabbix.head(2)"
   ]
  },
  {
   "attachments": {},
   "cell_type": "markdown",
   "metadata": {},
   "source": [
    "### Calculate the price of the configuration\n",
    "We only take into account the mycloud servors (we don't have the catalogue of the other servors)."
   ]
  },
  {
   "cell_type": "code",
   "execution_count": 10,
   "metadata": {},
   "outputs": [
    {
     "name": "stdout",
     "output_type": "stream",
     "text": [
      "80 different memory capacities of ram.\n"
     ]
    }
   ],
   "source": [
    "print(f\"{len(df_cockpit[df_cockpit.mycloud=='Yes'].ram.sort_values().unique())} different memory capacities of ram.\")"
   ]
  },
  {
   "cell_type": "code",
   "execution_count": 11,
   "metadata": {},
   "outputs": [
    {
     "data": {
      "text/html": [
       "<div>\n",
       "<style scoped>\n",
       "    .dataframe tbody tr th:only-of-type {\n",
       "        vertical-align: middle;\n",
       "    }\n",
       "\n",
       "    .dataframe tbody tr th {\n",
       "        vertical-align: top;\n",
       "    }\n",
       "\n",
       "    .dataframe thead th {\n",
       "        text-align: right;\n",
       "    }\n",
       "</style>\n",
       "<table border=\"1\" class=\"dataframe\">\n",
       "  <thead>\n",
       "    <tr style=\"text-align: right;\">\n",
       "      <th></th>\n",
       "      <th>iua</th>\n",
       "      <th>ram</th>\n",
       "      <th>number_cpu</th>\n",
       "      <th>name_server</th>\n",
       "    </tr>\n",
       "  </thead>\n",
       "  <tbody>\n",
       "    <tr>\n",
       "      <th>342</th>\n",
       "      <td>GOS</td>\n",
       "      <td>1.76</td>\n",
       "      <td>1</td>\n",
       "      <td>SLDCFRNXGOS5320</td>\n",
       "    </tr>\n",
       "    <tr>\n",
       "      <th>694</th>\n",
       "      <td>Q63</td>\n",
       "      <td>1.76</td>\n",
       "      <td>1</td>\n",
       "      <td>SLUCFRNXQ630208</td>\n",
       "    </tr>\n",
       "  </tbody>\n",
       "</table>\n",
       "</div>"
      ],
      "text/plain": [
       "     iua   ram  number_cpu      name_server\n",
       "342  GOS  1.76           1  SLDCFRNXGOS5320\n",
       "694  Q63  1.76           1  SLUCFRNXQ630208"
      ]
     },
     "execution_count": 11,
     "metadata": {},
     "output_type": "execute_result"
    }
   ],
   "source": [
    "# Select mycloud servers\n",
    "config = pd.DataFrame(df_cockpit[df_cockpit.mycloud=='Yes'][[\"iua\", \"ram\", \"number_cpu\", \"name_server\"]].sort_values(\"ram\"))\n",
    "config[\"ram\"] = config.ram/1000\n",
    "config.head(2)"
   ]
  },
  {
   "cell_type": "code",
   "execution_count": 49,
   "metadata": {},
   "outputs": [
    {
     "name": "stdout",
     "output_type": "stream",
     "text": [
      "719 servers host multiple applications.\n"
     ]
    },
    {
     "data": {
      "text/html": [
       "<div>\n",
       "<style scoped>\n",
       "    .dataframe tbody tr th:only-of-type {\n",
       "        vertical-align: middle;\n",
       "    }\n",
       "\n",
       "    .dataframe tbody tr th {\n",
       "        vertical-align: top;\n",
       "    }\n",
       "\n",
       "    .dataframe thead th {\n",
       "        text-align: right;\n",
       "    }\n",
       "</style>\n",
       "<table border=\"1\" class=\"dataframe\">\n",
       "  <thead>\n",
       "    <tr style=\"text-align: right;\">\n",
       "      <th></th>\n",
       "      <th>ram</th>\n",
       "      <th>number_cpu</th>\n",
       "      <th>name_server</th>\n",
       "    </tr>\n",
       "  </thead>\n",
       "  <tbody>\n",
       "    <tr>\n",
       "      <th>342</th>\n",
       "      <td>1.760</td>\n",
       "      <td>1</td>\n",
       "      <td>SLDCFRNXGOS5320</td>\n",
       "    </tr>\n",
       "    <tr>\n",
       "      <th>694</th>\n",
       "      <td>1.760</td>\n",
       "      <td>1</td>\n",
       "      <td>SLUCFRNXQ630208</td>\n",
       "    </tr>\n",
       "    <tr>\n",
       "      <th>2323</th>\n",
       "      <td>1.855</td>\n",
       "      <td>1</td>\n",
       "      <td>SLDCFRCDB481</td>\n",
       "    </tr>\n",
       "  </tbody>\n",
       "</table>\n",
       "</div>"
      ],
      "text/plain": [
       "        ram  number_cpu      name_server\n",
       "342   1.760           1  SLDCFRNXGOS5320\n",
       "694   1.760           1  SLUCFRNXQ630208\n",
       "2323  1.855           1     SLDCFRCDB481"
      ]
     },
     "execution_count": 49,
     "metadata": {},
     "output_type": "execute_result"
    }
   ],
   "source": [
    "# Extract the list of servers (multiple applications correspond to one server)\n",
    "info_servers = config[[\"ram\", \"number_cpu\", \"name_server\"]].drop_duplicates()\n",
    "print(f\"{config.shape[0]-info_servers.shape[0]} servers host multiple applications.\")\n",
    "info_servers.head(3)"
   ]
  },
  {
   "cell_type": "code",
   "execution_count": 50,
   "metadata": {},
   "outputs": [
    {
     "data": {
      "text/plain": [
       "10000"
      ]
     },
     "execution_count": 50,
     "metadata": {},
     "output_type": "execute_result"
    }
   ],
   "source": [
    "def find_closest(ram, ram_refs):\n",
    "    for index, ram_ref in enumerate(ram_refs):\n",
    "        # Initialization\n",
    "        if index==0:\n",
    "            ram_final = ram_refs[0]\n",
    "\n",
    "        # Recurrence\n",
    "        else:\n",
    "            if abs(ram-ram_ref) < abs(ram-ram_final):\n",
    "                ram_final = ram_ref\n",
    "    return ram_final\n",
    "find_closest(12380, [1000, 5000, 10000, 15000, 20000])"
   ]
  },
  {
   "cell_type": "code",
   "execution_count": 51,
   "metadata": {},
   "outputs": [
    {
     "data": {
      "text/html": [
       "<div>\n",
       "<style scoped>\n",
       "    .dataframe tbody tr th:only-of-type {\n",
       "        vertical-align: middle;\n",
       "    }\n",
       "\n",
       "    .dataframe tbody tr th {\n",
       "        vertical-align: top;\n",
       "    }\n",
       "\n",
       "    .dataframe thead th {\n",
       "        text-align: right;\n",
       "    }\n",
       "</style>\n",
       "<table border=\"1\" class=\"dataframe\">\n",
       "  <thead>\n",
       "    <tr style=\"text-align: right;\">\n",
       "      <th></th>\n",
       "      <th>ram</th>\n",
       "      <th>number_cpu</th>\n",
       "      <th>name_server</th>\n",
       "      <th>ram_ref</th>\n",
       "    </tr>\n",
       "  </thead>\n",
       "  <tbody>\n",
       "    <tr>\n",
       "      <th>342</th>\n",
       "      <td>1.760</td>\n",
       "      <td>1</td>\n",
       "      <td>SLDCFRNXGOS5320</td>\n",
       "      <td>2</td>\n",
       "    </tr>\n",
       "    <tr>\n",
       "      <th>694</th>\n",
       "      <td>1.760</td>\n",
       "      <td>1</td>\n",
       "      <td>SLUCFRNXQ630208</td>\n",
       "      <td>2</td>\n",
       "    </tr>\n",
       "    <tr>\n",
       "      <th>2323</th>\n",
       "      <td>1.855</td>\n",
       "      <td>1</td>\n",
       "      <td>SLDCFRCDB481</td>\n",
       "      <td>2</td>\n",
       "    </tr>\n",
       "  </tbody>\n",
       "</table>\n",
       "</div>"
      ],
      "text/plain": [
       "        ram  number_cpu      name_server  ram_ref\n",
       "342   1.760           1  SLDCFRNXGOS5320        2\n",
       "694   1.760           1  SLUCFRNXQ630208        2\n",
       "2323  1.855           1     SLDCFRCDB481        2"
      ]
     },
     "execution_count": 51,
     "metadata": {},
     "output_type": "execute_result"
    }
   ],
   "source": [
    "# Find the actual ram in the catalogue\n",
    "info_servers[\"ram_ref\"] = info_servers.ram.apply(lambda x: find_closest(x, df_mycloud.RAM))\n",
    "info_servers.head(3)"
   ]
  },
  {
   "cell_type": "code",
   "execution_count": 52,
   "metadata": {},
   "outputs": [
    {
     "data": {
      "text/html": [
       "<div>\n",
       "<style scoped>\n",
       "    .dataframe tbody tr th:only-of-type {\n",
       "        vertical-align: middle;\n",
       "    }\n",
       "\n",
       "    .dataframe tbody tr th {\n",
       "        vertical-align: top;\n",
       "    }\n",
       "\n",
       "    .dataframe thead th {\n",
       "        text-align: right;\n",
       "    }\n",
       "</style>\n",
       "<table border=\"1\" class=\"dataframe\">\n",
       "  <thead>\n",
       "    <tr style=\"text-align: right;\">\n",
       "      <th></th>\n",
       "      <th>ram</th>\n",
       "      <th>name_server</th>\n",
       "      <th>key</th>\n",
       "      <th>NameMyCloud</th>\n",
       "      <th>CPU</th>\n",
       "      <th>RAM</th>\n",
       "      <th>Price</th>\n",
       "    </tr>\n",
       "  </thead>\n",
       "  <tbody>\n",
       "    <tr>\n",
       "      <th>0</th>\n",
       "      <td>1.760</td>\n",
       "      <td>SLDCFRNXGOS5320</td>\n",
       "      <td>1#2</td>\n",
       "      <td>small</td>\n",
       "      <td>1</td>\n",
       "      <td>2</td>\n",
       "      <td>332.15</td>\n",
       "    </tr>\n",
       "    <tr>\n",
       "      <th>1</th>\n",
       "      <td>1.760</td>\n",
       "      <td>SLUCFRNXQ630208</td>\n",
       "      <td>1#2</td>\n",
       "      <td>small</td>\n",
       "      <td>1</td>\n",
       "      <td>2</td>\n",
       "      <td>332.15</td>\n",
       "    </tr>\n",
       "    <tr>\n",
       "      <th>2</th>\n",
       "      <td>1.855</td>\n",
       "      <td>SLDCFRCDB481</td>\n",
       "      <td>1#2</td>\n",
       "      <td>small</td>\n",
       "      <td>1</td>\n",
       "      <td>2</td>\n",
       "      <td>332.15</td>\n",
       "    </tr>\n",
       "  </tbody>\n",
       "</table>\n",
       "</div>"
      ],
      "text/plain": [
       "     ram      name_server  key NameMyCloud  CPU  RAM   Price\n",
       "0  1.760  SLDCFRNXGOS5320  1#2       small    1    2  332.15\n",
       "1  1.760  SLUCFRNXQ630208  1#2       small    1    2  332.15\n",
       "2  1.855     SLDCFRCDB481  1#2       small    1    2  332.15"
      ]
     },
     "execution_count": 52,
     "metadata": {},
     "output_type": "execute_result"
    }
   ],
   "source": [
    "# Add catalogue info (price, server type, etc.)\n",
    "info_servers = info_servers.merge(df_mycloud, how=\"left\", left_on=[\"ram_ref\", \"number_cpu\"], right_on=[\"RAM\", \"CPU\"])\n",
    "info_servers = info_servers.drop([\"number_cpu\", \"ram_ref\"], axis=1)\n",
    "info_servers.head(3)"
   ]
  },
  {
   "cell_type": "code",
   "execution_count": 53,
   "metadata": {},
   "outputs": [
    {
     "name": "stdout",
     "output_type": "stream",
     "text": [
      "The total price of the config is 6502691.45€.\n"
     ]
    }
   ],
   "source": [
    "# Calculate the price.\n",
    "config_price = info_servers.Price.sum()\n",
    "print(f\"The total price of the config is {config_price}€.\")"
   ]
  },
  {
   "cell_type": "code",
   "execution_count": 6,
   "metadata": {},
   "outputs": [],
   "source": [
    "# Final function\n",
    "def calculate_price(df_cockpit=df_cockpit, df_mycloud=df_mycloud):\n",
    "    '''\n",
    "    Calculate the price of a configuration.\n",
    "\n",
    "    Args:\n",
    "        df_cockpit : pandas.DataFrame = table of the configuration\n",
    "        df_mycloud : pandas.DataFrame = table of the catalogue of prices of mycloud servors\n",
    "\n",
    "    Return:\n",
    "        price : float = total price of the configuration\n",
    "    '''\n",
    "\n",
    "    def find_closest(ram, ram_refs):\n",
    "        '''\n",
    "        Find the closest value to a float in a list of floats.\n",
    "\n",
    "        Args:\n",
    "            ram : float = value to find the closest of\n",
    "            ram_refs : list(float) = reference values\n",
    "            \n",
    "        Return: \n",
    "            ram_final : float = closets reference value.\n",
    "        '''\n",
    "        for index, ram_ref in enumerate(ram_refs):\n",
    "            # Initialization\n",
    "            if index==0:\n",
    "                ram_final = ram_refs[0]\n",
    "\n",
    "            # Reccurence\n",
    "            else:\n",
    "                if abs(ram-ram_ref) < abs(ram-ram_final):\n",
    "                    ram_final = ram_ref\n",
    "        return ram_final\n",
    "\n",
    "    # Extract usable data : mycloud servors only\n",
    "    config = pd.DataFrame(df_cockpit[df_cockpit.mycloud=='Yes'][[\"iua\", \"ram\", \"number_cpu\", \"name_server\"]].sort_values(\"ram\"))\n",
    "    # Convert in GBytes\n",
    "    config[\"ram\"] = config.ram/1000 \n",
    "\n",
    "    # Extract the list of servers (multiple applications correspond to one server)\n",
    "    info_servers = config[[\"ram\", \"number_cpu\", \"name_server\"]].drop_duplicates()\n",
    "    \n",
    "    # Find the servors in the catalogue\n",
    "    info_servers[\"ram_ref\"] = info_servers.ram.apply(lambda x: find_closest(x, df_mycloud.RAM))\n",
    "\n",
    "    # Add prices\n",
    "    info_servers = info_servers.merge(df_mycloud, how=\"left\", left_on=[\"ram_ref\", \"number_cpu\"], right_on=[\"RAM\", \"CPU\"])\n",
    "    info_servers = info_servers.drop([\"number_cpu\", \"ram_ref\"], axis=1)\n",
    "\n",
    "    # Calculate the price.\n",
    "    config_price = info_servers.Price.sum()\n",
    "\n",
    "    return config_price"
   ]
  },
  {
   "cell_type": "code",
   "execution_count": 45,
   "metadata": {},
   "outputs": [
    {
     "data": {
      "text/plain": [
       "'Total price of the config: 6502691.45€.'"
      ]
     },
     "execution_count": 45,
     "metadata": {},
     "output_type": "execute_result"
    }
   ],
   "source": [
    "f\"Total price of the config: {calculate_price()}€.\""
   ]
  },
  {
   "attachments": {},
   "cell_type": "markdown",
   "metadata": {},
   "source": [
    "Function added to src.utils.py."
   ]
  },
  {
   "attachments": {},
   "cell_type": "markdown",
   "metadata": {},
   "source": [
    "### Estimate the cost of saturation"
   ]
  },
  {
   "cell_type": "code",
   "execution_count": 22,
   "metadata": {},
   "outputs": [
    {
     "name": "stdout",
     "output_type": "stream",
     "text": [
      "cpu saturated 118949 times.\n",
      "mem saturated 0 times.\n",
      "citrix saturated 0 times.\n"
     ]
    }
   ],
   "source": [
    "for type in df_item_trend.item_type.unique():\n",
    "    print(f\"{type} saturated {df_item_trend[(df_item_trend.item_type==type)*(df_item_trend.value_max==100)].shape[0]} times.\")"
   ]
  },
  {
   "attachments": {},
   "cell_type": "markdown",
   "metadata": {},
   "source": [
    "If a server saturates, the pending executions queue up.  \n",
    "  \n",
    "Hypothesis : \n",
    "- there are only cpu saturation costs, no memory saturation cost\n",
    "    \n",
    "Two saturation states : \n",
    "- cpu_max=100 & cpu_avg!=100 <=>  saturation 50% of the time  &  30% of the user's time is wasted \n",
    "- cpu_max=100 & cpu_avg=100 <=>  saturation 100% of the time  &  60% of the user's time is wasted \n",
    "  \n",
    "Parameters :\n",
    "- salary (user's time waisted)\n",
    "- value of the project (project delayed)\n",
    "\n",
    "$$ saturationCost = saturationFactor*(0.6*numberUsers*salary + projectValue) $$\n",
    "where saturationFactor can be either 1 or 0.5, depending on the type of the saturation (see hypothesis)\n"
   ]
  },
  {
   "cell_type": "code",
   "execution_count": 27,
   "metadata": {},
   "outputs": [
    {
     "name": "stdout",
     "output_type": "stream",
     "text": [
      "Dates going from 2021-12-20 00:00:00 to 2022-12-20 00:00:00.\n",
      "(2647538, 6)\n"
     ]
    },
    {
     "data": {
      "text/html": [
       "<div>\n",
       "<style scoped>\n",
       "    .dataframe tbody tr th:only-of-type {\n",
       "        vertical-align: middle;\n",
       "    }\n",
       "\n",
       "    .dataframe tbody tr th {\n",
       "        vertical-align: top;\n",
       "    }\n",
       "\n",
       "    .dataframe thead th {\n",
       "        text-align: right;\n",
       "    }\n",
       "</style>\n",
       "<table border=\"1\" class=\"dataframe\">\n",
       "  <thead>\n",
       "    <tr style=\"text-align: right;\">\n",
       "      <th></th>\n",
       "      <th>itemid</th>\n",
       "      <th>clock</th>\n",
       "      <th>value_min</th>\n",
       "      <th>value_avg</th>\n",
       "      <th>value_max</th>\n",
       "      <th>item_type</th>\n",
       "    </tr>\n",
       "  </thead>\n",
       "  <tbody>\n",
       "    <tr>\n",
       "      <th>208</th>\n",
       "      <td>264670</td>\n",
       "      <td>2021-12-21</td>\n",
       "      <td>4.176619</td>\n",
       "      <td>9.647727</td>\n",
       "      <td>65.765696</td>\n",
       "      <td>cpu</td>\n",
       "    </tr>\n",
       "    <tr>\n",
       "      <th>209</th>\n",
       "      <td>264670</td>\n",
       "      <td>2021-12-22</td>\n",
       "      <td>4.157618</td>\n",
       "      <td>9.746449</td>\n",
       "      <td>99.055944</td>\n",
       "      <td>cpu</td>\n",
       "    </tr>\n",
       "    <tr>\n",
       "      <th>210</th>\n",
       "      <td>264670</td>\n",
       "      <td>2021-12-23</td>\n",
       "      <td>4.130700</td>\n",
       "      <td>9.214908</td>\n",
       "      <td>57.616304</td>\n",
       "      <td>cpu</td>\n",
       "    </tr>\n",
       "  </tbody>\n",
       "</table>\n",
       "</div>"
      ],
      "text/plain": [
       "     itemid      clock  value_min  value_avg  value_max item_type\n",
       "208  264670 2021-12-21   4.176619   9.647727  65.765696       cpu\n",
       "209  264670 2021-12-22   4.157618   9.746449  99.055944       cpu\n",
       "210  264670 2021-12-23   4.130700   9.214908  57.616304       cpu"
      ]
     },
     "execution_count": 27,
     "metadata": {},
     "output_type": "execute_result"
    }
   ],
   "source": [
    "df2 = df_item_trend[df_item_trend.item_type.isin([\"cpu\", \"mem\"])].copy() # we remove citrix that is the number of session\n",
    "df2['clock'] = pd.to_datetime(df2['clock'])\n",
    "\n",
    "# Select a one year date range\n",
    "end_date = df2.clock.max()\n",
    "start_date = end_date.replace(year = end_date.year - 1)\n",
    "df2 = df2[(df2['clock'] > start_date) & (df2['clock'] <= end_date)]\n",
    "print(f\"Dates going from {str(start_date)} to {str(end_date)}.\")\n",
    "\n",
    "print(df2.shape)\n",
    "df2.head(3)"
   ]
  },
  {
   "cell_type": "code",
   "execution_count": 28,
   "metadata": {},
   "outputs": [],
   "source": [
    "salary_year = 40000\n",
    "number_user = 1\n",
    "project_daily_value = 0"
   ]
  },
  {
   "cell_type": "code",
   "execution_count": 29,
   "metadata": {},
   "outputs": [
    {
     "data": {
      "text/html": [
       "<div>\n",
       "<style scoped>\n",
       "    .dataframe tbody tr th:only-of-type {\n",
       "        vertical-align: middle;\n",
       "    }\n",
       "\n",
       "    .dataframe tbody tr th {\n",
       "        vertical-align: top;\n",
       "    }\n",
       "\n",
       "    .dataframe thead th {\n",
       "        text-align: right;\n",
       "    }\n",
       "</style>\n",
       "<table border=\"1\" class=\"dataframe\">\n",
       "  <thead>\n",
       "    <tr style=\"text-align: right;\">\n",
       "      <th></th>\n",
       "      <th>itemid</th>\n",
       "      <th>clock</th>\n",
       "      <th>value_min</th>\n",
       "      <th>value_avg</th>\n",
       "      <th>value_max</th>\n",
       "      <th>item_type</th>\n",
       "      <th>saturation_cost</th>\n",
       "    </tr>\n",
       "  </thead>\n",
       "  <tbody>\n",
       "    <tr>\n",
       "      <th>208</th>\n",
       "      <td>264670</td>\n",
       "      <td>2021-12-21</td>\n",
       "      <td>4.176619</td>\n",
       "      <td>9.647727</td>\n",
       "      <td>65.765696</td>\n",
       "      <td>cpu</td>\n",
       "      <td>0.0</td>\n",
       "    </tr>\n",
       "    <tr>\n",
       "      <th>209</th>\n",
       "      <td>264670</td>\n",
       "      <td>2021-12-22</td>\n",
       "      <td>4.157618</td>\n",
       "      <td>9.746449</td>\n",
       "      <td>99.055944</td>\n",
       "      <td>cpu</td>\n",
       "      <td>0.0</td>\n",
       "    </tr>\n",
       "  </tbody>\n",
       "</table>\n",
       "</div>"
      ],
      "text/plain": [
       "     itemid      clock  value_min  value_avg  value_max item_type  \\\n",
       "208  264670 2021-12-21   4.176619   9.647727  65.765696       cpu   \n",
       "209  264670 2021-12-22   4.157618   9.746449  99.055944       cpu   \n",
       "\n",
       "     saturation_cost  \n",
       "208              0.0  \n",
       "209              0.0  "
      ]
     },
     "execution_count": 29,
     "metadata": {},
     "output_type": "execute_result"
    }
   ],
   "source": [
    "# Add a saturation cost column\n",
    "# saturation_cost = saturation_factor*(number_user*salary_cost + project_daily_value)\n",
    "salary_day = salary_year/365\n",
    "saturation_cost_full_day = 0.6*number_user*salary_day + project_daily_value\n",
    "df2[\"saturation_cost\"] = 0\n",
    "df2.loc[df2[\"value_avg\"]==100, \"saturation_cost\"] = saturation_cost_full_day\n",
    "df2.loc[(df2[\"value_avg\"]!=100)&(df2[\"value_max\"]==100), \"saturation_cost\"] = 0.5 * saturation_cost_full_day\n",
    "\n",
    "df2.head(2)"
   ]
  },
  {
   "cell_type": "code",
   "execution_count": 32,
   "metadata": {},
   "outputs": [
    {
     "name": "stdout",
     "output_type": "stream",
     "text": [
      "Total saturation cost : 2794000.0€.\n"
     ]
    }
   ],
   "source": [
    "# Calculate total saturation cost\n",
    "total_saturation_cost = df2.saturation_cost.sum()\n",
    "print(f\"Total saturation cost : {round(total_saturation_cost, -3)}€.\")"
   ]
  },
  {
   "cell_type": "code",
   "execution_count": 13,
   "metadata": {},
   "outputs": [],
   "source": [
    "def saturation_cost(df_item_trend,\\\n",
    "    salary_year=40000, \n",
    "    number_users=1, \n",
    "    project_daily_value=0, \n",
    "    saturation_threshold = 99,\n",
    "    average_saturation_duration = 0.1,\n",
    "    user_dependance = 0.6\n",
    "    ):\n",
    "    '''\n",
    "    Estimate the total saturation cost over the df_item_trend period.\n",
    "\n",
    "    Args:        \n",
    "        df_item_trend : pd.DataFrame = table listing the cpu usage of all servers per day\n",
    "        salary_year : int = annual average salary of the people working with the servers\n",
    "        number_users : int = average number of users depending on the applications\n",
    "        project_daily_value : daily financial impact of delay of the project \n",
    "        saturation_threshold : int = usage percentage from which we consider that the item is saturated\n",
    "        average_saturation_duration : float = average duration of a saturation (proportion of one day)\n",
    "        user_dependance : float = proportion of the user's time that depends on the app\n",
    "\n",
    "    Output:\n",
    "        total_saturation_cost : int = total saturation cost estimation in euros\n",
    "    '''\n",
    "    # Estimate the daily cost of saturation \n",
    "    # saturation_cost = saturation_factor*(number_user*salary_cost + project_daily_value)\n",
    "    salary_day = salary_year/365\n",
    "    saturation_cost_full_day = (user_dependance * number_users * salary_day) + project_daily_value\n",
    "\n",
    "    # Add a saturation cost column\n",
    "    df = df_item_trend.copy()\n",
    "    df[\"saturation_cost\"] = 0\n",
    "    df.loc[df[\"value_avg\"]>saturation_threshold, \"saturation_cost\"] = saturation_cost_full_day\n",
    "    df.loc[(df[\"value_avg\"]<saturation_threshold)&(df[\"value_max\"]>saturation_threshold), \"saturation_cost\"]\\\n",
    "        = average_saturation_duration * saturation_cost_full_day\n",
    "\n",
    "    # calculate total saturation cost\n",
    "    total_saturation_cost = df.saturation_cost.sum()\n",
    "\n",
    "    return total_saturation_cost"
   ]
  },
  {
   "cell_type": "code",
   "execution_count": 14,
   "metadata": {},
   "outputs": [
    {
     "name": "stdout",
     "output_type": "stream",
     "text": [
      "Total cost of saturation : 2069000.0€.\n"
     ]
    }
   ],
   "source": [
    "print(f\"Total cost of saturation : {round(saturation_cost(df_item_trend), -3)}€.\")"
   ]
  },
  {
   "attachments": {},
   "cell_type": "markdown",
   "metadata": {},
   "source": [
    "### Final cost of a configuration\n",
    "We combine the configuration price and the cost of saturation. \n",
    "Let's calculate the average period covered by the time series, to know on which period we calculated the stauration price."
   ]
  },
  {
   "cell_type": "code",
   "execution_count": 51,
   "metadata": {},
   "outputs": [
    {
     "data": {
      "text/html": [
       "<div>\n",
       "<style scoped>\n",
       "    .dataframe tbody tr th:only-of-type {\n",
       "        vertical-align: middle;\n",
       "    }\n",
       "\n",
       "    .dataframe tbody tr th {\n",
       "        vertical-align: top;\n",
       "    }\n",
       "\n",
       "    .dataframe thead th {\n",
       "        text-align: right;\n",
       "    }\n",
       "</style>\n",
       "<table border=\"1\" class=\"dataframe\">\n",
       "  <thead>\n",
       "    <tr style=\"text-align: right;\">\n",
       "      <th></th>\n",
       "      <th>itemid</th>\n",
       "      <th>clock</th>\n",
       "      <th>value_min</th>\n",
       "      <th>value_avg</th>\n",
       "      <th>value_max</th>\n",
       "      <th>item_type</th>\n",
       "    </tr>\n",
       "  </thead>\n",
       "  <tbody>\n",
       "    <tr>\n",
       "      <th>0</th>\n",
       "      <td>264670</td>\n",
       "      <td>2021-05-27</td>\n",
       "      <td>5.789395</td>\n",
       "      <td>7.956363</td>\n",
       "      <td>50.884403</td>\n",
       "      <td>cpu</td>\n",
       "    </tr>\n",
       "    <tr>\n",
       "      <th>1</th>\n",
       "      <td>264670</td>\n",
       "      <td>2021-05-28</td>\n",
       "      <td>5.737689</td>\n",
       "      <td>10.279124</td>\n",
       "      <td>63.836303</td>\n",
       "      <td>cpu</td>\n",
       "    </tr>\n",
       "  </tbody>\n",
       "</table>\n",
       "</div>"
      ],
      "text/plain": [
       "   itemid      clock  value_min  value_avg  value_max item_type\n",
       "0  264670 2021-05-27   5.789395   7.956363  50.884403       cpu\n",
       "1  264670 2021-05-28   5.737689  10.279124  63.836303       cpu"
      ]
     },
     "execution_count": 51,
     "metadata": {},
     "output_type": "execute_result"
    }
   ],
   "source": [
    "df_item_trend.head(2)"
   ]
  },
  {
   "cell_type": "code",
   "execution_count": 16,
   "metadata": {},
   "outputs": [],
   "source": [
    "def duration_avg(df_item_trend):\n",
    "    '''\n",
    "    Calculate the average duration covered by the time series of df_item_trend.\n",
    "\n",
    "    Args:\n",
    "        df_item_trend : pd.DataFrame([itemid, clock]) = table of the time series\n",
    "    Output: \n",
    "        duration_avg : float = average duration\n",
    "    '''\n",
    "    df_item_trend[\"clock\"] = pd.to_datetime(df_item_trend.clock).copy()\n",
    "    df_avg_duration = df_item_trend[['itemid', \"clock\"]].rename(columns={'clock': 'max_date'}).groupby(\"itemid\").max()\n",
    "    df_avg_duration[\"min_date\"] = df_item_trend[['itemid', \"clock\"]].groupby(\"itemid\").min()\n",
    "    df_avg_duration[\"duration_year\"] = (df_avg_duration.max_date - df_avg_duration.min_date).apply(lambda x: x.total_seconds()/(365.25*24*60*60))\n",
    "    \n",
    "    duration_avg = df_avg_duration.duration_year.mean()\n",
    "\n",
    "    return duration_avg"
   ]
  },
  {
   "cell_type": "code",
   "execution_count": 17,
   "metadata": {},
   "outputs": [
    {
     "name": "stdout",
     "output_type": "stream",
     "text": [
      "Average time-series duration in years : 1.2320902428594132.\n"
     ]
    }
   ],
   "source": [
    "duration_mean = duration_avg(df_item_trend)\n",
    "print(f\"Average time-series duration in years : {duration_mean}.\")"
   ]
  },
  {
   "attachments": {},
   "cell_type": "markdown",
   "metadata": {},
   "source": [
    "We now combine the figures to get the annual cost of the configuration. "
   ]
  },
  {
   "cell_type": "code",
   "execution_count": 19,
   "metadata": {},
   "outputs": [
    {
     "data": {
      "text/plain": [
       "(9863835.616438357, 6502691.45)"
      ]
     },
     "execution_count": 19,
     "metadata": {},
     "output_type": "execute_result"
    }
   ],
   "source": [
    "saturation_cost(df_item_trend), calculate_price(df_cockpit, df_mycloud)"
   ]
  },
  {
   "cell_type": "code",
   "execution_count": 18,
   "metadata": {},
   "outputs": [
    {
     "ename": "NameError",
     "evalue": "name 'calculate_price' is not defined",
     "output_type": "error",
     "traceback": [
      "\u001b[0;31m---------------------------------------------------------------------------\u001b[0m",
      "\u001b[0;31mNameError\u001b[0m                                 Traceback (most recent call last)",
      "Cell \u001b[0;32mIn [18], line 1\u001b[0m\n\u001b[0;32m----> 1\u001b[0m total_config_price \u001b[39m=\u001b[39m saturation_cost(df_item_trend)\u001b[39m/\u001b[39mduration_mean \u001b[39m+\u001b[39m calculate_price(df_cockpit, df_mycloud)\n\u001b[1;32m      2\u001b[0m total_config_price\n",
      "\u001b[0;31mNameError\u001b[0m: name 'calculate_price' is not defined"
     ]
    }
   ],
   "source": [
    "total_config_price = saturation_cost(df_item_trend)/duration_mean + calculate_price(df_cockpit, df_mycloud)\n",
    "total_config_price"
   ]
  },
  {
   "attachments": {},
   "cell_type": "markdown",
   "metadata": {},
   "source": [
    "### Test packaged functions"
   ]
  },
  {
   "cell_type": "code",
   "execution_count": 4,
   "metadata": {},
   "outputs": [],
   "source": [
    "from src.pricing import find_closest, annual_config_price, total_saturation_cost, ts_duration_mean"
   ]
  },
  {
   "cell_type": "code",
   "execution_count": 10,
   "metadata": {},
   "outputs": [],
   "source": [
    "def get_all_costs(df_cockpit,\\\n",
    "    df_mycloud, \n",
    "    df_item_trend,\n",
    "    salary_year=40000, \n",
    "    number_users=1, \n",
    "    project_daily_value=0, \n",
    "    saturation_threshold=99):\n",
    "    '''\n",
    "    Main cost calculus fonction. Calculates both saturation cost and configuration price. \n",
    "\n",
    "    Args:\n",
    "        df_cockpit : pandas.DataFrame([\"RAM\", \"CPU\", \"Price\"]) \n",
    "            = table of the configuration\n",
    "        df_mycloud : pandas.DataFrame([\"ram\", \"number_cpu\", \"name_server\"]) \n",
    "            = table of the catalogue of prices of mycloud servors\n",
    "        df_item_trend : pd.DataFrame([itemid, clock]) \n",
    "            = table of the time series\n",
    "        salary_year : int \n",
    "            = annual average salary of the people working with the servers\n",
    "        number_users : int \n",
    "            = average number of users depending on the applications\n",
    "        project_daily_value : int \n",
    "            = daily financial impact of delay of the project \n",
    "        saturation_threshold : int \n",
    "            = usage percentage from which we consider that the item is saturated\n",
    "    Outputs:\n",
    "        annual_config_price : int = annual price of all the servers \n",
    "        total_saturation_cost : int = total cost of saturations over the period covered by df_item_trend \n",
    "        ts_average_duration : int = average duration covered by the time-series of df_item_trend\n",
    "        total_annual_config_price : int = total annual price of the configuration (usage+saturation)\n",
    "    '''\n",
    "\n",
    "    annual_conf_price = annual_config_price(df_cockpit, df_mycloud)\n",
    "    total_sat_cost = total_saturation_cost(df_item_trend,\\\n",
    "         salary_year, \n",
    "         number_users, \n",
    "         project_daily_value, \n",
    "         saturation_threshold)\n",
    "    ts_average_duration = ts_duration_mean(df_item_trend)\n",
    "\n",
    "    total_annual_config_price = total_sat_cost/ts_average_duration + annual_conf_price\n",
    "\n",
    "    print(f\"Annual configuration price : {int(annual_conf_price.round())}€.\")\n",
    "    print(f\"Total saturation cost : {int(total_sat_cost.round())}€.\")\n",
    "    print(f\"Time-series average duration : {ts_average_duration.round(3)} years.\")\n",
    "    print(f\"Total annual configuration expenses (servers' usage and saturation) : {int(total_annual_config_price.round())}€.\")\n",
    "\n",
    "    return annual_conf_price, total_sat_cost, ts_average_duration, total_annual_config_price\n"
   ]
  },
  {
   "cell_type": "code",
   "execution_count": 7,
   "metadata": {},
   "outputs": [
    {
     "data": {
      "text/plain": [
       "1.2320902428594132"
      ]
     },
     "execution_count": 7,
     "metadata": {},
     "output_type": "execute_result"
    }
   ],
   "source": [
    "ts_duration_mean(df_item_trend)"
   ]
  },
  {
   "cell_type": "code",
   "execution_count": 6,
   "metadata": {},
   "outputs": [
    {
     "data": {
      "text/plain": [
       "1626016.2601626017"
      ]
     },
     "execution_count": 6,
     "metadata": {},
     "output_type": "execute_result"
    }
   ],
   "source": [
    "2000000/1.23"
   ]
  },
  {
   "cell_type": "code",
   "execution_count": 5,
   "metadata": {},
   "outputs": [
    {
     "name": "stdout",
     "output_type": "stream",
     "text": [
      "Annual configuration price : 6502691€.\n",
      "Total saturation cost : 2069346€.\n",
      "Time-series average duration : 1 years.\n",
      "Total annual configuration expenses (servers' usage and saturation) : 8182232€.\n"
     ]
    }
   ],
   "source": [
    "from src.pricing import get_all_costs\n",
    "annual_conf_price, total_sat_cost, ts_average_duration, total_annual_config_price = get_all_costs(df_cockpit, df_mycloud, df_item_trend)"
   ]
  },
  {
   "cell_type": "code",
   "execution_count": 11,
   "metadata": {},
   "outputs": [
    {
     "name": "stdout",
     "output_type": "stream",
     "text": [
      "Annual configuration price : 6502691€.\n",
      "Total saturation cost : 9863836€.\n",
      "Time-series average duration : 1.232 years.\n",
      "Total annual configuration expenses (servers' usage and saturation) : 14508465€.\n"
     ]
    }
   ],
   "source": [
    "annual_conf_price, total_sat_cost, ts_average_duration, total_annual_config_price = get_all_costs(df_cockpit, df_mycloud, df_item_trend)"
   ]
  },
  {
   "cell_type": "code",
   "execution_count": 12,
   "metadata": {},
   "outputs": [
    {
     "data": {
      "text/plain": [
       "8006360.38961039"
      ]
     },
     "execution_count": 12,
     "metadata": {},
     "output_type": "execute_result"
    }
   ],
   "source": [
    "9863836/1.232"
   ]
  },
  {
   "cell_type": "code",
   "execution_count": null,
   "metadata": {},
   "outputs": [],
   "source": []
  }
 ],
 "metadata": {
  "kernelspec": {
   "display_name": "Python 3",
   "language": "python",
   "name": "python3"
  },
  "language_info": {
   "codemirror_mode": {
    "name": "ipython",
    "version": 3
   },
   "file_extension": ".py",
   "mimetype": "text/x-python",
   "name": "python",
   "nbconvert_exporter": "python",
   "pygments_lexer": "ipython3",
   "version": "3.9.6"
  },
  "orig_nbformat": 4,
  "vscode": {
   "interpreter": {
    "hash": "aee8b7b246df8f9039afb4144a1f6fd8d2ca17a180786b69acc140d282b71a49"
   }
  }
 },
 "nbformat": 4,
 "nbformat_minor": 2
}
